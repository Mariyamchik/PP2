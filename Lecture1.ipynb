{
 "cells": [
  {
   "cell_type": "markdown",
   "id": "2c23948f-9573-4ecf-a485-ff30ed0d2c8e",
   "metadata": {},
   "source": [
    "HOME\n",
    "Example 1"
   ]
  },
  {
   "cell_type": "code",
   "execution_count": 3,
   "id": "90064576-bcd3-48e4-9d71-4774886fb726",
   "metadata": {},
   "outputs": [
    {
     "name": "stdout",
     "output_type": "stream",
     "text": [
      "Hello, World!\n"
     ]
    }
   ],
   "source": [
    "print(\"Hello, World!\")"
   ]
  },
  {
   "cell_type": "markdown",
   "id": "96f71504-6a2f-4a52-a8f2-ad2d8169ae85",
   "metadata": {},
   "source": [
    "INTRO Example 2"
   ]
  },
  {
   "cell_type": "code",
   "execution_count": 12,
   "id": "e7eca8dc-1a02-4bd2-8596-cd5ba82bbb49",
   "metadata": {},
   "outputs": [
    {
     "name": "stdout",
     "output_type": "stream",
     "text": [
      "Hello, World!\n"
     ]
    }
   ],
   "source": [
    "print(\"Hello, World!\")"
   ]
  },
  {
   "cell_type": "markdown",
   "id": "e7f6f340-a52c-478d-871b-6945fccfb8c6",
   "metadata": {},
   "source": [
    "GET STARTED Example 3"
   ]
  },
  {
   "cell_type": "code",
   "execution_count": 15,
   "id": "d62ac6c6-c4f0-4375-99ac-21fa46c87ab0",
   "metadata": {},
   "outputs": [
    {
     "name": "stdout",
     "output_type": "stream",
     "text": [
      "Hello, World!\n"
     ]
    }
   ],
   "source": [
    "print(\"Hello, World!\")"
   ]
  },
  {
   "cell_type": "markdown",
   "id": "834d708b-3ef1-40ab-8759-e78db559277a",
   "metadata": {},
   "source": [
    "SYNTAX Example 4"
   ]
  },
  {
   "cell_type": "code",
   "execution_count": 18,
   "id": "38f62d40-676f-43a5-bbbd-7025bec778bd",
   "metadata": {},
   "outputs": [
    {
     "name": "stdout",
     "output_type": "stream",
     "text": [
      "Five is greater than two!\n"
     ]
    }
   ],
   "source": [
    "if 5 > 2:\n",
    "  print(\"Five is greater than two!\")"
   ]
  },
  {
   "cell_type": "markdown",
   "id": "1b8ac1fe-f777-4c85-9375-708b5a61439b",
   "metadata": {},
   "source": [
    "Example 5"
   ]
  },
  {
   "cell_type": "code",
   "execution_count": 21,
   "id": "72aceb77-1371-46f1-8532-96baa6a67eea",
   "metadata": {},
   "outputs": [
    {
     "name": "stdout",
     "output_type": "stream",
     "text": [
      "Five is greater than two!\n",
      "Five is greater than two!\n"
     ]
    }
   ],
   "source": [
    "if 5 > 2:\n",
    " print(\"Five is greater than two!\") \n",
    "if 5 > 2:\n",
    "        print(\"Five is greater than two!\")"
   ]
  },
  {
   "cell_type": "markdown",
   "id": "af4f0b24-696c-4d5f-acb4-85a628356dd8",
   "metadata": {},
   "source": [
    "Example 6 Variables in Python:"
   ]
  },
  {
   "cell_type": "code",
   "execution_count": 24,
   "id": "d2f9e5ec-d786-4b9e-90c5-ddd7842c96ca",
   "metadata": {},
   "outputs": [],
   "source": [
    "x = 5\n",
    "y = \"Hello, World!\""
   ]
  },
  {
   "cell_type": "markdown",
   "id": "637e50c3-7f8d-4cc9-bb8e-ec3aae0242cf",
   "metadata": {},
   "source": [
    "Example 7 Comments in Python:"
   ]
  },
  {
   "cell_type": "code",
   "execution_count": 28,
   "id": "a9413600-e636-488d-a7a8-a67652e5899d",
   "metadata": {},
   "outputs": [
    {
     "name": "stdout",
     "output_type": "stream",
     "text": [
      "Hello, World!\n"
     ]
    }
   ],
   "source": [
    "#This is a comment.\n",
    "print(\"Hello, World!\")"
   ]
  },
  {
   "cell_type": "markdown",
   "id": "d9d1f937-1958-413f-b7a1-deecebf3900f",
   "metadata": {},
   "source": [
    "COMMENTS Example 8"
   ]
  },
  {
   "cell_type": "code",
   "execution_count": 33,
   "id": "00409f8a-29d9-401d-9cc9-c5d9ac7684cd",
   "metadata": {},
   "outputs": [
    {
     "name": "stdout",
     "output_type": "stream",
     "text": [
      "Hello, World!\n"
     ]
    }
   ],
   "source": [
    "#This is a comment\n",
    "print(\"Hello, World!\")"
   ]
  },
  {
   "cell_type": "markdown",
   "id": "6dbb4634-ba6f-4e1c-b98a-76f5b2b583cb",
   "metadata": {},
   "source": [
    "Example 9"
   ]
  },
  {
   "cell_type": "code",
   "execution_count": 36,
   "id": "09ac772a-c7d6-4d01-b6d6-2b93a7f7b665",
   "metadata": {},
   "outputs": [
    {
     "name": "stdout",
     "output_type": "stream",
     "text": [
      "Hello, World!\n"
     ]
    }
   ],
   "source": [
    "print(\"Hello, World!\") #This is a comment"
   ]
  },
  {
   "cell_type": "markdown",
   "id": "05fb82e0-c865-4324-b498-00667c12e352",
   "metadata": {},
   "source": [
    "Example 10"
   ]
  },
  {
   "cell_type": "code",
   "execution_count": 39,
   "id": "761241f0-8207-475d-a15b-dfb4bf5bd5ae",
   "metadata": {},
   "outputs": [
    {
     "name": "stdout",
     "output_type": "stream",
     "text": [
      "Cheers, Mate!\n"
     ]
    }
   ],
   "source": [
    "#print(\"Hello, World!\")\n",
    "print(\"Cheers, Mate!\")"
   ]
  },
  {
   "cell_type": "markdown",
   "id": "b3610d8b-bb42-41ea-9ab5-a1c39dcb0058",
   "metadata": {},
   "source": [
    "Example 11"
   ]
  },
  {
   "cell_type": "code",
   "execution_count": 42,
   "id": "418661be-854c-4b57-8738-f9b2ba31e5c4",
   "metadata": {},
   "outputs": [
    {
     "name": "stdout",
     "output_type": "stream",
     "text": [
      "Hello, World!\n"
     ]
    }
   ],
   "source": [
    "#This is a comment\n",
    "#written in\n",
    "#more than just one line\n",
    "print(\"Hello, World!\")"
   ]
  },
  {
   "cell_type": "markdown",
   "id": "2850736e-ba22-4a11-be25-bc9f96b2008e",
   "metadata": {},
   "source": [
    "Example 12"
   ]
  },
  {
   "cell_type": "code",
   "execution_count": 45,
   "id": "bf85afdc-6f37-4273-bead-1841a89b0b63",
   "metadata": {},
   "outputs": [
    {
     "name": "stdout",
     "output_type": "stream",
     "text": [
      "Hello, World!\n"
     ]
    }
   ],
   "source": [
    "\"\"\"\n",
    "This is a comment\n",
    "written in\n",
    "more than just one line\n",
    "\"\"\"\n",
    "print(\"Hello, World!\")"
   ]
  },
  {
   "cell_type": "markdown",
   "id": "c0f56c44-22d4-4f5b-b4f7-270f90bf81ed",
   "metadata": {},
   "source": [
    "VARIABLES Example 13"
   ]
  },
  {
   "cell_type": "code",
   "execution_count": 48,
   "id": "bcd1ad59-36db-4631-aba3-364c2fd77b28",
   "metadata": {},
   "outputs": [
    {
     "name": "stdout",
     "output_type": "stream",
     "text": [
      "5\n",
      "John\n"
     ]
    }
   ],
   "source": [
    "x = 5\n",
    "y = \"John\"\n",
    "print(x)\n",
    "print(y)"
   ]
  },
  {
   "cell_type": "markdown",
   "id": "ca39cf70-c60c-44d5-b17d-4b570155b916",
   "metadata": {},
   "source": [
    "Example 14"
   ]
  },
  {
   "cell_type": "code",
   "execution_count": 53,
   "id": "cde37240-71aa-4f2f-a7a6-438b310cab3d",
   "metadata": {},
   "outputs": [
    {
     "name": "stdout",
     "output_type": "stream",
     "text": [
      "Sally\n"
     ]
    }
   ],
   "source": [
    "x = 4       # x is of type int\n",
    "x = \"Sally\" # x is now of type str\n",
    "print(x)"
   ]
  },
  {
   "cell_type": "markdown",
   "id": "ed933599-5ce4-453c-b3e3-997689b6458a",
   "metadata": {},
   "source": [
    "Example 15"
   ]
  },
  {
   "cell_type": "code",
   "execution_count": 58,
   "id": "7e3471ae-20de-4d7e-aef0-8458135cbcca",
   "metadata": {},
   "outputs": [],
   "source": [
    "x = str(3)    # x will be '3'\n",
    "y = int(3)    # y will be 3\n",
    "z = float(3)  # z will be 3.0"
   ]
  },
  {
   "cell_type": "markdown",
   "id": "f645ecc6-b1b6-495e-ae63-e0dc2dae3f88",
   "metadata": {},
   "source": [
    "Example 16"
   ]
  },
  {
   "cell_type": "code",
   "execution_count": 61,
   "id": "cf2f018f-5809-43a8-b18f-aa4dc068ee7a",
   "metadata": {},
   "outputs": [
    {
     "name": "stdout",
     "output_type": "stream",
     "text": [
      "<class 'int'>\n",
      "<class 'str'>\n"
     ]
    }
   ],
   "source": [
    "x = 5\n",
    "y = \"John\"\n",
    "print(type(x))\n",
    "print(type(y))"
   ]
  },
  {
   "cell_type": "markdown",
   "id": "04b826fb-0c76-47dd-873c-0ade36371570",
   "metadata": {},
   "source": [
    "Example 17"
   ]
  },
  {
   "cell_type": "code",
   "execution_count": 64,
   "id": "a89bfe02-6cf7-420a-9611-f83d99fd1c64",
   "metadata": {},
   "outputs": [],
   "source": [
    "x = \"John\"\n",
    "# is the same as\n",
    "x = 'John'"
   ]
  },
  {
   "cell_type": "markdown",
   "id": "8ced8a4d-0ad6-44a5-a5d9-b9b141c066c6",
   "metadata": {},
   "source": [
    "Example 18"
   ]
  },
  {
   "cell_type": "code",
   "execution_count": 67,
   "id": "8f6fec48-575a-4424-944d-fd0110271d04",
   "metadata": {},
   "outputs": [],
   "source": [
    "a = 4\n",
    "A = \"Sally\"\n",
    "#A will not overwrite a"
   ]
  },
  {
   "cell_type": "markdown",
   "id": "474bc114-15cc-4b2e-a2b5-7761e579e214",
   "metadata": {},
   "source": [
    "VARIABLE NAMES Example 19"
   ]
  },
  {
   "cell_type": "code",
   "execution_count": 72,
   "id": "bc5af736-6b8a-41cd-bf3d-3fa1aae8361c",
   "metadata": {},
   "outputs": [],
   "source": [
    "myvar = \"John\"\n",
    "my_var = \"John\"\n",
    "_my_var = \"John\"\n",
    "myVar = \"John\"\n",
    "MYVAR = \"John\"\n",
    "myvar2 = \"John\""
   ]
  },
  {
   "cell_type": "markdown",
   "id": "fc71be10-a4c6-4be9-a07a-c4091f7145c1",
   "metadata": {},
   "source": [
    "ASSIGN MULTIPLE VALUES Example 20"
   ]
  },
  {
   "cell_type": "code",
   "execution_count": 75,
   "id": "414c10dd-e0c1-4779-9d2c-40694dc96752",
   "metadata": {},
   "outputs": [
    {
     "name": "stdout",
     "output_type": "stream",
     "text": [
      "Orange\n",
      "Banana\n",
      "Cherry\n"
     ]
    }
   ],
   "source": [
    "x, y, z = \"Orange\", \"Banana\", \"Cherry\"\n",
    "print(x)\n",
    "print(y)\n",
    "print(z)"
   ]
  },
  {
   "cell_type": "markdown",
   "id": "a15d71cb-7677-4a8e-bf35-58acb0e31d0b",
   "metadata": {},
   "source": [
    "Example 21"
   ]
  },
  {
   "cell_type": "code",
   "execution_count": 78,
   "id": "876b9ded-cab6-4385-ba40-3806a0bc6860",
   "metadata": {},
   "outputs": [
    {
     "name": "stdout",
     "output_type": "stream",
     "text": [
      "Orange\n",
      "Orange\n",
      "Orange\n"
     ]
    }
   ],
   "source": [
    "x = y = z = \"Orange\"\n",
    "print(x)\n",
    "print(y)\n",
    "print(z)"
   ]
  },
  {
   "cell_type": "markdown",
   "id": "981c51c6-a5a4-42e5-b13a-7915b34ac5d2",
   "metadata": {},
   "source": [
    "Example 22"
   ]
  },
  {
   "cell_type": "code",
   "execution_count": 81,
   "id": "d41289be-a930-4358-8d93-426322d49a76",
   "metadata": {},
   "outputs": [
    {
     "name": "stdout",
     "output_type": "stream",
     "text": [
      "apple\n",
      "banana\n",
      "cherry\n"
     ]
    }
   ],
   "source": [
    "fruits = [\"apple\", \"banana\", \"cherry\"]\n",
    "x, y, z = fruits\n",
    "print(x)\n",
    "print(y)\n",
    "print(z)"
   ]
  },
  {
   "cell_type": "markdown",
   "id": "a11c4885-f6ec-4fd5-8a93-6a3cd2973585",
   "metadata": {},
   "source": [
    "OUTPUT VARIABLES Example 23"
   ]
  },
  {
   "cell_type": "code",
   "execution_count": 84,
   "id": "cfe99603-9121-4b5f-87ac-ca30ec9220c7",
   "metadata": {},
   "outputs": [
    {
     "name": "stdout",
     "output_type": "stream",
     "text": [
      "Python is awesome\n"
     ]
    }
   ],
   "source": [
    "x = \"Python is awesome\"\n",
    "print(x)"
   ]
  },
  {
   "cell_type": "markdown",
   "id": "6de91f3c-97f9-44f2-8323-00b04471fca6",
   "metadata": {},
   "source": [
    "Example 24"
   ]
  },
  {
   "cell_type": "code",
   "execution_count": 87,
   "id": "28b824a4-b6d8-4413-92a9-e9e124c72b92",
   "metadata": {},
   "outputs": [
    {
     "name": "stdout",
     "output_type": "stream",
     "text": [
      "Python is awesome\n"
     ]
    }
   ],
   "source": [
    "x = \"Python\"\n",
    "y = \"is\"\n",
    "z = \"awesome\"\n",
    "print(x, y, z)"
   ]
  },
  {
   "cell_type": "markdown",
   "id": "32370f2a-7c61-4cf1-91f9-86f55fb1bf2e",
   "metadata": {},
   "source": [
    "Example 25"
   ]
  },
  {
   "cell_type": "code",
   "execution_count": 90,
   "id": "0e3e6a50-ae15-489b-8da9-9317b1dcea7f",
   "metadata": {},
   "outputs": [
    {
     "name": "stdout",
     "output_type": "stream",
     "text": [
      "Python is awesome\n"
     ]
    }
   ],
   "source": [
    "x = \"Python \"\n",
    "y = \"is \"\n",
    "z = \"awesome\"\n",
    "print(x + y + z)"
   ]
  },
  {
   "cell_type": "markdown",
   "id": "fcc6117b-0340-44a7-a430-d2ff8a4eb06c",
   "metadata": {},
   "source": [
    "Example 26"
   ]
  },
  {
   "cell_type": "code",
   "execution_count": 93,
   "id": "1795ee7f-13d2-443a-ac3f-deaecec4ac2b",
   "metadata": {},
   "outputs": [
    {
     "name": "stdout",
     "output_type": "stream",
     "text": [
      "15\n"
     ]
    }
   ],
   "source": [
    "x = 5\n",
    "y = 10\n",
    "print(x + y)"
   ]
  },
  {
   "cell_type": "markdown",
   "id": "e34e91b4-1caf-4bdd-a759-53a361ac9d8a",
   "metadata": {},
   "source": [
    "Example 27"
   ]
  },
  {
   "cell_type": "code",
   "execution_count": 96,
   "id": "7995628d-11c2-420f-9abf-d5a9e9af44e7",
   "metadata": {},
   "outputs": [
    {
     "name": "stdout",
     "output_type": "stream",
     "text": [
      "5 John\n"
     ]
    }
   ],
   "source": [
    "x = 5\n",
    "y = \"John\"\n",
    "print(x, y)"
   ]
  },
  {
   "cell_type": "markdown",
   "id": "d2e44763-83e7-46eb-8a7d-d0208075f1ba",
   "metadata": {},
   "source": [
    "GLOBAL VARIABLES Example 28"
   ]
  },
  {
   "cell_type": "code",
   "execution_count": 99,
   "id": "dbd4697c-3ea9-43d2-bfea-df1d213ec23e",
   "metadata": {},
   "outputs": [
    {
     "name": "stdout",
     "output_type": "stream",
     "text": [
      "Python is awesome\n"
     ]
    }
   ],
   "source": [
    "x = \"awesome\"\n",
    "\n",
    "def myfunc():\n",
    "  print(\"Python is \" + x)\n",
    "\n",
    "myfunc()"
   ]
  },
  {
   "cell_type": "markdown",
   "id": "549d75f8-98c6-4f38-8cb7-5afca34b4c69",
   "metadata": {},
   "source": [
    "Example 29"
   ]
  },
  {
   "cell_type": "code",
   "execution_count": 102,
   "id": "1f014572-0a32-4e95-99b2-be4e72e93403",
   "metadata": {},
   "outputs": [
    {
     "name": "stdout",
     "output_type": "stream",
     "text": [
      "Python is fantastic\n",
      "Python is awesome\n"
     ]
    }
   ],
   "source": [
    "x = \"awesome\"\n",
    "\n",
    "def myfunc():\n",
    "  x = \"fantastic\"\n",
    "  print(\"Python is \" + x)\n",
    "\n",
    "myfunc()\n",
    "\n",
    "print(\"Python is \" + x)"
   ]
  },
  {
   "cell_type": "code",
   "execution_count": 104,
   "id": "5cd9dc9b-de3b-4e2b-ac49-ac9e88feaff2",
   "metadata": {},
   "outputs": [
    {
     "name": "stdout",
     "output_type": "stream",
     "text": [
      "Python is fantastic\n"
     ]
    }
   ],
   "source": [
    "def myfunc():\n",
    "  global x\n",
    "  x = \"fantastic\"\n",
    "\n",
    "myfunc()\n",
    "\n",
    "print(\"Python is \" + x)"
   ]
  },
  {
   "cell_type": "markdown",
   "id": "bdaaff07-acf9-43a4-a2ca-a16f9d3b577e",
   "metadata": {},
   "source": [
    "Example 30"
   ]
  },
  {
   "cell_type": "code",
   "execution_count": 109,
   "id": "d0c90058-15aa-4c5b-a15d-d498414b895b",
   "metadata": {},
   "outputs": [
    {
     "name": "stdout",
     "output_type": "stream",
     "text": [
      "Python is fantastic\n"
     ]
    }
   ],
   "source": [
    "x = \"awesome\"\n",
    "\n",
    "def myfunc():\n",
    "  global x\n",
    "  x = \"fantastic\"\n",
    "\n",
    "myfunc()\n",
    "\n",
    "print(\"Python is \" + x)"
   ]
  },
  {
   "cell_type": "markdown",
   "id": "4347bf80-e380-4daa-a3bf-4c3601d06126",
   "metadata": {},
   "source": [
    "DATA TYPES Example 31"
   ]
  },
  {
   "cell_type": "code",
   "execution_count": 115,
   "id": "42977aff-849b-4874-aa04-c8978a10ff8e",
   "metadata": {},
   "outputs": [
    {
     "name": "stdout",
     "output_type": "stream",
     "text": [
      "<class 'int'>\n"
     ]
    }
   ],
   "source": [
    "x = 5\n",
    "print(type(x))"
   ]
  },
  {
   "cell_type": "markdown",
   "id": "077196cf-ef4c-40ce-adb6-386b8cc80d4c",
   "metadata": {},
   "source": [
    "Example 32"
   ]
  },
  {
   "cell_type": "code",
   "execution_count": 118,
   "id": "96eb246a-b12e-4a2a-ba6c-12a7bbc17ecb",
   "metadata": {},
   "outputs": [],
   "source": [
    "x = \"Hello World\"\t#str\t\n",
    "x = 20\t#int\t\n",
    "x = 20.5\t#float\t\n",
    "x = 1j\t#complex\t\n",
    "x = [\"apple\", \"banana\", \"cherry\"]\t#list\t\n",
    "x = (\"apple\", \"banana\", \"cherry\")\t#tuple\t\n",
    "x = range(6)\t#range\t\n",
    "x = {\"name\" : \"John\", \"age\" : 36}\t#dict\t\n",
    "x = {\"apple\", \"banana\", \"cherry\"}\t#set\t\n",
    "x = frozenset({\"apple\", \"banana\", \"cherry\"})\t#frozenset\t\n",
    "x = True\t#bool\t\n",
    "x = b\"Hello\"\t#bytes\t\n",
    "x = bytearray(5)\t#bytearray\t\n",
    "x = memoryview(bytes(5))\t#memoryview\t\n",
    "x = None\t#NoneType"
   ]
  },
  {
   "cell_type": "markdown",
   "id": "6fe2b1d0-ee16-4f22-bade-882d5570cffb",
   "metadata": {},
   "source": [
    "Example 33"
   ]
  },
  {
   "cell_type": "code",
   "execution_count": 123,
   "id": "99cb1028-e2eb-4f08-bae2-9dc8a94aa237",
   "metadata": {},
   "outputs": [],
   "source": [
    "x = str(\"Hello World\")\t#str\t\n",
    "x = int(20)\t#int\t\n",
    "x = float(20.5)\t#float\t\n",
    "x = complex(1j)\t#complex\t\n",
    "x = list((\"apple\", \"banana\", \"cherry\"))\t#list\t\n",
    "x = tuple((\"apple\", \"banana\", \"cherry\"))\t#tuple\t\n",
    "x = range(6)\t#range\t\n",
    "x = dict(name=\"John\", age=36)\t#dict\t\n",
    "x = set((\"apple\", \"banana\", \"cherry\"))\t#set\t\n",
    "x = frozenset((\"apple\", \"banana\", \"cherry\"))\t#frozenset\t\n",
    "x = bool(5)\t#bool\t\n",
    "x = bytes(5)\t#bytes\t\n",
    "x = bytearray(5)\t#bytearray\t\n",
    "x = memoryview(bytes(5))\t#memoryview"
   ]
  },
  {
   "cell_type": "markdown",
   "id": "93e8ce21-a53c-40ce-8fa9-8e2633545440",
   "metadata": {},
   "source": [
    "NUMBERS Example 34"
   ]
  },
  {
   "cell_type": "code",
   "execution_count": 126,
   "id": "9a40edce-1885-4089-9f8d-85988b26f9f4",
   "metadata": {},
   "outputs": [],
   "source": [
    "x = 1    # int\n",
    "y = 2.8  # float\n",
    "z = 1j   # complex"
   ]
  },
  {
   "cell_type": "markdown",
   "id": "9d1a158e-224d-4679-98de-39895efb8abe",
   "metadata": {},
   "source": [
    "Example 35"
   ]
  },
  {
   "cell_type": "code",
   "execution_count": 129,
   "id": "d058151b-750a-4cbe-91ad-59acd45bce24",
   "metadata": {},
   "outputs": [
    {
     "name": "stdout",
     "output_type": "stream",
     "text": [
      "<class 'int'>\n",
      "<class 'float'>\n",
      "<class 'complex'>\n"
     ]
    }
   ],
   "source": [
    "x = 1    # int\n",
    "y = 2.8  # float\n",
    "z = 1j   # complex\n",
    "print(type(x))\n",
    "print(type(y))\n",
    "print(type(z))"
   ]
  },
  {
   "cell_type": "markdown",
   "id": "f1757ee5-807d-4f88-9aca-0ab5216ff70e",
   "metadata": {},
   "source": [
    "Example 36"
   ]
  },
  {
   "cell_type": "code",
   "execution_count": 132,
   "id": "9dbaafb2-f925-4475-9e6c-5606ac7b10b2",
   "metadata": {},
   "outputs": [
    {
     "name": "stdout",
     "output_type": "stream",
     "text": [
      "<class 'int'>\n",
      "<class 'int'>\n",
      "<class 'int'>\n"
     ]
    }
   ],
   "source": [
    "x = 1\n",
    "y = 35656222554887711\n",
    "z = -3255522\n",
    "\n",
    "print(type(x))\n",
    "print(type(y))\n",
    "print(type(z))"
   ]
  },
  {
   "cell_type": "markdown",
   "id": "b3ca0a31-345f-4a07-b920-e1ba0ba75faa",
   "metadata": {},
   "source": [
    "Example 37"
   ]
  },
  {
   "cell_type": "code",
   "execution_count": 135,
   "id": "a4f62750-6353-4c99-967f-a0495c86310f",
   "metadata": {},
   "outputs": [
    {
     "name": "stdout",
     "output_type": "stream",
     "text": [
      "<class 'float'>\n",
      "<class 'float'>\n",
      "<class 'float'>\n"
     ]
    }
   ],
   "source": [
    "x = 1.10\n",
    "y = 1.0\n",
    "z = -35.59\n",
    "\n",
    "print(type(x))\n",
    "print(type(y))\n",
    "print(type(z))"
   ]
  },
  {
   "cell_type": "markdown",
   "id": "697322ef-f768-4cf5-b093-eede38a370e2",
   "metadata": {},
   "source": [
    "Example 38"
   ]
  },
  {
   "cell_type": "code",
   "execution_count": 138,
   "id": "43f970d5-3e1e-4d21-820f-9421e74f20f4",
   "metadata": {},
   "outputs": [
    {
     "name": "stdout",
     "output_type": "stream",
     "text": [
      "<class 'float'>\n",
      "<class 'float'>\n",
      "<class 'float'>\n"
     ]
    }
   ],
   "source": [
    "x = 35e3\n",
    "y = 12E4\n",
    "z = -87.7e100\n",
    "\n",
    "print(type(x))\n",
    "print(type(y))\n",
    "print(type(z))"
   ]
  },
  {
   "cell_type": "markdown",
   "id": "68a14178-68b3-4c6f-9886-ed29c64a9dd2",
   "metadata": {},
   "source": [
    "Example 39"
   ]
  },
  {
   "cell_type": "code",
   "execution_count": 141,
   "id": "0c2f4b52-42e6-4666-85a2-ea4bbe2517e3",
   "metadata": {},
   "outputs": [
    {
     "name": "stdout",
     "output_type": "stream",
     "text": [
      "<class 'complex'>\n",
      "<class 'complex'>\n",
      "<class 'complex'>\n"
     ]
    }
   ],
   "source": [
    "x = 3+5j\n",
    "y = 5j\n",
    "z = -5j\n",
    "\n",
    "print(type(x))\n",
    "print(type(y))\n",
    "print(type(z))"
   ]
  },
  {
   "cell_type": "markdown",
   "id": "7669b839-0e6b-4bfb-a8b2-3f719a0d0445",
   "metadata": {},
   "source": [
    "Example 40"
   ]
  },
  {
   "cell_type": "code",
   "execution_count": 144,
   "id": "cf4e8179-43da-4506-a008-a3249c462ede",
   "metadata": {},
   "outputs": [
    {
     "name": "stdout",
     "output_type": "stream",
     "text": [
      "1.0\n",
      "2\n",
      "(1+0j)\n",
      "<class 'float'>\n",
      "<class 'int'>\n",
      "<class 'complex'>\n"
     ]
    }
   ],
   "source": [
    "x = 1    # int\n",
    "y = 2.8  # float\n",
    "z = 1j   # complex\n",
    "\n",
    "#convert from int to float:\n",
    "a = float(x)\n",
    "\n",
    "#convert from float to int:\n",
    "b = int(y)\n",
    "\n",
    "#convert from int to complex:\n",
    "c = complex(x)\n",
    "\n",
    "print(a)\n",
    "print(b)\n",
    "print(c)\n",
    "\n",
    "print(type(a))\n",
    "print(type(b))\n",
    "print(type(c))"
   ]
  },
  {
   "cell_type": "markdown",
   "id": "d75d0d3c-906b-4843-a2ce-953c544bc2a4",
   "metadata": {},
   "source": [
    "Example 41"
   ]
  },
  {
   "cell_type": "code",
   "execution_count": 147,
   "id": "4f63556d-cba2-462a-81c4-73152ab4d5ac",
   "metadata": {},
   "outputs": [
    {
     "name": "stdout",
     "output_type": "stream",
     "text": [
      "3\n"
     ]
    }
   ],
   "source": [
    "import random\n",
    "\n",
    "print(random.randrange(1, 10))"
   ]
  },
  {
   "cell_type": "markdown",
   "id": "3f4af035-f297-4132-b564-bd46f7ca7ca9",
   "metadata": {},
   "source": [
    "CASTING Example 42"
   ]
  },
  {
   "cell_type": "code",
   "execution_count": 150,
   "id": "f77d5d53-9114-4f2f-ab0e-2120fcbace9d",
   "metadata": {},
   "outputs": [],
   "source": [
    "x = int(1)   # x will be 1\n",
    "y = int(2.8) # y will be 2\n",
    "z = int(\"3\") # z will be 3"
   ]
  },
  {
   "cell_type": "markdown",
   "id": "0c8007a3-e293-4ce3-81b5-fcec95ec5937",
   "metadata": {},
   "source": [
    "Example 43"
   ]
  },
  {
   "cell_type": "code",
   "execution_count": 153,
   "id": "3ba3ff4b-9501-4a15-ae59-31c2e0b7b911",
   "metadata": {},
   "outputs": [],
   "source": [
    "x = float(1)     # x will be 1.0\n",
    "y = float(2.8)   # y will be 2.8\n",
    "z = float(\"3\")   # z will be 3.0\n",
    "w = float(\"4.2\") # w will be 4.2"
   ]
  },
  {
   "cell_type": "markdown",
   "id": "efe74eca-0dd7-48f7-93e6-76dda1dfefd1",
   "metadata": {},
   "source": [
    "Example 44"
   ]
  },
  {
   "cell_type": "code",
   "execution_count": 156,
   "id": "b60e9aa7-1a61-41e8-a98e-7645113ccf5e",
   "metadata": {},
   "outputs": [],
   "source": [
    "x = str(\"s1\") # x will be 's1'\n",
    "y = str(2)    # y will be '2'\n",
    "z = str(3.0)  # z will be '3.0'"
   ]
  },
  {
   "cell_type": "markdown",
   "id": "df8b161f-41cf-4e05-9ea9-6e36cd8808a7",
   "metadata": {},
   "source": [
    "STRINGS Example 45"
   ]
  },
  {
   "cell_type": "code",
   "execution_count": 161,
   "id": "23434c48-0ff9-40b4-ae75-0b229bac5444",
   "metadata": {},
   "outputs": [
    {
     "name": "stdout",
     "output_type": "stream",
     "text": [
      "Hello\n",
      "Hello\n"
     ]
    }
   ],
   "source": [
    "print(\"Hello\")\n",
    "print('Hello')"
   ]
  },
  {
   "cell_type": "markdown",
   "id": "7d7a3f5a-622d-4408-94b4-fa1913f9bb77",
   "metadata": {},
   "source": [
    "Example 46"
   ]
  },
  {
   "cell_type": "code",
   "execution_count": 164,
   "id": "74b27238-f1db-4514-8cb6-d99f786ae82c",
   "metadata": {},
   "outputs": [
    {
     "name": "stdout",
     "output_type": "stream",
     "text": [
      "It's alright\n",
      "He is called 'Johnny'\n",
      "He is called \"Johnny\"\n"
     ]
    }
   ],
   "source": [
    "print(\"It's alright\")\n",
    "print(\"He is called 'Johnny'\")\n",
    "print('He is called \"Johnny\"')"
   ]
  },
  {
   "cell_type": "markdown",
   "id": "c8e8ff60-dac8-44f9-a4ab-334d718559b3",
   "metadata": {},
   "source": [
    "Example 47"
   ]
  },
  {
   "cell_type": "code",
   "execution_count": 167,
   "id": "81ad60fb-f834-4d7e-a112-75a545349de0",
   "metadata": {},
   "outputs": [
    {
     "name": "stdout",
     "output_type": "stream",
     "text": [
      "Hello\n"
     ]
    }
   ],
   "source": [
    "a = \"Hello\"\n",
    "print(a)"
   ]
  },
  {
   "cell_type": "markdown",
   "id": "133d106f-1914-4692-aeef-100da6286205",
   "metadata": {},
   "source": [
    "Example 48"
   ]
  },
  {
   "cell_type": "code",
   "execution_count": 170,
   "id": "1b335b99-512e-4e93-bceb-b52cf4306653",
   "metadata": {},
   "outputs": [
    {
     "name": "stdout",
     "output_type": "stream",
     "text": [
      "Lorem ipsum dolor sit amet,\n",
      "consectetur adipiscing elit,\n",
      "sed do eiusmod tempor incididunt\n",
      "ut labore et dolore magna aliqua.\n"
     ]
    }
   ],
   "source": [
    "a = \"\"\"Lorem ipsum dolor sit amet,\n",
    "consectetur adipiscing elit,\n",
    "sed do eiusmod tempor incididunt\n",
    "ut labore et dolore magna aliqua.\"\"\"\n",
    "print(a)"
   ]
  },
  {
   "cell_type": "markdown",
   "id": "933912e1-485b-4ee7-a9e2-b7729e5cbc11",
   "metadata": {},
   "source": [
    "Example 49"
   ]
  },
  {
   "cell_type": "code",
   "execution_count": 173,
   "id": "6d9fec99-0a7e-45bd-9744-70f85b177964",
   "metadata": {},
   "outputs": [
    {
     "name": "stdout",
     "output_type": "stream",
     "text": [
      "Lorem ipsum dolor sit amet,\n",
      "consectetur adipiscing elit,\n",
      "sed do eiusmod tempor incididunt\n",
      "ut labore et dolore magna aliqua.\n"
     ]
    }
   ],
   "source": [
    "a = '''Lorem ipsum dolor sit amet,\n",
    "consectetur adipiscing elit,\n",
    "sed do eiusmod tempor incididunt\n",
    "ut labore et dolore magna aliqua.'''\n",
    "print(a)"
   ]
  },
  {
   "cell_type": "markdown",
   "id": "1d2838c7-596a-4b65-ade5-f66be1144076",
   "metadata": {},
   "source": [
    "Example 50"
   ]
  },
  {
   "cell_type": "code",
   "execution_count": 176,
   "id": "f1507442-cc9c-4178-93f9-1689b405238c",
   "metadata": {},
   "outputs": [
    {
     "name": "stdout",
     "output_type": "stream",
     "text": [
      "e\n"
     ]
    }
   ],
   "source": [
    "a = \"Hello, World!\"\n",
    "print(a[1])"
   ]
  },
  {
   "cell_type": "markdown",
   "id": "4739a964-04f5-4a4f-b36e-7c9ea4cfd045",
   "metadata": {},
   "source": [
    "Example 51"
   ]
  },
  {
   "cell_type": "code",
   "execution_count": 179,
   "id": "4658039d-bd14-4884-b783-d5951dcb5c35",
   "metadata": {},
   "outputs": [
    {
     "name": "stdout",
     "output_type": "stream",
     "text": [
      "b\n",
      "a\n",
      "n\n",
      "a\n",
      "n\n",
      "a\n"
     ]
    }
   ],
   "source": [
    "for x in \"banana\":\n",
    "  print(x)"
   ]
  },
  {
   "cell_type": "markdown",
   "id": "a01def5e-6a18-4899-a65a-cf26be7ebac6",
   "metadata": {},
   "source": [
    "Example 52"
   ]
  },
  {
   "cell_type": "code",
   "execution_count": 182,
   "id": "05fae943-4ba2-49ca-8483-dd60bd351934",
   "metadata": {},
   "outputs": [
    {
     "name": "stdout",
     "output_type": "stream",
     "text": [
      "13\n"
     ]
    }
   ],
   "source": [
    "a = \"Hello, World!\"\n",
    "print(len(a))"
   ]
  },
  {
   "cell_type": "markdown",
   "id": "baa6d4bf-9ca5-40b7-8d5b-446cda73586e",
   "metadata": {},
   "source": [
    "Example 53"
   ]
  },
  {
   "cell_type": "code",
   "execution_count": 185,
   "id": "2d072634-9eda-4126-a2f0-4c3a34fcf139",
   "metadata": {},
   "outputs": [
    {
     "name": "stdout",
     "output_type": "stream",
     "text": [
      "True\n"
     ]
    }
   ],
   "source": [
    "txt = \"The best things in life are free!\"\n",
    "print(\"free\" in txt)"
   ]
  },
  {
   "cell_type": "markdown",
   "id": "ba5aa5ee-6b6c-47c2-8bcd-fa5f336cd612",
   "metadata": {},
   "source": [
    "Example 54"
   ]
  },
  {
   "cell_type": "code",
   "execution_count": 188,
   "id": "ce1515f5-2913-46fc-b5fb-864a9d413118",
   "metadata": {},
   "outputs": [
    {
     "name": "stdout",
     "output_type": "stream",
     "text": [
      "Yes, 'free' is present.\n"
     ]
    }
   ],
   "source": [
    "txt = \"The best things in life are free!\"\n",
    "if \"free\" in txt:\n",
    "  print(\"Yes, 'free' is present.\")"
   ]
  },
  {
   "cell_type": "markdown",
   "id": "c274a7b0-a1a8-4ef9-8b3a-2858dff882f7",
   "metadata": {},
   "source": [
    "Example 55"
   ]
  },
  {
   "cell_type": "code",
   "execution_count": 191,
   "id": "f1c67251-c353-43cf-b923-4c3b598fe0cb",
   "metadata": {},
   "outputs": [
    {
     "name": "stdout",
     "output_type": "stream",
     "text": [
      "True\n"
     ]
    }
   ],
   "source": [
    "txt = \"The best things in life are free!\"\n",
    "print(\"expensive\" not in txt)"
   ]
  },
  {
   "cell_type": "markdown",
   "id": "9d905525-b890-4ad7-9b55-eabfdf07a60f",
   "metadata": {},
   "source": [
    "Example 56 "
   ]
  },
  {
   "cell_type": "code",
   "execution_count": 194,
   "id": "ef8c7d9d-a67b-4f88-a078-d42143d8c6fc",
   "metadata": {},
   "outputs": [
    {
     "name": "stdout",
     "output_type": "stream",
     "text": [
      "No, 'expensive' is NOT present.\n"
     ]
    }
   ],
   "source": [
    "txt = \"The best things in life are free!\"\n",
    "if \"expensive\" not in txt:\n",
    "  print(\"No, 'expensive' is NOT present.\")"
   ]
  },
  {
   "cell_type": "markdown",
   "id": "1e91afe5-6ea0-4cc4-8c54-7d402446cf72",
   "metadata": {},
   "source": [
    "SLICING STRINGS Example 57"
   ]
  },
  {
   "cell_type": "code",
   "execution_count": 197,
   "id": "34d1e658-1639-4752-b33b-3b36a29ba733",
   "metadata": {},
   "outputs": [
    {
     "name": "stdout",
     "output_type": "stream",
     "text": [
      "llo\n"
     ]
    }
   ],
   "source": [
    "b = \"Hello, World!\"\n",
    "print(b[2:5])"
   ]
  },
  {
   "cell_type": "markdown",
   "id": "03e3c964-1863-4fb0-aeab-cded40ad08ab",
   "metadata": {},
   "source": [
    "Example 58"
   ]
  },
  {
   "cell_type": "code",
   "execution_count": 200,
   "id": "5bbf3e97-8e79-4f3a-83c4-c79f2ce1ed44",
   "metadata": {},
   "outputs": [
    {
     "name": "stdout",
     "output_type": "stream",
     "text": [
      "Hello\n"
     ]
    }
   ],
   "source": [
    "b = \"Hello, World!\"\n",
    "print(b[:5])"
   ]
  },
  {
   "cell_type": "markdown",
   "id": "75ed879d-440b-402a-b732-82095753000d",
   "metadata": {},
   "source": [
    "Example 59"
   ]
  },
  {
   "cell_type": "code",
   "execution_count": 203,
   "id": "32eb2315-c238-48c5-ada4-93c27c4b91cd",
   "metadata": {},
   "outputs": [
    {
     "name": "stdout",
     "output_type": "stream",
     "text": [
      "llo, World!\n"
     ]
    }
   ],
   "source": [
    "b = \"Hello, World!\"\n",
    "print(b[2:])"
   ]
  },
  {
   "cell_type": "markdown",
   "id": "621b588e-49dd-496d-a6bc-9756f0d9535f",
   "metadata": {},
   "source": [
    "Example 60"
   ]
  },
  {
   "cell_type": "code",
   "execution_count": 206,
   "id": "8904d2d6-5446-4188-8d63-8b3d6d704b57",
   "metadata": {},
   "outputs": [
    {
     "name": "stdout",
     "output_type": "stream",
     "text": [
      "orl\n"
     ]
    }
   ],
   "source": [
    "b = \"Hello, World!\"\n",
    "print(b[-5:-2])"
   ]
  },
  {
   "cell_type": "markdown",
   "id": "627a823a-6538-4cf2-8045-fd73c3d0bac2",
   "metadata": {},
   "source": [
    "MODIFY STRINGS Example 61"
   ]
  },
  {
   "cell_type": "code",
   "execution_count": 210,
   "id": "287284b8-e49b-457d-bb27-e2bdb27f9090",
   "metadata": {},
   "outputs": [
    {
     "name": "stdout",
     "output_type": "stream",
     "text": [
      "HELLO, WORLD!\n"
     ]
    }
   ],
   "source": [
    "a = \"Hello, World!\"\n",
    "print(a.upper())"
   ]
  },
  {
   "cell_type": "markdown",
   "id": "0144ed45-df5c-42f7-a048-181d2d0aaa64",
   "metadata": {},
   "source": [
    "Example 62"
   ]
  },
  {
   "cell_type": "code",
   "execution_count": 213,
   "id": "1d4741da-bcd4-4c8e-84b0-2bba9ace5df9",
   "metadata": {},
   "outputs": [
    {
     "name": "stdout",
     "output_type": "stream",
     "text": [
      "hello, world!\n"
     ]
    }
   ],
   "source": [
    "a = \"Hello, World!\"\n",
    "print(a.lower())"
   ]
  },
  {
   "cell_type": "markdown",
   "id": "a6402805-b767-4178-a083-cfcc6ac1b7b6",
   "metadata": {},
   "source": [
    "Example 63"
   ]
  },
  {
   "cell_type": "code",
   "execution_count": 216,
   "id": "d114a3d9-dd2b-4f23-84f7-61d1f8fee2b4",
   "metadata": {},
   "outputs": [
    {
     "name": "stdout",
     "output_type": "stream",
     "text": [
      "Hello, World!\n"
     ]
    }
   ],
   "source": [
    "a = \" Hello, World! \"\n",
    "print(a.strip()) # returns \"Hello, World!\""
   ]
  },
  {
   "cell_type": "markdown",
   "id": "89575f2a-d207-4993-b29a-151c7a372a98",
   "metadata": {},
   "source": [
    "Example 64"
   ]
  },
  {
   "cell_type": "code",
   "execution_count": 219,
   "id": "5f551fa6-7cb9-4653-ba91-f783b1d68935",
   "metadata": {},
   "outputs": [
    {
     "name": "stdout",
     "output_type": "stream",
     "text": [
      "Jello, World!\n"
     ]
    }
   ],
   "source": [
    "a = \"Hello, World!\"\n",
    "print(a.replace(\"H\", \"J\"))"
   ]
  },
  {
   "cell_type": "markdown",
   "id": "30297145-8369-48b3-8e92-267d41c97baf",
   "metadata": {},
   "source": [
    "Example 65"
   ]
  },
  {
   "cell_type": "code",
   "execution_count": 222,
   "id": "f5275329-d2f4-46b8-abe3-2f22b2ba473f",
   "metadata": {},
   "outputs": [
    {
     "name": "stdout",
     "output_type": "stream",
     "text": [
      "['Hello', ' World!']\n"
     ]
    }
   ],
   "source": [
    "a = \"Hello, World!\"\n",
    "print(a.split(\",\")) # returns ['Hello', ' World!']"
   ]
  },
  {
   "cell_type": "markdown",
   "id": "d983982a-5f7b-49dd-9447-8a0aa28ad7b1",
   "metadata": {},
   "source": [
    "CONCATENATE STRINGS Example 66"
   ]
  },
  {
   "cell_type": "code",
   "execution_count": 226,
   "id": "3144f97e-18e3-4ff2-8d59-c905f3f78bbe",
   "metadata": {},
   "outputs": [
    {
     "name": "stdout",
     "output_type": "stream",
     "text": [
      "HelloWorld\n"
     ]
    }
   ],
   "source": [
    "a = \"Hello\"\n",
    "b = \"World\"\n",
    "c = a + b\n",
    "print(c)"
   ]
  },
  {
   "cell_type": "markdown",
   "id": "52ab1cb4-658b-41b3-8228-6b27a9aa1eda",
   "metadata": {},
   "source": [
    "Example 67"
   ]
  },
  {
   "cell_type": "code",
   "execution_count": 229,
   "id": "c5f6ac3a-2f96-4206-8beb-c62287111299",
   "metadata": {},
   "outputs": [
    {
     "name": "stdout",
     "output_type": "stream",
     "text": [
      "Hello World\n"
     ]
    }
   ],
   "source": [
    "a = \"Hello\"\n",
    "b = \"World\"\n",
    "c = a + \" \" + b\n",
    "print(c)"
   ]
  },
  {
   "cell_type": "markdown",
   "id": "7a280da9-f2c6-4fed-ae65-eb4f8489d53b",
   "metadata": {},
   "source": [
    "FORMAT STRINGS Example 68"
   ]
  },
  {
   "cell_type": "code",
   "execution_count": 233,
   "id": "3014a5dc-10bf-4c74-9aaa-aa3c9ec9ea53",
   "metadata": {},
   "outputs": [
    {
     "name": "stdout",
     "output_type": "stream",
     "text": [
      "My name is John, I am 36\n"
     ]
    }
   ],
   "source": [
    "age = 36\n",
    "txt = f\"My name is John, I am {age}\"\n",
    "print(txt)"
   ]
  },
  {
   "cell_type": "markdown",
   "id": "cfdf6cde-bfea-410d-a826-7854194e959a",
   "metadata": {},
   "source": [
    "Example 69"
   ]
  },
  {
   "cell_type": "code",
   "execution_count": 236,
   "id": "8e966078-ad13-4375-a072-7c0ef91f812c",
   "metadata": {},
   "outputs": [
    {
     "name": "stdout",
     "output_type": "stream",
     "text": [
      "The price is 59 dollars\n"
     ]
    }
   ],
   "source": [
    "price = 59\n",
    "txt = f\"The price is {price} dollars\"\n",
    "print(txt)"
   ]
  },
  {
   "cell_type": "markdown",
   "id": "c0712851-02de-47a5-8f75-f39db80ad52a",
   "metadata": {},
   "source": [
    "Example 70"
   ]
  },
  {
   "cell_type": "code",
   "execution_count": 239,
   "id": "0caba3f4-14b4-4ea3-83f1-64d7157a9916",
   "metadata": {},
   "outputs": [
    {
     "name": "stdout",
     "output_type": "stream",
     "text": [
      "The price is 59.00 dollars\n"
     ]
    }
   ],
   "source": [
    "price = 59\n",
    "txt = f\"The price is {price:.2f} dollars\"\n",
    "print(txt)"
   ]
  },
  {
   "cell_type": "markdown",
   "id": "be5a6e90-726a-426c-a086-4ae81d0137a1",
   "metadata": {},
   "source": [
    "Example 71"
   ]
  },
  {
   "cell_type": "code",
   "execution_count": 242,
   "id": "c196b98b-0d51-4771-8b16-61f870c33894",
   "metadata": {},
   "outputs": [
    {
     "name": "stdout",
     "output_type": "stream",
     "text": [
      "The price is 1180 dollars\n"
     ]
    }
   ],
   "source": [
    "txt = f\"The price is {20 * 59} dollars\"\n",
    "print(txt)"
   ]
  },
  {
   "cell_type": "markdown",
   "id": "4aeb7220-c1b0-4057-adc7-942a159d3a62",
   "metadata": {},
   "source": [
    "ESCAPE CHARACTERS Example 72"
   ]
  },
  {
   "cell_type": "code",
   "execution_count": 258,
   "id": "5298c3ab-1967-4ed9-99ba-5e86a5fcc4b6",
   "metadata": {},
   "outputs": [],
   "source": [
    "txt = \"We are the so-called \\\"Vikings\\\" from the north.\""
   ]
  },
  {
   "cell_type": "code",
   "execution_count": null,
   "id": "e856e082-75dc-44ce-b66a-63f796cf2066",
   "metadata": {},
   "outputs": [],
   "source": []
  }
 ],
 "metadata": {
  "kernelspec": {
   "display_name": "Python [conda env:base] *",
   "language": "python",
   "name": "conda-base-py"
  },
  "language_info": {
   "codemirror_mode": {
    "name": "ipython",
    "version": 3
   },
   "file_extension": ".py",
   "mimetype": "text/x-python",
   "name": "python",
   "nbconvert_exporter": "python",
   "pygments_lexer": "ipython3",
   "version": "3.12.7"
  }
 },
 "nbformat": 4,
 "nbformat_minor": 5
}
