{
 "cells": [
  {
   "cell_type": "code",
   "execution_count": 5,
   "id": "109f7eda-6cfe-4b91-ba69-56314ef2412b",
   "metadata": {},
   "outputs": [
    {
     "name": "stdout",
     "output_type": "stream",
     "text": [
      "Requirement already satisfied: psycopg2-binary in c:\\users\\mynote\\anaconda3\\lib\\site-packages (2.9.10)\n"
     ]
    }
   ],
   "source": [
    "\n"
   ]
  },
  {
   "cell_type": "code",
   "execution_count": 11,
   "id": "75a5f432-a413-4b74-b31d-6a5de0294069",
   "metadata": {},
   "outputs": [
    {
     "ename": "SyntaxError",
     "evalue": "invalid syntax (752295069.py, line 1)",
     "output_type": "error",
     "traceback": [
      "\u001b[1;36m  Cell \u001b[1;32mIn[11], line 1\u001b[1;36m\u001b[0m\n\u001b[1;33m    net start postgresql\u001b[0m\n\u001b[1;37m        ^\u001b[0m\n\u001b[1;31mSyntaxError\u001b[0m\u001b[1;31m:\u001b[0m invalid syntax\n"
     ]
    }
   ],
   "source": [
    "net start postgresql"
   ]
  },
  {
   "cell_type": "code",
   "execution_count": 13,
   "id": "dc1fbe63-21ed-412f-bee7-64f8f7453509",
   "metadata": {},
   "outputs": [
    {
     "name": "stdout",
     "output_type": "stream",
     "text": [
      "Ошибка подключения к базе данных: connection to server at \"localhost\" (::1), port 5432 failed: Connection refused (0x0000274D/10061)\n",
      "\tIs the server running on that host and accepting TCP/IP connections?\n",
      "connection to server at \"localhost\" (127.0.0.1), port 5432 failed: Connection refused (0x0000274D/10061)\n",
      "\tIs the server running on that host and accepting TCP/IP connections?\n",
      "\n",
      "Ошибка при создании таблицы: name 'conn' is not defined\n",
      "Ошибка при вставке данных: name 'conn' is not defined\n",
      "Ошибка при вставке данных: name 'conn' is not defined\n",
      "Ошибка при вставке данных: name 'conn' is not defined\n",
      "Ошибка при вставке данных из CSV: name 'conn' is not defined\n"
     ]
    },
    {
     "ename": "NameError",
     "evalue": "name 'conn' is not defined",
     "output_type": "error",
     "traceback": [
      "\u001b[1;31m---------------------------------------------------------------------------\u001b[0m",
      "\u001b[1;31mNameError\u001b[0m                                 Traceback (most recent call last)",
      "Cell \u001b[1;32mIn[13], line 112\u001b[0m\n\u001b[0;32m    109\u001b[0m insert_by_csv(\u001b[38;5;124m\"\u001b[39m\u001b[38;5;124mphonebook.csv\u001b[39m\u001b[38;5;124m\"\u001b[39m)  \u001b[38;5;66;03m# Убедись, что путь к файлу правильный\u001b[39;00m\n\u001b[0;32m    110\u001b[0m \u001b[38;5;66;03m#update(\"name\", \"Timur\",\"Amir\")\u001b[39;00m\n\u001b[0;32m    111\u001b[0m \u001b[38;5;66;03m#delete_data(\"Mariyam\")\u001b[39;00m\n\u001b[1;32m--> 112\u001b[0m conn\u001b[38;5;241m.\u001b[39mclose()\n",
      "\u001b[1;31mNameError\u001b[0m: name 'conn' is not defined"
     ]
    }
   ],
   "source": [
    "import psycopg2\n",
    "import csv\n",
    "\n",
    "# Создание подключения к базе данных с обработкой ошибок\n",
    "try:\n",
    "    conn = psycopg2.connect(\n",
    "        host=\"localhost\",\n",
    "        database=\"suppliers\",  # Убедись, что эта база данных существует\n",
    "        user=\"postgres\",       # Имя пользователя PostgreSQL\n",
    "        password=\"acerAN\"      # Пароль для подключения\n",
    "    )\n",
    "    print(\"Подключение к базе данных успешно!\")\n",
    "except psycopg2.OperationalError as e:\n",
    "    print(f\"Ошибка подключения к базе данных: {e}\")\n",
    "    exit(1)  # Завершаем программу, если не удалось подключиться\n",
    "\n",
    "def create_table():\n",
    "    try:\n",
    "        command = \"\"\"\n",
    "            CREATE TABLE IF NOT EXISTS phonebook (\n",
    "                id SERIAL PRIMARY KEY,\n",
    "                name VARCHAR(255),\n",
    "                category VARCHAR(255),\n",
    "                number VARCHAR(20)\n",
    "            )\n",
    "        \"\"\"\n",
    "        with conn.cursor() as cur:\n",
    "            cur.execute(command)\n",
    "            conn.commit()\n",
    "        print(\"Таблица phonebook создана или уже существует.\")\n",
    "    except Exception as e:\n",
    "        print(f\"Ошибка при создании таблицы: {e}\")\n",
    "\n",
    "def insert_values(name, category, number):\n",
    "    try:\n",
    "        with conn.cursor() as cur:\n",
    "            cur.execute(\"SELECT * FROM phonebook WHERE name = %s AND number = %s\", (name, number))\n",
    "            if not cur.fetchone():\n",
    "                command = \"INSERT INTO phonebook(name, category, number) VALUES (%s, %s, %s)\"\n",
    "                cur.execute(command, (name, category, number))\n",
    "                conn.commit()\n",
    "                print(f\"Запись для {name} и номера {number} добавлена.\")\n",
    "            else:\n",
    "                print(f\"Запись с именем {name} и номером {number} уже существует.\")\n",
    "    except Exception as e:\n",
    "        print(f\"Ошибка при вставке данных: {e}\")\n",
    "\n",
    "def insert_by_csv(filename):\n",
    "    try:\n",
    "        # Указание полного пути к файлу CSV\n",
    "        filepath = \"C:/Users/MyNote/Desktop/PP2/phonebook.csv\"  # Полный путь к файлу\n",
    "\n",
    "        command = \"INSERT INTO phonebook(name, category, number) VALUES (%s, %s, %s)\"\n",
    "        with conn.cursor() as cur:\n",
    "            with open(filepath, \"r\") as csvfile:\n",
    "                csvreader = csv.reader(csvfile, delimiter=\",\")\n",
    "                _ = next(csvreader)  # Пропустить заголовки CSV\n",
    "                for row in csvreader:\n",
    "                    name, category, number = row\n",
    "                    cur.execute(command, (name, category, number))\n",
    "                    conn.commit()\n",
    "                    print(f\"Запись для {name}, {category}, {number} добавлена.\")\n",
    "    except Exception as e:\n",
    "        print(f\"Ошибка при вставке данных из CSV: {e}\")\n",
    "\n",
    "def update(column, what, towhat):\n",
    "    try:\n",
    "        with conn.cursor() as cur:\n",
    "            command = f\"UPDATE phonebook SET {column}=%s WHERE {column}=%s\"\n",
    "            cur.execute(command, (towhat, what))\n",
    "            conn.commit()\n",
    "            print(f\"Запись для {column} обновлена.\")\n",
    "    except Exception as e:\n",
    "        print(f\"Ошибка при обновлении данных: {e}\")\n",
    "\n",
    "def query_data_by_name(name):\n",
    "    try:\n",
    "        with conn.cursor() as cur:\n",
    "            command = \"SELECT * FROM phonebook WHERE name=%s\"\n",
    "            cur.execute(command, (name,))\n",
    "            return cur.fetchall()\n",
    "    except Exception as e:\n",
    "        print(f\"Ошибка при запросе данных по имени: {e}\")\n",
    "\n",
    "def query_data_by_category(category):\n",
    "    try:\n",
    "        with conn.cursor() as cur:\n",
    "            command = \"SELECT * FROM phonebook WHERE category=%s\"\n",
    "            cur.execute(command, (category,))\n",
    "            return cur.fetchall()\n",
    "    except Exception as e:\n",
    "        print(f\"Ошибка при запросе данных по категории: {e}\")\n",
    "\n",
    "def delete_data(who):\n",
    "    try:\n",
    "        with conn.cursor() as cur:\n",
    "            command = \"DELETE FROM phonebook WHERE name=%s\"\n",
    "            cur.execute(command, (who,))\n",
    "            conn.commit()\n",
    "            print(f\"Запись для {who} удалена.\")\n",
    "    except Exception as e:\n",
    "        print(f\"Ошибка при удалении данных: {e}\")\n",
    "\n",
    "# Вставка данных\n",
    "create_table()\n",
    "insert_values(\"Mariyam\", \"me\", \"+77088562354\")\n",
    "insert_values(\"Timur\", \"family\", \"+7736699993\")\n",
    "insert_values(\"Zarina\", \"friend\", \"+7896553626\")\n",
    "insert_by_csv(\"phonebook.csv\")  # Убедись, что путь к файлу правильный\n",
    "#update(\"name\", \"Timur\",\"Amir\")\n",
    "#delete_data(\"Mariyam\")\n",
    "conn.close()"
   ]
  },
  {
   "cell_type": "code",
   "execution_count": null,
   "id": "aac6eb4d-62f9-4b02-a383-3cd5e5641a0b",
   "metadata": {},
   "outputs": [],
   "source": []
  }
 ],
 "metadata": {
  "kernelspec": {
   "display_name": "Python [conda env:base] *",
   "language": "python",
   "name": "conda-base-py"
  },
  "language_info": {
   "codemirror_mode": {
    "name": "ipython",
    "version": 3
   },
   "file_extension": ".py",
   "mimetype": "text/x-python",
   "name": "python",
   "nbconvert_exporter": "python",
   "pygments_lexer": "ipython3",
   "version": "3.12.7"
  }
 },
 "nbformat": 4,
 "nbformat_minor": 5
}
