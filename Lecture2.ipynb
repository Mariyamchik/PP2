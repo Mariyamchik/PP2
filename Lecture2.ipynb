{
 "cells": [
  {
   "cell_type": "markdown",
   "id": "3a8f85b4-bc1c-491f-b839-344cea15ce3c",
   "metadata": {},
   "source": [
    "Booleans Example 1"
   ]
  },
  {
   "cell_type": "code",
   "execution_count": 2,
   "id": "1022c1f3-0591-4be8-9f64-7121116945b6",
   "metadata": {},
   "outputs": [
    {
     "name": "stdout",
     "output_type": "stream",
     "text": [
      "True\n",
      "False\n",
      "False\n"
     ]
    }
   ],
   "source": [
    "print(10 > 9)\n",
    "print(10 == 9)\n",
    "print(10 < 9)"
   ]
  },
  {
   "cell_type": "markdown",
   "id": "e79f1b71-1256-421a-b198-b088ce6f66b0",
   "metadata": {},
   "source": [
    "Example 2"
   ]
  },
  {
   "cell_type": "code",
   "execution_count": 5,
   "id": "e96c6859-c7b8-4052-8a4b-34975f3dd5c9",
   "metadata": {},
   "outputs": [
    {
     "name": "stdout",
     "output_type": "stream",
     "text": [
      "b is not greater than a\n"
     ]
    }
   ],
   "source": [
    "a = 200\n",
    "b = 33\n",
    "\n",
    "if b > a:\n",
    "  print(\"b is greater than a\")\n",
    "else:\n",
    "  print(\"b is not greater than a\")"
   ]
  },
  {
   "cell_type": "markdown",
   "id": "87b88974-5ff4-4432-857c-de97a922fa19",
   "metadata": {},
   "source": [
    "Example 3"
   ]
  },
  {
   "cell_type": "code",
   "execution_count": 9,
   "id": "f7979256-da60-4bd5-a973-c8a801ea5375",
   "metadata": {},
   "outputs": [
    {
     "name": "stdout",
     "output_type": "stream",
     "text": [
      "True\n",
      "True\n"
     ]
    }
   ],
   "source": [
    "print(bool(\"Hello\"))\n",
    "print(bool(15))"
   ]
  },
  {
   "cell_type": "markdown",
   "id": "a8fecdc8-280f-4017-a134-bb67c81e3506",
   "metadata": {},
   "source": [
    "Example 4"
   ]
  },
  {
   "cell_type": "code",
   "execution_count": 12,
   "id": "8785c8d1-85f4-4bee-a05b-9f49a5fa53d9",
   "metadata": {},
   "outputs": [
    {
     "name": "stdout",
     "output_type": "stream",
     "text": [
      "True\n",
      "True\n"
     ]
    }
   ],
   "source": [
    "x = \"Hello\"\n",
    "y = 15\n",
    "\n",
    "print(bool(x))\n",
    "print(bool(y))"
   ]
  },
  {
   "cell_type": "markdown",
   "id": "5045773b-cff0-4117-b309-f9d29b253b05",
   "metadata": {},
   "source": [
    "Example 5"
   ]
  },
  {
   "cell_type": "code",
   "execution_count": 15,
   "id": "ccf970db-fe53-4d87-b3e4-bf3b1bf8ff70",
   "metadata": {},
   "outputs": [
    {
     "name": "stdout",
     "output_type": "stream",
     "text": [
      "True\n",
      "True\n"
     ]
    }
   ],
   "source": [
    "x = \"Hello\"\n",
    "y = 15\n",
    "\n",
    "print(bool(x))\n",
    "print(bool(y))"
   ]
  },
  {
   "cell_type": "markdown",
   "id": "256493a7-5547-4155-8f6f-a162aa08fe1b",
   "metadata": {},
   "source": [
    "Example 6"
   ]
  },
  {
   "cell_type": "code",
   "execution_count": 18,
   "id": "f9ff43e3-e29a-495a-a8f0-2b0e44e35990",
   "metadata": {},
   "outputs": [
    {
     "data": {
      "text/plain": [
       "True"
      ]
     },
     "execution_count": 18,
     "metadata": {},
     "output_type": "execute_result"
    }
   ],
   "source": [
    "bool(\"abc\")\n",
    "bool(123)\n",
    "bool([\"apple\", \"cherry\", \"banana\"])"
   ]
  },
  {
   "cell_type": "markdown",
   "id": "5179bde2-3a83-4248-9b49-16fa11cdf45e",
   "metadata": {},
   "source": [
    "Example 7"
   ]
  },
  {
   "cell_type": "code",
   "execution_count": 21,
   "id": "38b5903c-3e79-4f16-8d2e-d7fcf93e105c",
   "metadata": {},
   "outputs": [
    {
     "data": {
      "text/plain": [
       "False"
      ]
     },
     "execution_count": 21,
     "metadata": {},
     "output_type": "execute_result"
    }
   ],
   "source": [
    "bool(False)\n",
    "bool(None)\n",
    "bool(0)\n",
    "bool(\"\")\n",
    "bool(())\n",
    "bool([])\n",
    "bool({})"
   ]
  },
  {
   "cell_type": "markdown",
   "id": "070bf6d0-5229-41f2-8b84-7fb681b0d3bf",
   "metadata": {},
   "source": [
    "Example 8"
   ]
  },
  {
   "cell_type": "code",
   "execution_count": 24,
   "id": "e8cef9b0-7ed4-42c4-87c0-6fcf9a0d268f",
   "metadata": {},
   "outputs": [
    {
     "name": "stdout",
     "output_type": "stream",
     "text": [
      "False\n"
     ]
    }
   ],
   "source": [
    "class myclass():\n",
    "  def __len__(self):\n",
    "    return 0\n",
    "\n",
    "myobj = myclass()\n",
    "print(bool(myobj))"
   ]
  },
  {
   "cell_type": "markdown",
   "id": "51ede720-9ad2-4099-9f9f-d85b6a29f77e",
   "metadata": {},
   "source": [
    "Example 9"
   ]
  },
  {
   "cell_type": "code",
   "execution_count": 27,
   "id": "36469262-2f9c-49a5-bbe6-73285ba48dd3",
   "metadata": {},
   "outputs": [
    {
     "name": "stdout",
     "output_type": "stream",
     "text": [
      "True\n"
     ]
    }
   ],
   "source": [
    "def myFunction() :\n",
    "  return True\n",
    "\n",
    "print(myFunction())"
   ]
  },
  {
   "cell_type": "markdown",
   "id": "ecf509c7-5e76-4fc1-a827-9a57e0f27a57",
   "metadata": {},
   "source": [
    "Example 10"
   ]
  },
  {
   "cell_type": "code",
   "execution_count": 30,
   "id": "6debb445-1cc2-4e39-8439-d27d7f9b1da2",
   "metadata": {},
   "outputs": [
    {
     "name": "stdout",
     "output_type": "stream",
     "text": [
      "YES!\n"
     ]
    }
   ],
   "source": [
    "def myFunction() :\n",
    "  return True\n",
    "\n",
    "if myFunction():\n",
    "  print(\"YES!\")\n",
    "else:\n",
    "  print(\"NO!\")"
   ]
  },
  {
   "cell_type": "markdown",
   "id": "8b4bbb91-383a-41dd-bad0-fe34f1533860",
   "metadata": {},
   "source": [
    "Example 11"
   ]
  },
  {
   "cell_type": "code",
   "execution_count": 33,
   "id": "d850aa66-ad5a-4f0b-93d5-667f55be5b07",
   "metadata": {},
   "outputs": [
    {
     "name": "stdout",
     "output_type": "stream",
     "text": [
      "True\n"
     ]
    }
   ],
   "source": [
    "x = 200\n",
    "print(isinstance(x, int))"
   ]
  },
  {
   "cell_type": "markdown",
   "id": "617f2e3c-13d2-42c2-8938-9da8a6928ae6",
   "metadata": {},
   "source": [
    "Operators Example 12"
   ]
  },
  {
   "cell_type": "code",
   "execution_count": 36,
   "id": "9ca34d0c-1f99-4814-9e27-6d4a1154f3a6",
   "metadata": {},
   "outputs": [
    {
     "name": "stdout",
     "output_type": "stream",
     "text": [
      "15\n"
     ]
    }
   ],
   "source": [
    "print(10 + 5)"
   ]
  },
  {
   "cell_type": "markdown",
   "id": "8741e928-180f-4588-904f-73ff291e93ba",
   "metadata": {},
   "source": [
    "Example 13"
   ]
  },
  {
   "cell_type": "code",
   "execution_count": 39,
   "id": "ce10ddf4-702e-4cf8-98fc-6e06ab98aaeb",
   "metadata": {},
   "outputs": [
    {
     "name": "stdout",
     "output_type": "stream",
     "text": [
      "0\n"
     ]
    }
   ],
   "source": [
    "print((6 + 3) - (6 + 3))"
   ]
  },
  {
   "cell_type": "markdown",
   "id": "ad5bde1d-da5d-420a-a2a0-fb446ad8781a",
   "metadata": {},
   "source": [
    "Example 14"
   ]
  },
  {
   "cell_type": "code",
   "execution_count": 42,
   "id": "6ad21349-4d7e-4060-87e3-509dccc1dea0",
   "metadata": {},
   "outputs": [
    {
     "name": "stdout",
     "output_type": "stream",
     "text": [
      "115\n"
     ]
    }
   ],
   "source": [
    "print(100 + 5 * 3)"
   ]
  },
  {
   "cell_type": "markdown",
   "id": "416da952-f2ff-4ac8-9cb9-e77444f0c919",
   "metadata": {},
   "source": [
    "Example 15"
   ]
  },
  {
   "cell_type": "code",
   "execution_count": 45,
   "id": "9022412a-043f-4f45-8699-86e562339d8f",
   "metadata": {},
   "outputs": [
    {
     "name": "stdout",
     "output_type": "stream",
     "text": [
      "5\n"
     ]
    }
   ],
   "source": [
    "print(5 + 4 - 7 + 3)"
   ]
  },
  {
   "cell_type": "markdown",
   "id": "6b7fabc3-3433-4de6-8d5f-74304ff4d64b",
   "metadata": {},
   "source": [
    "Lists Example 16"
   ]
  },
  {
   "cell_type": "code",
   "execution_count": 48,
   "id": "8d4cd06e-e831-4f60-b897-7a8464ad948a",
   "metadata": {},
   "outputs": [
    {
     "name": "stdout",
     "output_type": "stream",
     "text": [
      "['apple', 'banana', 'cherry']\n"
     ]
    }
   ],
   "source": [
    "thislist = [\"apple\", \"banana\", \"cherry\"]\n",
    "print(thislist)"
   ]
  },
  {
   "cell_type": "markdown",
   "id": "94aa84af-f622-4996-8513-0f1da2c0b648",
   "metadata": {},
   "source": [
    "Example 17"
   ]
  },
  {
   "cell_type": "code",
   "execution_count": 51,
   "id": "8c9a60cd-d3a5-40ce-b59b-8554286290da",
   "metadata": {},
   "outputs": [
    {
     "name": "stdout",
     "output_type": "stream",
     "text": [
      "['apple', 'banana', 'cherry', 'apple', 'cherry']\n"
     ]
    }
   ],
   "source": [
    "thislist = [\"apple\", \"banana\", \"cherry\", \"apple\", \"cherry\"]\n",
    "print(thislist)"
   ]
  },
  {
   "cell_type": "markdown",
   "id": "dde9e5d4-3031-4404-b9dc-71cb7a08b605",
   "metadata": {},
   "source": [
    "Example 18"
   ]
  },
  {
   "cell_type": "code",
   "execution_count": 54,
   "id": "0c594240-658f-4b94-99d5-cff220cfb12b",
   "metadata": {},
   "outputs": [
    {
     "name": "stdout",
     "output_type": "stream",
     "text": [
      "3\n"
     ]
    }
   ],
   "source": [
    "thislist = [\"apple\", \"banana\", \"cherry\"]\n",
    "print(len(thislist))"
   ]
  },
  {
   "cell_type": "raw",
   "id": "ae3b2af9-108c-440a-8925-667d20f4d447",
   "metadata": {},
   "source": [
    "Example 19"
   ]
  },
  {
   "cell_type": "code",
   "execution_count": 56,
   "id": "832ae857-c19a-4d67-9a35-ea11903396fc",
   "metadata": {},
   "outputs": [],
   "source": [
    "list1 = [\"apple\", \"banana\", \"cherry\"]\n",
    "list2 = [1, 5, 7, 9, 3]\n",
    "list3 = [True, False, False]"
   ]
  },
  {
   "cell_type": "markdown",
   "id": "f202e225-30fd-4029-a7c7-197aa0b306b1",
   "metadata": {},
   "source": [
    "Example 20"
   ]
  },
  {
   "cell_type": "code",
   "execution_count": 59,
   "id": "32335476-1c93-4de9-a889-811f985301f9",
   "metadata": {},
   "outputs": [],
   "source": [
    "list1 = [\"abc\", 34, True, 40, \"male\"]"
   ]
  },
  {
   "cell_type": "markdown",
   "id": "76fa1f6b-046a-4408-8e98-0822692136a0",
   "metadata": {},
   "source": [
    "Example 21"
   ]
  },
  {
   "cell_type": "code",
   "execution_count": 62,
   "id": "0eced1db-99a0-4113-a5da-a8fcbd3c4755",
   "metadata": {},
   "outputs": [
    {
     "name": "stdout",
     "output_type": "stream",
     "text": [
      "<class 'list'>\n"
     ]
    }
   ],
   "source": [
    "mylist = [\"apple\", \"banana\", \"cherry\"]\n",
    "print(type(mylist))"
   ]
  },
  {
   "cell_type": "markdown",
   "id": "4386a24a-b2c6-4e80-92bc-044ff73bdb19",
   "metadata": {},
   "source": [
    "Example 22"
   ]
  },
  {
   "cell_type": "code",
   "execution_count": 65,
   "id": "67e6e792-8532-47c2-8334-d47fc53f9cc0",
   "metadata": {},
   "outputs": [
    {
     "name": "stdout",
     "output_type": "stream",
     "text": [
      "['apple', 'banana', 'cherry']\n"
     ]
    }
   ],
   "source": [
    "thislist = list((\"apple\", \"banana\", \"cherry\")) # note the double round-brackets\n",
    "print(thislist)"
   ]
  },
  {
   "cell_type": "markdown",
   "id": "6b240e47-3600-4543-9854-60c7823c2e06",
   "metadata": {},
   "source": [
    "Access List Items Example 23"
   ]
  },
  {
   "cell_type": "code",
   "execution_count": 68,
   "id": "32883368-8896-4fab-a38d-53d08dc817b1",
   "metadata": {},
   "outputs": [
    {
     "name": "stdout",
     "output_type": "stream",
     "text": [
      "banana\n"
     ]
    }
   ],
   "source": [
    "thislist = [\"apple\", \"banana\", \"cherry\"]\n",
    "print(thislist[1])"
   ]
  },
  {
   "cell_type": "markdown",
   "id": "3d85bbff-e4bf-4a29-b893-c9987c0e68bf",
   "metadata": {},
   "source": [
    "Example 24"
   ]
  },
  {
   "cell_type": "code",
   "execution_count": 71,
   "id": "62ac7105-3690-4b6a-afc7-0963f3f6ed8d",
   "metadata": {},
   "outputs": [
    {
     "name": "stdout",
     "output_type": "stream",
     "text": [
      "cherry\n"
     ]
    }
   ],
   "source": [
    "thislist = [\"apple\", \"banana\", \"cherry\"]\n",
    "print(thislist[-1])"
   ]
  },
  {
   "cell_type": "markdown",
   "id": "94289b23-463a-4fb5-a0ff-cabb4d206f5a",
   "metadata": {},
   "source": [
    "Example 25"
   ]
  },
  {
   "cell_type": "code",
   "execution_count": 74,
   "id": "6f1afca4-e781-4dc3-af39-aadde4f9641c",
   "metadata": {},
   "outputs": [
    {
     "name": "stdout",
     "output_type": "stream",
     "text": [
      "['cherry', 'orange', 'kiwi']\n"
     ]
    }
   ],
   "source": [
    "thislist = [\"apple\", \"banana\", \"cherry\", \"orange\", \"kiwi\", \"melon\", \"mango\"]\n",
    "print(thislist[2:5])"
   ]
  },
  {
   "cell_type": "markdown",
   "id": "15645b5b-7c88-4a90-b2d1-982189484e7a",
   "metadata": {},
   "source": [
    "Example 26"
   ]
  },
  {
   "cell_type": "code",
   "execution_count": 77,
   "id": "be56e600-f1de-4ee4-9a0b-c4914f4536fe",
   "metadata": {},
   "outputs": [
    {
     "name": "stdout",
     "output_type": "stream",
     "text": [
      "['apple', 'banana', 'cherry', 'orange']\n"
     ]
    }
   ],
   "source": [
    "thislist = [\"apple\", \"banana\", \"cherry\", \"orange\", \"kiwi\", \"melon\", \"mango\"]\n",
    "print(thislist[:4])"
   ]
  },
  {
   "cell_type": "markdown",
   "id": "8cf41ad3-5b90-4738-9cae-82bf7be3486b",
   "metadata": {},
   "source": [
    "Example 27"
   ]
  },
  {
   "cell_type": "code",
   "execution_count": 80,
   "id": "e76ee892-3add-462a-b49c-672b890d9f8d",
   "metadata": {},
   "outputs": [
    {
     "name": "stdout",
     "output_type": "stream",
     "text": [
      "['cherry', 'orange', 'kiwi', 'melon', 'mango']\n"
     ]
    }
   ],
   "source": [
    "thislist = [\"apple\", \"banana\", \"cherry\", \"orange\", \"kiwi\", \"melon\", \"mango\"]\n",
    "print(thislist[2:])"
   ]
  },
  {
   "cell_type": "markdown",
   "id": "e906c696-0006-4738-b93d-0d4fff9edb8b",
   "metadata": {},
   "source": [
    "Example 28"
   ]
  },
  {
   "cell_type": "code",
   "execution_count": 83,
   "id": "5ea93d96-aad6-45cb-be71-d4f06f97a159",
   "metadata": {},
   "outputs": [
    {
     "name": "stdout",
     "output_type": "stream",
     "text": [
      "['orange', 'kiwi', 'melon']\n"
     ]
    }
   ],
   "source": [
    "thislist = [\"apple\", \"banana\", \"cherry\", \"orange\", \"kiwi\", \"melon\", \"mango\"]\n",
    "print(thislist[-4:-1])"
   ]
  },
  {
   "cell_type": "markdown",
   "id": "05f9f9c4-418b-4ea3-b565-fdac2f6bdd03",
   "metadata": {},
   "source": [
    "Example 29"
   ]
  },
  {
   "cell_type": "code",
   "execution_count": 86,
   "id": "6224259e-a9cf-4fb2-ad3a-e81fb323725b",
   "metadata": {},
   "outputs": [
    {
     "name": "stdout",
     "output_type": "stream",
     "text": [
      "Yes, 'apple' is in the fruits list\n"
     ]
    }
   ],
   "source": [
    "thislist = [\"apple\", \"banana\", \"cherry\"]\n",
    "if \"apple\" in thislist:\n",
    "  print(\"Yes, 'apple' is in the fruits list\")"
   ]
  },
  {
   "cell_type": "markdown",
   "id": "138425dc-04f0-40fd-bb6b-63256367fbd2",
   "metadata": {},
   "source": [
    "Change List Items Example 30"
   ]
  },
  {
   "cell_type": "code",
   "execution_count": 89,
   "id": "488a581e-1166-455d-8c6e-ad71c6d831e0",
   "metadata": {},
   "outputs": [
    {
     "name": "stdout",
     "output_type": "stream",
     "text": [
      "['apple', 'blackcurrant', 'cherry']\n"
     ]
    }
   ],
   "source": [
    "thislist = [\"apple\", \"banana\", \"cherry\"]\n",
    "thislist[1] = \"blackcurrant\"\n",
    "print(thislist)"
   ]
  },
  {
   "cell_type": "markdown",
   "id": "91bc3a1a-7361-4cce-8ba8-70b3aa1d4de4",
   "metadata": {},
   "source": [
    "Example 31"
   ]
  },
  {
   "cell_type": "code",
   "execution_count": 92,
   "id": "9f659d4c-72b3-4a26-8471-2b7f1a89bb53",
   "metadata": {},
   "outputs": [
    {
     "name": "stdout",
     "output_type": "stream",
     "text": [
      "['apple', 'blackcurrant', 'watermelon', 'orange', 'kiwi', 'mango']\n"
     ]
    }
   ],
   "source": [
    "thislist = [\"apple\", \"banana\", \"cherry\", \"orange\", \"kiwi\", \"mango\"]\n",
    "thislist[1:3] = [\"blackcurrant\", \"watermelon\"]\n",
    "print(thislist)"
   ]
  },
  {
   "cell_type": "markdown",
   "id": "4e615bfd-4814-41f6-8a99-4ae17c4ae0b0",
   "metadata": {},
   "source": [
    "Example 32"
   ]
  },
  {
   "cell_type": "code",
   "execution_count": 95,
   "id": "e8dbac6b-ed8a-4cf5-b677-13db5334c5a2",
   "metadata": {},
   "outputs": [
    {
     "name": "stdout",
     "output_type": "stream",
     "text": [
      "['apple', 'blackcurrant', 'watermelon', 'cherry']\n"
     ]
    }
   ],
   "source": [
    "thislist = [\"apple\", \"banana\", \"cherry\"]\n",
    "thislist[1:2] = [\"blackcurrant\", \"watermelon\"]\n",
    "print(thislist)"
   ]
  },
  {
   "cell_type": "markdown",
   "id": "0ecdc628-8cc0-4a95-b913-d1caa069178e",
   "metadata": {},
   "source": [
    "Example 33"
   ]
  },
  {
   "cell_type": "code",
   "execution_count": 98,
   "id": "59b49848-34ca-4445-b3ea-a08dd87e7d70",
   "metadata": {},
   "outputs": [
    {
     "name": "stdout",
     "output_type": "stream",
     "text": [
      "['apple', 'watermelon']\n"
     ]
    }
   ],
   "source": [
    "thislist = [\"apple\", \"banana\", \"cherry\"]\n",
    "thislist[1:3] = [\"watermelon\"]\n",
    "print(thislist)"
   ]
  },
  {
   "cell_type": "markdown",
   "id": "878e8193-2bfc-46bb-a5a3-b1bc937908bd",
   "metadata": {},
   "source": [
    "Example 34"
   ]
  },
  {
   "cell_type": "code",
   "execution_count": 103,
   "id": "ef5049c5-a39f-4fde-a644-ef723e6fdf22",
   "metadata": {},
   "outputs": [
    {
     "name": "stdout",
     "output_type": "stream",
     "text": [
      "['apple', 'banana', 'watermelon', 'cherry']\n"
     ]
    }
   ],
   "source": [
    "thislist = [\"apple\", \"banana\", \"cherry\"]\n",
    "thislist.insert(2, \"watermelon\")\n",
    "print(thislist)"
   ]
  },
  {
   "cell_type": "markdown",
   "id": "6b16a51d-e5ed-48dc-816d-dccbba743ceb",
   "metadata": {},
   "source": [
    "Add List Items Example 35"
   ]
  },
  {
   "cell_type": "code",
   "execution_count": 106,
   "id": "bb34010a-0a2f-474f-8637-ddb6641665cd",
   "metadata": {},
   "outputs": [
    {
     "name": "stdout",
     "output_type": "stream",
     "text": [
      "['apple', 'banana', 'cherry', 'orange']\n"
     ]
    }
   ],
   "source": [
    "thislist = [\"apple\", \"banana\", \"cherry\"]\n",
    "thislist.append(\"orange\")\n",
    "print(thislist)"
   ]
  },
  {
   "cell_type": "markdown",
   "id": "46be699b-26db-4b69-b4b4-a98bf933900e",
   "metadata": {},
   "source": [
    "Example 36"
   ]
  },
  {
   "cell_type": "code",
   "execution_count": 109,
   "id": "673571f8-35e4-4717-98b5-40a0f5198700",
   "metadata": {},
   "outputs": [
    {
     "name": "stdout",
     "output_type": "stream",
     "text": [
      "['apple', 'orange', 'banana', 'cherry']\n"
     ]
    }
   ],
   "source": [
    "thislist = [\"apple\", \"banana\", \"cherry\"]\n",
    "thislist.insert(1, \"orange\")\n",
    "print(thislist)"
   ]
  },
  {
   "cell_type": "markdown",
   "id": "4628a29a-6ddb-40ae-83af-b106f36202e2",
   "metadata": {},
   "source": [
    "Example 37"
   ]
  },
  {
   "cell_type": "code",
   "execution_count": 112,
   "id": "8fa3f5f8-c6ba-4e3d-93de-a0fedfee688c",
   "metadata": {},
   "outputs": [
    {
     "name": "stdout",
     "output_type": "stream",
     "text": [
      "['apple', 'banana', 'cherry', 'mango', 'pineapple', 'papaya']\n"
     ]
    }
   ],
   "source": [
    "thislist = [\"apple\", \"banana\", \"cherry\"]\n",
    "tropical = [\"mango\", \"pineapple\", \"papaya\"]\n",
    "thislist.extend(tropical)\n",
    "print(thislist)"
   ]
  },
  {
   "cell_type": "markdown",
   "id": "db0920aa-ea3a-4d92-8c12-787bf4832547",
   "metadata": {},
   "source": [
    "Example 38"
   ]
  },
  {
   "cell_type": "code",
   "execution_count": 115,
   "id": "a3407d67-3a1b-4b0d-8f10-2f563e51799a",
   "metadata": {},
   "outputs": [
    {
     "name": "stdout",
     "output_type": "stream",
     "text": [
      "['apple', 'banana', 'cherry', 'kiwi', 'orange']\n"
     ]
    }
   ],
   "source": [
    "thislist = [\"apple\", \"banana\", \"cherry\"]\n",
    "thistuple = (\"kiwi\", \"orange\")\n",
    "thislist.extend(thistuple)\n",
    "print(thislist)"
   ]
  },
  {
   "cell_type": "markdown",
   "id": "2e5a4f6b-5561-46f7-b446-9d48ba0579dd",
   "metadata": {},
   "source": [
    "Remove List Items Example 39"
   ]
  },
  {
   "cell_type": "code",
   "execution_count": 119,
   "id": "4713bc9d-b91f-4d07-a178-b49f9696b862",
   "metadata": {},
   "outputs": [
    {
     "name": "stdout",
     "output_type": "stream",
     "text": [
      "['apple', 'cherry']\n"
     ]
    }
   ],
   "source": [
    "thislist = [\"apple\", \"banana\", \"cherry\"]\n",
    "thislist.remove(\"banana\")\n",
    "print(thislist)"
   ]
  },
  {
   "cell_type": "markdown",
   "id": "17402ea3-e5e1-4f42-b19f-5abe0de985b5",
   "metadata": {},
   "source": [
    "Example 40"
   ]
  },
  {
   "cell_type": "code",
   "execution_count": 122,
   "id": "9092de8c-8403-4628-8a38-8595ccb60718",
   "metadata": {},
   "outputs": [
    {
     "name": "stdout",
     "output_type": "stream",
     "text": [
      "['apple', 'cherry', 'banana', 'kiwi']\n"
     ]
    }
   ],
   "source": [
    "thislist = [\"apple\", \"banana\", \"cherry\", \"banana\", \"kiwi\"]\n",
    "thislist.remove(\"banana\")\n",
    "print(thislist)"
   ]
  },
  {
   "cell_type": "markdown",
   "id": "7fab78cd-07b9-41fa-8980-6248dc25a706",
   "metadata": {},
   "source": [
    "Example 41"
   ]
  },
  {
   "cell_type": "code",
   "execution_count": 125,
   "id": "02af6659-f653-493a-9d00-39a0c226a5cf",
   "metadata": {},
   "outputs": [
    {
     "name": "stdout",
     "output_type": "stream",
     "text": [
      "['apple', 'cherry']\n"
     ]
    }
   ],
   "source": [
    "thislist = [\"apple\", \"banana\", \"cherry\"]\n",
    "thislist.pop(1)\n",
    "print(thislist)"
   ]
  },
  {
   "cell_type": "markdown",
   "id": "5180eb7f-0ae3-48e0-a221-5665103e4c97",
   "metadata": {},
   "source": [
    "Example 42"
   ]
  },
  {
   "cell_type": "code",
   "execution_count": 128,
   "id": "58bf5d03-18de-48d2-b2e8-9ce6d225b73a",
   "metadata": {},
   "outputs": [
    {
     "name": "stdout",
     "output_type": "stream",
     "text": [
      "['apple', 'banana']\n"
     ]
    }
   ],
   "source": [
    "thislist = [\"apple\", \"banana\", \"cherry\"]\n",
    "thislist.pop()\n",
    "print(thislist)"
   ]
  },
  {
   "cell_type": "markdown",
   "id": "640c885e-6251-4ed5-b232-0ca6bea00855",
   "metadata": {},
   "source": [
    "Example 43"
   ]
  },
  {
   "cell_type": "code",
   "execution_count": 131,
   "id": "c1aefe10-0286-4747-bf97-e0943ac52f12",
   "metadata": {},
   "outputs": [
    {
     "name": "stdout",
     "output_type": "stream",
     "text": [
      "['banana', 'cherry']\n"
     ]
    }
   ],
   "source": [
    "thislist = [\"apple\", \"banana\", \"cherry\"]\n",
    "del thislist[0]\n",
    "print(thislist)"
   ]
  },
  {
   "cell_type": "markdown",
   "id": "1d5f509d-3a11-4e27-9da1-93b88aa56532",
   "metadata": {},
   "source": [
    "Example 44"
   ]
  },
  {
   "cell_type": "code",
   "execution_count": 137,
   "id": "be36cb75-7337-4843-8238-b764b4026d9d",
   "metadata": {},
   "outputs": [],
   "source": [
    "thislist = [\"apple\", \"banana\", \"cherry\"]\n",
    "del thislist"
   ]
  },
  {
   "cell_type": "markdown",
   "id": "9e895372-ef5f-4e90-a8a9-0d8356fbda3d",
   "metadata": {},
   "source": [
    "Example 45"
   ]
  },
  {
   "cell_type": "code",
   "execution_count": 139,
   "id": "7cdd36d2-852a-4568-a23f-9311f8b15b83",
   "metadata": {},
   "outputs": [
    {
     "name": "stdout",
     "output_type": "stream",
     "text": [
      "[]\n"
     ]
    }
   ],
   "source": [
    "thislist = [\"apple\", \"banana\", \"cherry\"]\n",
    "thislist.clear()\n",
    "print(thislist)"
   ]
  },
  {
   "cell_type": "markdown",
   "id": "cdc45855-f189-4e9a-b1fe-26fa8e7f7c0e",
   "metadata": {},
   "source": [
    "Loop Lists Example 46"
   ]
  },
  {
   "cell_type": "code",
   "execution_count": 142,
   "id": "f5e3e7d4-f792-4fb2-9d94-6918a35c12a0",
   "metadata": {},
   "outputs": [
    {
     "name": "stdout",
     "output_type": "stream",
     "text": [
      "apple\n",
      "banana\n",
      "cherry\n"
     ]
    }
   ],
   "source": [
    "thislist = [\"apple\", \"banana\", \"cherry\"]\n",
    "for x in thislist:\n",
    "  print(x)"
   ]
  },
  {
   "cell_type": "markdown",
   "id": "cdc166d2-c0a2-4532-b7d7-a6c42a78e7fe",
   "metadata": {},
   "source": [
    "Example 47"
   ]
  },
  {
   "cell_type": "code",
   "execution_count": 145,
   "id": "69d22b4e-e8cc-4906-8422-5081ea236220",
   "metadata": {},
   "outputs": [
    {
     "name": "stdout",
     "output_type": "stream",
     "text": [
      "apple\n",
      "banana\n",
      "cherry\n"
     ]
    }
   ],
   "source": [
    "thislist = [\"apple\", \"banana\", \"cherry\"]\n",
    "for i in range(len(thislist)):\n",
    "  print(thislist[i])"
   ]
  },
  {
   "cell_type": "markdown",
   "id": "da9ed780-4e33-486e-8624-5cb8565b9c46",
   "metadata": {},
   "source": [
    "Example 48"
   ]
  },
  {
   "cell_type": "code",
   "execution_count": 151,
   "id": "e7439a30-200a-4837-bb10-e70af221bc5d",
   "metadata": {},
   "outputs": [
    {
     "name": "stdout",
     "output_type": "stream",
     "text": [
      "apple\n",
      "banana\n",
      "cherry\n"
     ]
    }
   ],
   "source": [
    "thislist = [\"apple\", \"banana\", \"cherry\"]\n",
    "i = 0\n",
    "while i < len(thislist):\n",
    "  print(thislist[i])\n",
    "  i = i + 1"
   ]
  },
  {
   "cell_type": "markdown",
   "id": "b7f178e0-3bbb-4962-8eb0-abc76148dd7d",
   "metadata": {},
   "source": [
    "Example 49"
   ]
  },
  {
   "cell_type": "code",
   "execution_count": 154,
   "id": "f6375383-7fa1-4f3a-84fe-3813b59a2243",
   "metadata": {},
   "outputs": [
    {
     "name": "stdout",
     "output_type": "stream",
     "text": [
      "apple\n",
      "banana\n",
      "cherry\n"
     ]
    },
    {
     "data": {
      "text/plain": [
       "[None, None, None]"
      ]
     },
     "execution_count": 154,
     "metadata": {},
     "output_type": "execute_result"
    }
   ],
   "source": [
    "thislist = [\"apple\", \"banana\", \"cherry\"]\n",
    "[print(x) for x in thislist]"
   ]
  },
  {
   "cell_type": "markdown",
   "id": "cf003eea-35ca-4710-b1d8-868644c63f01",
   "metadata": {},
   "source": [
    "List Comprehension Example 50"
   ]
  },
  {
   "cell_type": "code",
   "execution_count": 157,
   "id": "b3bd9b89-9907-4c2f-94c6-42c8d63fe310",
   "metadata": {},
   "outputs": [
    {
     "name": "stdout",
     "output_type": "stream",
     "text": [
      "['apple', 'banana', 'mango']\n"
     ]
    }
   ],
   "source": [
    "fruits = [\"apple\", \"banana\", \"cherry\", \"kiwi\", \"mango\"]\n",
    "newlist = []\n",
    "\n",
    "for x in fruits:\n",
    "  if \"a\" in x:\n",
    "    newlist.append(x)\n",
    "\n",
    "print(newlist)"
   ]
  },
  {
   "cell_type": "markdown",
   "id": "0543414c-67e5-431e-818f-0f7ceeebc6fe",
   "metadata": {},
   "source": [
    "Example 51"
   ]
  },
  {
   "cell_type": "code",
   "execution_count": 160,
   "id": "7337a538-e4e4-4982-9087-7fa5aa510ec0",
   "metadata": {},
   "outputs": [
    {
     "name": "stdout",
     "output_type": "stream",
     "text": [
      "['apple', 'banana', 'mango']\n"
     ]
    }
   ],
   "source": [
    "fruits = [\"apple\", \"banana\", \"cherry\", \"kiwi\", \"mango\"]\n",
    "\n",
    "newlist = [x for x in fruits if \"a\" in x]\n",
    "\n",
    "print(newlist)"
   ]
  },
  {
   "cell_type": "markdown",
   "id": "af21c5af-e4ef-4b78-87cd-2e85343cdf84",
   "metadata": {},
   "source": [
    "Example 52"
   ]
  },
  {
   "cell_type": "code",
   "execution_count": 163,
   "id": "d429580a-ee22-4d16-ac52-392b9aa98122",
   "metadata": {},
   "outputs": [],
   "source": [
    "newlist = [x for x in fruits if x != \"apple\"]"
   ]
  },
  {
   "cell_type": "markdown",
   "id": "00f3ad6c-747f-4e04-a435-bcdc0ad5f7ce",
   "metadata": {},
   "source": [
    "Example 53"
   ]
  },
  {
   "cell_type": "code",
   "execution_count": 166,
   "id": "f664ff0c-5da1-43b8-bdad-5025ac7fbb56",
   "metadata": {},
   "outputs": [],
   "source": [
    "newlist = [x for x in fruits]"
   ]
  },
  {
   "cell_type": "markdown",
   "id": "bc260125-0ad7-4c68-9576-b286a3b5f467",
   "metadata": {},
   "source": [
    "Examlple 54"
   ]
  },
  {
   "cell_type": "code",
   "execution_count": 169,
   "id": "c930c9b6-0ff5-42f8-b7eb-57ef4d9b7e0f",
   "metadata": {},
   "outputs": [],
   "source": [
    "newlist = [x for x in range(10)]"
   ]
  },
  {
   "cell_type": "markdown",
   "id": "e988b659-07ff-49ee-9a79-f8b35338d897",
   "metadata": {},
   "source": [
    "Example 55"
   ]
  },
  {
   "cell_type": "code",
   "execution_count": 172,
   "id": "850874f8-c716-44b5-b578-35e2913c03eb",
   "metadata": {},
   "outputs": [],
   "source": [
    "newlist = [x for x in range(10) if x < 5]"
   ]
  },
  {
   "cell_type": "markdown",
   "id": "f9605b33-5b9a-4c7e-bbe1-a52186b008b0",
   "metadata": {},
   "source": [
    "Example 56"
   ]
  },
  {
   "cell_type": "code",
   "execution_count": 175,
   "id": "98cb41a9-cb2f-4bdf-81a9-1ba2b59cd1fe",
   "metadata": {},
   "outputs": [],
   "source": [
    "newlist = [x.upper() for x in fruits]"
   ]
  },
  {
   "cell_type": "markdown",
   "id": "44c3dde3-8c9f-45a7-b6ed-d0182a2bdf20",
   "metadata": {},
   "source": [
    "Example 57"
   ]
  },
  {
   "cell_type": "code",
   "execution_count": 178,
   "id": "53ae96a8-c93d-4d3a-be09-9dc1a9e200b2",
   "metadata": {},
   "outputs": [],
   "source": [
    "newlist = ['hello' for x in fruits]"
   ]
  },
  {
   "cell_type": "markdown",
   "id": "6e449941-5465-491e-a9ca-58a2efb8a549",
   "metadata": {},
   "source": [
    "Example 58"
   ]
  },
  {
   "cell_type": "code",
   "execution_count": 181,
   "id": "769db234-276b-48e9-91a1-06de64703bfd",
   "metadata": {},
   "outputs": [],
   "source": [
    "newlist = [x if x != \"banana\" else \"orange\" for x in fruits]"
   ]
  },
  {
   "cell_type": "markdown",
   "id": "13a9a3da-c393-49c0-8f02-c195eb7aa7b0",
   "metadata": {},
   "source": [
    "Sort Lists Example 59"
   ]
  },
  {
   "cell_type": "code",
   "execution_count": 184,
   "id": "fbb8d577-f219-43b5-b6ff-e0eeed12aae1",
   "metadata": {},
   "outputs": [
    {
     "name": "stdout",
     "output_type": "stream",
     "text": [
      "['banana', 'kiwi', 'mango', 'orange', 'pineapple']\n"
     ]
    }
   ],
   "source": [
    "thislist = [\"orange\", \"mango\", \"kiwi\", \"pineapple\", \"banana\"]\n",
    "thislist.sort()\n",
    "print(thislist)"
   ]
  },
  {
   "cell_type": "markdown",
   "id": "37300292-5899-4256-9dbc-097f482738dc",
   "metadata": {},
   "source": [
    "Example 60"
   ]
  },
  {
   "cell_type": "code",
   "execution_count": 189,
   "id": "be4fda4b-6c98-4c05-8566-0f1915941256",
   "metadata": {},
   "outputs": [
    {
     "name": "stdout",
     "output_type": "stream",
     "text": [
      "[23, 50, 65, 82, 100]\n"
     ]
    }
   ],
   "source": [
    "thislist = [100, 50, 65, 82, 23]\n",
    "thislist.sort()\n",
    "print(thislist)"
   ]
  },
  {
   "cell_type": "markdown",
   "id": "d48263cb-e79b-4e1a-8498-3c3012dbe485",
   "metadata": {},
   "source": [
    "Example 61"
   ]
  },
  {
   "cell_type": "code",
   "execution_count": 192,
   "id": "e6df5143-eae5-428b-9b70-67959b98561c",
   "metadata": {},
   "outputs": [
    {
     "name": "stdout",
     "output_type": "stream",
     "text": [
      "['pineapple', 'orange', 'mango', 'kiwi', 'banana']\n"
     ]
    }
   ],
   "source": [
    "thislist = [\"orange\", \"mango\", \"kiwi\", \"pineapple\", \"banana\"]\n",
    "thislist.sort(reverse = True)\n",
    "print(thislist)"
   ]
  },
  {
   "cell_type": "markdown",
   "id": "efcf3925-acbd-4dea-89ca-12ca4dc8658f",
   "metadata": {},
   "source": [
    "Example 62"
   ]
  },
  {
   "cell_type": "code",
   "execution_count": 195,
   "id": "681ed55c-3a21-4c02-b7c9-838db8d6923c",
   "metadata": {},
   "outputs": [
    {
     "name": "stdout",
     "output_type": "stream",
     "text": [
      "[100, 82, 65, 50, 23]\n"
     ]
    }
   ],
   "source": [
    "thislist = [100, 50, 65, 82, 23]\n",
    "thislist.sort(reverse = True)\n",
    "print(thislist)"
   ]
  },
  {
   "cell_type": "markdown",
   "id": "ca01a5f3-ca3d-4380-afd1-41c7ca2a5dd7",
   "metadata": {},
   "source": [
    "Example 63"
   ]
  },
  {
   "cell_type": "code",
   "execution_count": 198,
   "id": "afb9c08a-6ec6-430d-afc0-af63dcc48ed9",
   "metadata": {},
   "outputs": [
    {
     "name": "stdout",
     "output_type": "stream",
     "text": [
      "[50, 65, 23, 82, 100]\n"
     ]
    }
   ],
   "source": [
    "def myfunc(n):\n",
    "  return abs(n - 50)\n",
    "\n",
    "thislist = [100, 50, 65, 82, 23]\n",
    "thislist.sort(key = myfunc)\n",
    "print(thislist)"
   ]
  },
  {
   "cell_type": "markdown",
   "id": "a8ad0618-4ffb-4ac8-b5bc-15767fb57314",
   "metadata": {},
   "source": [
    "Example 64"
   ]
  },
  {
   "cell_type": "code",
   "execution_count": 201,
   "id": "82ddac3d-fdff-49af-8066-3e07efd0887c",
   "metadata": {},
   "outputs": [
    {
     "name": "stdout",
     "output_type": "stream",
     "text": [
      "['Kiwi', 'Orange', 'banana', 'cherry']\n"
     ]
    }
   ],
   "source": [
    "thislist = [\"banana\", \"Orange\", \"Kiwi\", \"cherry\"]\n",
    "thislist.sort()\n",
    "print(thislist)"
   ]
  },
  {
   "cell_type": "markdown",
   "id": "31bb3dde-b11e-45d3-b585-470a0c134854",
   "metadata": {},
   "source": [
    "Example 65"
   ]
  },
  {
   "cell_type": "code",
   "execution_count": 204,
   "id": "8f33761a-3750-4203-a0e2-72b331916018",
   "metadata": {},
   "outputs": [
    {
     "name": "stdout",
     "output_type": "stream",
     "text": [
      "['banana', 'cherry', 'Kiwi', 'Orange']\n"
     ]
    }
   ],
   "source": [
    "thislist = [\"banana\", \"Orange\", \"Kiwi\", \"cherry\"]\n",
    "thislist.sort(key = str.lower)\n",
    "print(thislist)"
   ]
  },
  {
   "cell_type": "markdown",
   "id": "aff0314d-8623-49ff-bed5-1f760d8d39d2",
   "metadata": {},
   "source": [
    "Example 66"
   ]
  },
  {
   "cell_type": "code",
   "execution_count": 207,
   "id": "cbdf63b1-170f-49cb-b563-324135997f42",
   "metadata": {},
   "outputs": [
    {
     "name": "stdout",
     "output_type": "stream",
     "text": [
      "['cherry', 'Kiwi', 'Orange', 'banana']\n"
     ]
    }
   ],
   "source": [
    "thislist = [\"banana\", \"Orange\", \"Kiwi\", \"cherry\"]\n",
    "thislist.reverse()\n",
    "print(thislist)"
   ]
  },
  {
   "cell_type": "markdown",
   "id": "83c38bd1-2093-4943-b3af-0a1db4206ed8",
   "metadata": {},
   "source": [
    "Copy Lists Example 67"
   ]
  },
  {
   "cell_type": "code",
   "execution_count": 210,
   "id": "555cde03-e3d6-4fb2-8d61-a03c88235a95",
   "metadata": {},
   "outputs": [
    {
     "name": "stdout",
     "output_type": "stream",
     "text": [
      "['apple', 'banana', 'cherry']\n"
     ]
    }
   ],
   "source": [
    "thislist = [\"apple\", \"banana\", \"cherry\"]\n",
    "mylist = thislist.copy()\n",
    "print(mylist)"
   ]
  },
  {
   "cell_type": "markdown",
   "id": "22794383-7ee8-49ed-9b8a-8b4b632274a9",
   "metadata": {},
   "source": [
    "Example 68"
   ]
  },
  {
   "cell_type": "code",
   "execution_count": 213,
   "id": "1dc3ab18-7bbb-45a9-b630-33593d5bddc4",
   "metadata": {},
   "outputs": [
    {
     "name": "stdout",
     "output_type": "stream",
     "text": [
      "['apple', 'banana', 'cherry']\n"
     ]
    }
   ],
   "source": [
    "thislist = [\"apple\", \"banana\", \"cherry\"]\n",
    "mylist = list(thislist)\n",
    "print(mylist)"
   ]
  },
  {
   "cell_type": "markdown",
   "id": "7225c99a-0758-489d-b5d4-78dd7dd46e04",
   "metadata": {},
   "source": [
    "Example 69"
   ]
  },
  {
   "cell_type": "code",
   "execution_count": 216,
   "id": "09a5021c-9db6-4e44-804a-c85f133410e8",
   "metadata": {},
   "outputs": [
    {
     "name": "stdout",
     "output_type": "stream",
     "text": [
      "['apple', 'banana', 'cherry']\n"
     ]
    }
   ],
   "source": [
    "thislist = [\"apple\", \"banana\", \"cherry\"]\n",
    "mylist = thislist[:]\n",
    "print(mylist)"
   ]
  },
  {
   "cell_type": "markdown",
   "id": "3ab5501b-d7c5-4262-9138-ed9d3a258c89",
   "metadata": {},
   "source": [
    "Join Lists Example 70"
   ]
  },
  {
   "cell_type": "code",
   "execution_count": 219,
   "id": "38368d9f-61a0-4ab5-a241-31cd2a73d3e3",
   "metadata": {},
   "outputs": [
    {
     "name": "stdout",
     "output_type": "stream",
     "text": [
      "['a', 'b', 'c', 1, 2, 3]\n"
     ]
    }
   ],
   "source": [
    "list1 = [\"a\", \"b\", \"c\"]\n",
    "list2 = [1, 2, 3]\n",
    "\n",
    "list3 = list1 + list2\n",
    "print(list3)"
   ]
  },
  {
   "cell_type": "markdown",
   "id": "5bc26d81-0207-43f7-9d0b-30c26d02f85f",
   "metadata": {},
   "source": [
    "Example 71"
   ]
  },
  {
   "cell_type": "code",
   "execution_count": 222,
   "id": "55aac7bb-91ac-402e-9324-895db7f234c6",
   "metadata": {},
   "outputs": [
    {
     "name": "stdout",
     "output_type": "stream",
     "text": [
      "['a', 'b', 'c', 1, 2, 3]\n"
     ]
    }
   ],
   "source": [
    "list1 = [\"a\", \"b\" , \"c\"]\n",
    "list2 = [1, 2, 3]\n",
    "\n",
    "for x in list2:\n",
    "  list1.append(x)\n",
    "\n",
    "print(list1)"
   ]
  },
  {
   "cell_type": "markdown",
   "id": "6c395c69-f18a-4c44-ac70-fe7248920174",
   "metadata": {},
   "source": [
    "Example 72"
   ]
  },
  {
   "cell_type": "code",
   "execution_count": 225,
   "id": "4107d189-ccea-49f0-bd95-324d5f1a9a73",
   "metadata": {},
   "outputs": [
    {
     "name": "stdout",
     "output_type": "stream",
     "text": [
      "['a', 'b', 'c', 1, 2, 3]\n"
     ]
    }
   ],
   "source": [
    "list1 = [\"a\", \"b\" , \"c\"]\n",
    "list2 = [1, 2, 3]\n",
    "\n",
    "list1.extend(list2)\n",
    "print(list1)"
   ]
  },
  {
   "cell_type": "markdown",
   "id": "d1c2a4ee-89e1-4d4b-8054-12376c33e41f",
   "metadata": {},
   "source": [
    "List Methods"
   ]
  },
  {
   "cell_type": "markdown",
   "id": "13add05e-6536-489f-bf13-3430fc320d2e",
   "metadata": {},
   "source": [
    "append()\tAdds an element at the end of the list\n",
    "clear()\t    Removes all the elements from the list\n",
    "copy()\t    Returns a copy of the list\n",
    "count()\t    Returns the number of elements with the specified value\n",
    "extend()\tAdd the elements of a list (or any iterable), to the end of the current list\n",
    "index()\t    Returns the index of the first element with the specified value\n",
    "insert()\tAdds an element at the specified position\n",
    "pop()\t    Removes the element at the specified position\n",
    "remove()\tRemoves the item with the specified value\n",
    "reverse()\tReverses the order of the list\n",
    "sort()\t    Sorts the list"
   ]
  },
  {
   "cell_type": "markdown",
   "id": "9d2b36fc-d913-4251-a377-0a2782b79928",
   "metadata": {},
   "source": [
    "Tuples Example 73"
   ]
  },
  {
   "cell_type": "code",
   "execution_count": 231,
   "id": "914e3883-8ff0-4b2d-89b0-667c737ffe4d",
   "metadata": {},
   "outputs": [
    {
     "name": "stdout",
     "output_type": "stream",
     "text": [
      "('apple', 'banana', 'cherry')\n"
     ]
    }
   ],
   "source": [
    "thistuple = (\"apple\", \"banana\", \"cherry\")\n",
    "print(thistuple)"
   ]
  },
  {
   "cell_type": "markdown",
   "id": "02180bcb-6da8-466c-8102-1f2b96b065ca",
   "metadata": {},
   "source": [
    "Example 74"
   ]
  },
  {
   "cell_type": "code",
   "execution_count": 234,
   "id": "13f8d0f2-4bdd-4906-b106-9d938fb1f511",
   "metadata": {},
   "outputs": [
    {
     "name": "stdout",
     "output_type": "stream",
     "text": [
      "('apple', 'banana', 'cherry', 'apple', 'cherry')\n"
     ]
    }
   ],
   "source": [
    "thistuple = (\"apple\", \"banana\", \"cherry\", \"apple\", \"cherry\")\n",
    "print(thistuple)"
   ]
  },
  {
   "cell_type": "markdown",
   "id": "3d2d9c3f-123b-4f3b-9aa7-d408b549c10d",
   "metadata": {},
   "source": [
    "Example 75"
   ]
  },
  {
   "cell_type": "code",
   "execution_count": 237,
   "id": "4ac98e65-60f2-4442-8099-2b997d8f4f0b",
   "metadata": {},
   "outputs": [
    {
     "name": "stdout",
     "output_type": "stream",
     "text": [
      "3\n"
     ]
    }
   ],
   "source": [
    "thistuple = (\"apple\", \"banana\", \"cherry\")\n",
    "print(len(thistuple))"
   ]
  },
  {
   "cell_type": "markdown",
   "id": "bc4fb7c6-bd72-4a0c-8048-bc63ef71b69a",
   "metadata": {},
   "source": [
    "Example 76"
   ]
  },
  {
   "cell_type": "code",
   "execution_count": 240,
   "id": "4a0c707a-2af4-4a16-bf82-19fadee0655d",
   "metadata": {},
   "outputs": [
    {
     "name": "stdout",
     "output_type": "stream",
     "text": [
      "<class 'tuple'>\n",
      "<class 'str'>\n"
     ]
    }
   ],
   "source": [
    "thistuple = (\"apple\",)\n",
    "print(type(thistuple))\n",
    "\n",
    "#NOT a tuple\n",
    "thistuple = (\"apple\")\n",
    "print(type(thistuple))"
   ]
  },
  {
   "cell_type": "markdown",
   "id": "3ca27632-708b-4a47-af9e-46e08d8f1b2d",
   "metadata": {},
   "source": [
    "Example 77"
   ]
  },
  {
   "cell_type": "code",
   "execution_count": 243,
   "id": "73606a11-eb68-460f-8166-f797eb7c3981",
   "metadata": {},
   "outputs": [],
   "source": [
    "tuple1 = (\"apple\", \"banana\", \"cherry\")\n",
    "tuple2 = (1, 5, 7, 9, 3)\n",
    "tuple3 = (True, False, False)"
   ]
  },
  {
   "cell_type": "markdown",
   "id": "f6689a83-5ec0-40de-b312-a2a0768a131e",
   "metadata": {},
   "source": [
    "Example 78"
   ]
  },
  {
   "cell_type": "code",
   "execution_count": 246,
   "id": "2b5b2cf5-e120-4e28-99ca-97fe8fdefbde",
   "metadata": {},
   "outputs": [],
   "source": [
    "tuple1 = (\"abc\", 34, True, 40, \"male\")"
   ]
  },
  {
   "cell_type": "markdown",
   "id": "a1a5f9a7-daaa-4abf-8dcb-c084b9d727c1",
   "metadata": {},
   "source": [
    "Example 79"
   ]
  },
  {
   "cell_type": "code",
   "execution_count": 249,
   "id": "d454ed4c-069b-46a3-a83e-cf536281e24b",
   "metadata": {},
   "outputs": [
    {
     "name": "stdout",
     "output_type": "stream",
     "text": [
      "<class 'tuple'>\n"
     ]
    }
   ],
   "source": [
    "mytuple = (\"apple\", \"banana\", \"cherry\")\n",
    "print(type(mytuple))"
   ]
  },
  {
   "cell_type": "markdown",
   "id": "73eebfef-5e5c-43ae-91e9-9c4ed47b7cce",
   "metadata": {},
   "source": [
    "Example 80"
   ]
  },
  {
   "cell_type": "code",
   "execution_count": 253,
   "id": "3f7f0ae0-a186-4148-ad7c-0c249c516d0c",
   "metadata": {},
   "outputs": [
    {
     "name": "stdout",
     "output_type": "stream",
     "text": [
      "('apple', 'banana', 'cherry')\n"
     ]
    }
   ],
   "source": [
    "thistuple = tuple((\"apple\", \"banana\", \"cherry\")) # note the double round-brackets\n",
    "print(thistuple)"
   ]
  },
  {
   "cell_type": "markdown",
   "id": "ec513f07-ac5a-4731-b6d4-1a734bb4ecc6",
   "metadata": {},
   "source": [
    "Access Tuple Items Example 81"
   ]
  },
  {
   "cell_type": "code",
   "execution_count": 256,
   "id": "93a4ecd5-0ab1-438b-ad34-d292ad0a8eaf",
   "metadata": {},
   "outputs": [
    {
     "name": "stdout",
     "output_type": "stream",
     "text": [
      "banana\n"
     ]
    }
   ],
   "source": [
    "thistuple = (\"apple\", \"banana\", \"cherry\")\n",
    "print(thistuple[1])"
   ]
  },
  {
   "cell_type": "markdown",
   "id": "ba2f4298-ab48-4f84-9012-f63dd9f13616",
   "metadata": {},
   "source": [
    "Example 82"
   ]
  },
  {
   "cell_type": "code",
   "execution_count": 259,
   "id": "33e1fa71-cab4-4a32-bdcd-08bc331442ae",
   "metadata": {},
   "outputs": [
    {
     "name": "stdout",
     "output_type": "stream",
     "text": [
      "cherry\n"
     ]
    }
   ],
   "source": [
    "thistuple = (\"apple\", \"banana\", \"cherry\")\n",
    "print(thistuple[-1])"
   ]
  },
  {
   "cell_type": "markdown",
   "id": "f6f292a1-c684-4aaa-97c0-475023cc062e",
   "metadata": {},
   "source": [
    "Example 83"
   ]
  },
  {
   "cell_type": "code",
   "execution_count": 262,
   "id": "12524b1c-46ab-4a02-9672-3553b20ac416",
   "metadata": {},
   "outputs": [
    {
     "name": "stdout",
     "output_type": "stream",
     "text": [
      "('cherry', 'orange', 'kiwi')\n"
     ]
    }
   ],
   "source": [
    "thistuple = (\"apple\", \"banana\", \"cherry\", \"orange\", \"kiwi\", \"melon\", \"mango\")\n",
    "print(thistuple[2:5])"
   ]
  },
  {
   "cell_type": "markdown",
   "id": "1feed5c2-ed91-48cd-9c1c-7a3ed80f7a79",
   "metadata": {},
   "source": [
    "Example 84"
   ]
  },
  {
   "cell_type": "code",
   "execution_count": 265,
   "id": "67497677-8e69-4398-a1d8-e606c53279c0",
   "metadata": {},
   "outputs": [
    {
     "name": "stdout",
     "output_type": "stream",
     "text": [
      "('apple', 'banana', 'cherry', 'orange')\n"
     ]
    }
   ],
   "source": [
    "thistuple = (\"apple\", \"banana\", \"cherry\", \"orange\", \"kiwi\", \"melon\", \"mango\")\n",
    "print(thistuple[:4])"
   ]
  },
  {
   "cell_type": "markdown",
   "id": "9367af0e-baa0-43d5-8235-b7be003bfafd",
   "metadata": {},
   "source": [
    "Example 85"
   ]
  },
  {
   "cell_type": "code",
   "execution_count": 268,
   "id": "97c8847f-7ba6-4eca-9a02-715c4e3831d3",
   "metadata": {},
   "outputs": [
    {
     "name": "stdout",
     "output_type": "stream",
     "text": [
      "('cherry', 'orange', 'kiwi', 'melon', 'mango')\n"
     ]
    }
   ],
   "source": [
    "thistuple = (\"apple\", \"banana\", \"cherry\", \"orange\", \"kiwi\", \"melon\", \"mango\")\n",
    "print(thistuple[2:])"
   ]
  },
  {
   "cell_type": "markdown",
   "id": "0a07c8d2-8f97-4a29-ad88-0a096770ce15",
   "metadata": {},
   "source": [
    "Example 86"
   ]
  },
  {
   "cell_type": "code",
   "execution_count": 271,
   "id": "d8a4aee1-fe62-448d-8532-62109b719947",
   "metadata": {},
   "outputs": [
    {
     "name": "stdout",
     "output_type": "stream",
     "text": [
      "('orange', 'kiwi', 'melon')\n"
     ]
    }
   ],
   "source": [
    "thistuple = (\"apple\", \"banana\", \"cherry\", \"orange\", \"kiwi\", \"melon\", \"mango\")\n",
    "print(thistuple[-4:-1])"
   ]
  },
  {
   "cell_type": "markdown",
   "id": "b7cdc54f-2dca-43a1-b382-5f6c417b6d9b",
   "metadata": {},
   "source": [
    "Example 87"
   ]
  },
  {
   "cell_type": "code",
   "execution_count": 274,
   "id": "96c6d058-6be9-4fe2-8da9-217f433d1aa3",
   "metadata": {},
   "outputs": [
    {
     "name": "stdout",
     "output_type": "stream",
     "text": [
      "Yes, 'apple' is in the fruits tuple\n"
     ]
    }
   ],
   "source": [
    "thistuple = (\"apple\", \"banana\", \"cherry\")\n",
    "if \"apple\" in thistuple:\n",
    "  print(\"Yes, 'apple' is in the fruits tuple\")"
   ]
  },
  {
   "cell_type": "markdown",
   "id": "d8fb7abe-cd64-4972-94d5-7f0ce8d03008",
   "metadata": {},
   "source": [
    "Update Tuples Example 88"
   ]
  },
  {
   "cell_type": "code",
   "execution_count": 277,
   "id": "713c2bd4-b99f-418c-adbe-51d275b5e4ce",
   "metadata": {},
   "outputs": [
    {
     "name": "stdout",
     "output_type": "stream",
     "text": [
      "('apple', 'kiwi', 'cherry')\n"
     ]
    }
   ],
   "source": [
    "x = (\"apple\", \"banana\", \"cherry\")\n",
    "y = list(x)\n",
    "y[1] = \"kiwi\"\n",
    "x = tuple(y)\n",
    "\n",
    "print(x)"
   ]
  },
  {
   "cell_type": "markdown",
   "id": "5c21066a-bc25-427c-8156-042c2d93850d",
   "metadata": {},
   "source": [
    "Example 89"
   ]
  },
  {
   "cell_type": "code",
   "execution_count": 280,
   "id": "3a2d85e5-a3f3-49a8-9e08-46cc58a3735d",
   "metadata": {},
   "outputs": [],
   "source": [
    "thistuple = (\"apple\", \"banana\", \"cherry\")\n",
    "y = list(thistuple)\n",
    "y.append(\"orange\")\n",
    "thistuple = tuple(y)"
   ]
  },
  {
   "cell_type": "markdown",
   "id": "cea63325-de6b-4623-ba47-a338784a82ba",
   "metadata": {},
   "source": [
    "Example 90"
   ]
  },
  {
   "cell_type": "code",
   "execution_count": 283,
   "id": "a6cd0e7f-4bd8-4bb5-844c-b70fa7aa019a",
   "metadata": {},
   "outputs": [
    {
     "name": "stdout",
     "output_type": "stream",
     "text": [
      "('apple', 'banana', 'cherry', 'orange')\n"
     ]
    }
   ],
   "source": [
    "thistuple = (\"apple\", \"banana\", \"cherry\")\n",
    "y = (\"orange\",)\n",
    "thistuple += y\n",
    "\n",
    "print(thistuple)"
   ]
  },
  {
   "cell_type": "markdown",
   "id": "7b17287a-33e8-4db9-9873-09920cf42899",
   "metadata": {},
   "source": [
    "Example 91"
   ]
  },
  {
   "cell_type": "code",
   "execution_count": 286,
   "id": "3019b318-0169-452c-9b89-6d1189a6baa1",
   "metadata": {},
   "outputs": [],
   "source": [
    "thistuple = (\"apple\", \"banana\", \"cherry\")\n",
    "y = list(thistuple)\n",
    "y.remove(\"apple\")\n",
    "thistuple = tuple(y)"
   ]
  },
  {
   "cell_type": "markdown",
   "id": "9b60ecbe-59b2-4378-a261-a61f64f4bf70",
   "metadata": {},
   "source": [
    "Example 92"
   ]
  },
  {
   "cell_type": "code",
   "execution_count": 289,
   "id": "5a7495cf-070f-421c-b4b7-f18bcae98fe9",
   "metadata": {},
   "outputs": [
    {
     "ename": "NameError",
     "evalue": "name 'thistuple' is not defined",
     "output_type": "error",
     "traceback": [
      "\u001b[1;31m---------------------------------------------------------------------------\u001b[0m",
      "\u001b[1;31mNameError\u001b[0m                                 Traceback (most recent call last)",
      "Cell \u001b[1;32mIn[289], line 3\u001b[0m\n\u001b[0;32m      1\u001b[0m thistuple \u001b[38;5;241m=\u001b[39m (\u001b[38;5;124m\"\u001b[39m\u001b[38;5;124mapple\u001b[39m\u001b[38;5;124m\"\u001b[39m, \u001b[38;5;124m\"\u001b[39m\u001b[38;5;124mbanana\u001b[39m\u001b[38;5;124m\"\u001b[39m, \u001b[38;5;124m\"\u001b[39m\u001b[38;5;124mcherry\u001b[39m\u001b[38;5;124m\"\u001b[39m)\n\u001b[0;32m      2\u001b[0m \u001b[38;5;28;01mdel\u001b[39;00m thistuple\n\u001b[1;32m----> 3\u001b[0m \u001b[38;5;28mprint\u001b[39m(thistuple)\n",
      "\u001b[1;31mNameError\u001b[0m: name 'thistuple' is not defined"
     ]
    }
   ],
   "source": [
    "thistuple = (\"apple\", \"banana\", \"cherry\")\n",
    "del thistuple\n",
    "print(thistuple) #this will raise an error because the tuple no longer exists"
   ]
  },
  {
   "cell_type": "markdown",
   "id": "15725d65-3883-4d5c-b466-142528d7a2a1",
   "metadata": {},
   "source": [
    "Unpack Tuples Example 93"
   ]
  },
  {
   "cell_type": "code",
   "execution_count": 292,
   "id": "cefc2cdf-d242-4222-892d-4188ccc2a1a5",
   "metadata": {},
   "outputs": [],
   "source": [
    "fruits = (\"apple\", \"banana\", \"cherry\")"
   ]
  },
  {
   "cell_type": "markdown",
   "id": "11ba7b63-fdf1-4298-8741-2487ce374ac5",
   "metadata": {},
   "source": [
    "Example 94"
   ]
  },
  {
   "cell_type": "code",
   "execution_count": 295,
   "id": "70931582-e91e-4111-9ea2-a81359407a2d",
   "metadata": {},
   "outputs": [
    {
     "name": "stdout",
     "output_type": "stream",
     "text": [
      "apple\n",
      "banana\n",
      "cherry\n"
     ]
    }
   ],
   "source": [
    "fruits = (\"apple\", \"banana\", \"cherry\")\n",
    "\n",
    "(green, yellow, red) = fruits\n",
    "\n",
    "print(green)\n",
    "print(yellow)\n",
    "print(red)"
   ]
  },
  {
   "cell_type": "markdown",
   "id": "493b0e3d-0d48-4c3b-baca-2eedd4ad99d8",
   "metadata": {},
   "source": [
    "Example 95"
   ]
  },
  {
   "cell_type": "code",
   "execution_count": 298,
   "id": "9c923959-d2c9-4e40-a4f0-7cc69851f838",
   "metadata": {},
   "outputs": [
    {
     "name": "stdout",
     "output_type": "stream",
     "text": [
      "apple\n",
      "banana\n",
      "['cherry', 'strawberry', 'raspberry']\n"
     ]
    }
   ],
   "source": [
    "fruits = (\"apple\", \"banana\", \"cherry\", \"strawberry\", \"raspberry\")\n",
    "\n",
    "(green, yellow, *red) = fruits\n",
    "\n",
    "print(green)\n",
    "print(yellow)\n",
    "print(red)"
   ]
  },
  {
   "cell_type": "markdown",
   "id": "b29ed0f1-8605-4156-b0c7-77499fbad2e1",
   "metadata": {},
   "source": [
    "Example 96"
   ]
  },
  {
   "cell_type": "code",
   "execution_count": 301,
   "id": "60c0426b-1f3d-449d-b385-86fc2501e4f4",
   "metadata": {},
   "outputs": [
    {
     "name": "stdout",
     "output_type": "stream",
     "text": [
      "apple\n",
      "['mango', 'papaya', 'pineapple']\n",
      "cherry\n"
     ]
    }
   ],
   "source": [
    "fruits = (\"apple\", \"mango\", \"papaya\", \"pineapple\", \"cherry\")\n",
    "\n",
    "(green, *tropic, red) = fruits\n",
    "\n",
    "print(green)\n",
    "print(tropic)\n",
    "print(red)"
   ]
  },
  {
   "cell_type": "markdown",
   "id": "6e5fc054-11b4-43d1-875a-a49fc07d5585",
   "metadata": {},
   "source": [
    "Loop Tuples Example 97"
   ]
  },
  {
   "cell_type": "code",
   "execution_count": 304,
   "id": "2d277de4-9ad9-460d-be84-76f6cfe49ce5",
   "metadata": {},
   "outputs": [
    {
     "name": "stdout",
     "output_type": "stream",
     "text": [
      "apple\n",
      "banana\n",
      "cherry\n"
     ]
    }
   ],
   "source": [
    "thistuple = (\"apple\", \"banana\", \"cherry\")\n",
    "for x in thistuple:\n",
    "  print(x)"
   ]
  },
  {
   "cell_type": "markdown",
   "id": "131dbfe5-1505-4e43-bad4-14d257c7421b",
   "metadata": {},
   "source": [
    "Example 98"
   ]
  },
  {
   "cell_type": "code",
   "execution_count": 308,
   "id": "784020bf-3a49-4e3f-bf76-359aeef8228a",
   "metadata": {},
   "outputs": [
    {
     "name": "stdout",
     "output_type": "stream",
     "text": [
      "apple\n",
      "banana\n",
      "cherry\n"
     ]
    }
   ],
   "source": [
    "thistuple = (\"apple\", \"banana\", \"cherry\")\n",
    "for i in range(len(thistuple)):\n",
    "  print(thistuple[i])"
   ]
  },
  {
   "cell_type": "markdown",
   "id": "526c03b2-9753-42b1-a31e-2f89f14f5554",
   "metadata": {},
   "source": [
    "Example 99"
   ]
  },
  {
   "cell_type": "code",
   "execution_count": 311,
   "id": "f431ea51-c825-47d0-8510-bf34e32cb307",
   "metadata": {},
   "outputs": [
    {
     "name": "stdout",
     "output_type": "stream",
     "text": [
      "apple\n",
      "banana\n",
      "cherry\n"
     ]
    }
   ],
   "source": [
    "thistuple = (\"apple\", \"banana\", \"cherry\")\n",
    "i = 0\n",
    "while i < len(thistuple):\n",
    "  print(thistuple[i])\n",
    "  i = i + 1"
   ]
  },
  {
   "cell_type": "markdown",
   "id": "0e2d8013-905e-4f7e-92c6-974e2a2a37a5",
   "metadata": {},
   "source": [
    "Join Tuples Example 100"
   ]
  },
  {
   "cell_type": "code",
   "execution_count": 314,
   "id": "892e27cb-fb14-48db-a45c-a9e304c79a8d",
   "metadata": {},
   "outputs": [
    {
     "name": "stdout",
     "output_type": "stream",
     "text": [
      "('a', 'b', 'c', 1, 2, 3)\n"
     ]
    }
   ],
   "source": [
    "tuple1 = (\"a\", \"b\" , \"c\")\n",
    "tuple2 = (1, 2, 3)\n",
    "\n",
    "tuple3 = tuple1 + tuple2\n",
    "print(tuple3)"
   ]
  },
  {
   "cell_type": "markdown",
   "id": "359551d0-0b16-4ffc-bf01-f8c9fb890a43",
   "metadata": {},
   "source": [
    "Example 101"
   ]
  },
  {
   "cell_type": "code",
   "execution_count": 317,
   "id": "256a10a6-caa2-4e48-9cac-e0c3a940ba7b",
   "metadata": {},
   "outputs": [
    {
     "name": "stdout",
     "output_type": "stream",
     "text": [
      "('apple', 'banana', 'cherry', 'apple', 'banana', 'cherry')\n"
     ]
    }
   ],
   "source": [
    "fruits = (\"apple\", \"banana\", \"cherry\")\n",
    "mytuple = fruits * 2\n",
    "\n",
    "print(mytuple)"
   ]
  },
  {
   "cell_type": "markdown",
   "id": "aeafea9f-7ba9-4e77-acc7-85f996976f6c",
   "metadata": {},
   "source": [
    "Tuple Methods "
   ]
  },
  {
   "cell_type": "markdown",
   "id": "23fd2a63-47b4-4dff-9427-8a498dcd0653",
   "metadata": {},
   "source": [
    "count()\tReturns the number of times a specified value occurs in a tuple\n",
    "index()\tSearches the tuple for a specified value and returns the position of where it was found"
   ]
  },
  {
   "cell_type": "markdown",
   "id": "abd433c4-df30-4bb6-8432-176dae7912ad",
   "metadata": {},
   "source": [
    "Sets Example 102"
   ]
  },
  {
   "cell_type": "code",
   "execution_count": 322,
   "id": "a38360e3-f04d-45e1-9664-b8750df4ffb8",
   "metadata": {},
   "outputs": [
    {
     "name": "stdout",
     "output_type": "stream",
     "text": [
      "{'cherry', 'apple', 'banana'}\n"
     ]
    }
   ],
   "source": [
    "thisset = {\"apple\", \"banana\", \"cherry\"}\n",
    "print(thisset)"
   ]
  },
  {
   "cell_type": "markdown",
   "id": "ef27da04-151b-446f-90ef-1685facf7d3b",
   "metadata": {},
   "source": [
    "Example 103"
   ]
  },
  {
   "cell_type": "code",
   "execution_count": 325,
   "id": "4b6974c7-f4ea-488b-acbb-218e4533cdf2",
   "metadata": {},
   "outputs": [
    {
     "name": "stdout",
     "output_type": "stream",
     "text": [
      "{'cherry', 'apple', 'banana'}\n"
     ]
    }
   ],
   "source": [
    "thisset = {\"apple\", \"banana\", \"cherry\", \"apple\"}\n",
    "\n",
    "print(thisset)\n"
   ]
  },
  {
   "cell_type": "markdown",
   "id": "04b1a197-3ca4-46bd-9ded-e6f860ed20ea",
   "metadata": {},
   "source": [
    "Example 104"
   ]
  },
  {
   "cell_type": "code",
   "execution_count": 328,
   "id": "a12f89ca-937f-4687-849d-65eb9587f337",
   "metadata": {},
   "outputs": [
    {
     "name": "stdout",
     "output_type": "stream",
     "text": [
      "{True, 2, 'apple', 'cherry', 'banana'}\n"
     ]
    }
   ],
   "source": [
    "thisset = {\"apple\", \"banana\", \"cherry\", True, 1, 2}\n",
    "\n",
    "print(thisset)"
   ]
  },
  {
   "cell_type": "markdown",
   "id": "82c049ff-dd9c-400c-b02b-62631bad5fc8",
   "metadata": {},
   "source": [
    "Example 105"
   ]
  },
  {
   "cell_type": "code",
   "execution_count": 331,
   "id": "0c2ff979-0bd9-4054-9828-d8bce3437541",
   "metadata": {},
   "outputs": [
    {
     "name": "stdout",
     "output_type": "stream",
     "text": [
      "{False, True, 'apple', 'cherry', 'banana'}\n"
     ]
    }
   ],
   "source": [
    "thisset = {\"apple\", \"banana\", \"cherry\", False, True, 0}\n",
    "\n",
    "print(thisset)"
   ]
  },
  {
   "cell_type": "markdown",
   "id": "a0930b13-717b-416d-81cd-616099e6a265",
   "metadata": {},
   "source": [
    "Example 106"
   ]
  },
  {
   "cell_type": "code",
   "execution_count": 334,
   "id": "d87a1694-725c-402f-82c0-133c5a76dce7",
   "metadata": {},
   "outputs": [
    {
     "name": "stdout",
     "output_type": "stream",
     "text": [
      "3\n"
     ]
    }
   ],
   "source": [
    "thisset = {\"apple\", \"banana\", \"cherry\"}\n",
    "\n",
    "print(len(thisset))"
   ]
  },
  {
   "cell_type": "markdown",
   "id": "d8e59592-b772-4022-b7d3-5a4f45b427f2",
   "metadata": {},
   "source": [
    "Example 107"
   ]
  },
  {
   "cell_type": "code",
   "execution_count": 337,
   "id": "31455215-18d6-4770-a630-877a946ff20c",
   "metadata": {},
   "outputs": [],
   "source": [
    "set1 = {\"apple\", \"banana\", \"cherry\"}\n",
    "set2 = {1, 5, 7, 9, 3}\n",
    "set3 = {True, False, False}"
   ]
  },
  {
   "cell_type": "markdown",
   "id": "fbb0a301-7808-4e21-a8db-5dacde23c101",
   "metadata": {},
   "source": [
    "Example 108"
   ]
  },
  {
   "cell_type": "code",
   "execution_count": 340,
   "id": "51a8f779-0e88-4da8-bf5a-87e71de693c8",
   "metadata": {},
   "outputs": [],
   "source": [
    "set1 = {\"abc\", 34, True, 40, \"male\"}"
   ]
  },
  {
   "cell_type": "markdown",
   "id": "7cb288d0-7f49-4aa2-b8e9-c2252b1b2187",
   "metadata": {},
   "source": [
    "Example 109"
   ]
  },
  {
   "cell_type": "code",
   "execution_count": 343,
   "id": "c6b5c18a-b341-4a75-a883-560aca146301",
   "metadata": {},
   "outputs": [
    {
     "name": "stdout",
     "output_type": "stream",
     "text": [
      "<class 'set'>\n"
     ]
    }
   ],
   "source": [
    "myset = {\"apple\", \"banana\", \"cherry\"}\n",
    "print(type(myset))"
   ]
  },
  {
   "cell_type": "markdown",
   "id": "ab548b98-d660-4a7b-85e5-7e95e3c7ee96",
   "metadata": {},
   "source": [
    "Example 110"
   ]
  },
  {
   "cell_type": "code",
   "execution_count": 346,
   "id": "e542bdad-60ac-41d0-8d87-f1324c75e25e",
   "metadata": {},
   "outputs": [
    {
     "name": "stdout",
     "output_type": "stream",
     "text": [
      "{'cherry', 'apple', 'banana'}\n"
     ]
    }
   ],
   "source": [
    "thisset = set((\"apple\", \"banana\", \"cherry\")) # note the double round-brackets\n",
    "print(thisset)"
   ]
  },
  {
   "cell_type": "markdown",
   "id": "4a4df3d5-b766-4a3b-9ae2-508115e7f164",
   "metadata": {},
   "source": [
    "Access Set Items Example 111"
   ]
  },
  {
   "cell_type": "code",
   "execution_count": 349,
   "id": "c9ccd8fc-2a2e-42cd-8ef8-201010980423",
   "metadata": {},
   "outputs": [
    {
     "name": "stdout",
     "output_type": "stream",
     "text": [
      "cherry\n",
      "apple\n",
      "banana\n"
     ]
    }
   ],
   "source": [
    "thisset = {\"apple\", \"banana\", \"cherry\"}\n",
    "\n",
    "for x in thisset:\n",
    "  print(x)"
   ]
  },
  {
   "cell_type": "markdown",
   "id": "58842d2c-a602-4dcd-8bcc-213112676d1c",
   "metadata": {},
   "source": [
    "Example 112"
   ]
  },
  {
   "cell_type": "code",
   "execution_count": 352,
   "id": "73e6706f-7ad1-4790-8ce6-2d9f76f3a3ed",
   "metadata": {},
   "outputs": [
    {
     "name": "stdout",
     "output_type": "stream",
     "text": [
      "True\n"
     ]
    }
   ],
   "source": [
    "thisset = {\"apple\", \"banana\", \"cherry\"}\n",
    "\n",
    "print(\"banana\" in thisset)"
   ]
  },
  {
   "cell_type": "markdown",
   "id": "34ba254a-e4ba-429c-b728-7cc31dea1db3",
   "metadata": {},
   "source": [
    "Example 113"
   ]
  },
  {
   "cell_type": "code",
   "execution_count": 355,
   "id": "7d8df069-0a96-4890-a06b-314c0fcde7c6",
   "metadata": {},
   "outputs": [
    {
     "name": "stdout",
     "output_type": "stream",
     "text": [
      "False\n"
     ]
    }
   ],
   "source": [
    "thisset = {\"apple\", \"banana\", \"cherry\"}\n",
    "\n",
    "print(\"banana\" not in thisset)"
   ]
  },
  {
   "cell_type": "markdown",
   "id": "e33b816a-cff9-4ad4-ab99-3e8865b6bac8",
   "metadata": {},
   "source": [
    "Add Set Items Example 114"
   ]
  },
  {
   "cell_type": "code",
   "execution_count": 359,
   "id": "c9042545-5875-46c6-b017-1dac73137c75",
   "metadata": {},
   "outputs": [
    {
     "name": "stdout",
     "output_type": "stream",
     "text": [
      "{'orange', 'cherry', 'apple', 'banana'}\n"
     ]
    }
   ],
   "source": [
    "thisset = {\"apple\", \"banana\", \"cherry\"}\n",
    "\n",
    "thisset.add(\"orange\")\n",
    "\n",
    "print(thisset)"
   ]
  },
  {
   "cell_type": "markdown",
   "id": "d32d6c0b-776b-4b9d-bdc9-18c6ba6c4594",
   "metadata": {},
   "source": [
    "Example 115"
   ]
  },
  {
   "cell_type": "code",
   "execution_count": 362,
   "id": "ae2ed7ed-7a26-4678-92c9-df9728e354c4",
   "metadata": {},
   "outputs": [
    {
     "name": "stdout",
     "output_type": "stream",
     "text": [
      "{'apple', 'mango', 'banana', 'papaya', 'pineapple', 'cherry'}\n"
     ]
    }
   ],
   "source": [
    "thisset = {\"apple\", \"banana\", \"cherry\"}\n",
    "tropical = {\"pineapple\", \"mango\", \"papaya\"}\n",
    "\n",
    "thisset.update(tropical)\n",
    "\n",
    "print(thisset)"
   ]
  },
  {
   "cell_type": "markdown",
   "id": "7a163cd7-09e0-499e-8242-3681348c1f35",
   "metadata": {},
   "source": [
    "Example 116"
   ]
  },
  {
   "cell_type": "code",
   "execution_count": 365,
   "id": "f5611954-27b2-4c38-a8f9-dbe620030514",
   "metadata": {},
   "outputs": [
    {
     "name": "stdout",
     "output_type": "stream",
     "text": [
      "{'banana', 'orange', 'apple', 'kiwi', 'cherry'}\n"
     ]
    }
   ],
   "source": [
    "thisset = {\"apple\", \"banana\", \"cherry\"}\n",
    "mylist = [\"kiwi\", \"orange\"]\n",
    "\n",
    "thisset.update(mylist)\n",
    "\n",
    "print(thisset)"
   ]
  },
  {
   "cell_type": "markdown",
   "id": "7f3c33d7-6c32-4097-9715-a442cc350a18",
   "metadata": {},
   "source": [
    "Remove Set Items Example 117"
   ]
  },
  {
   "cell_type": "code",
   "execution_count": 368,
   "id": "8b2c9cd1-900e-4046-acec-6aaae7f926b0",
   "metadata": {},
   "outputs": [
    {
     "name": "stdout",
     "output_type": "stream",
     "text": [
      "{'cherry', 'apple'}\n"
     ]
    }
   ],
   "source": [
    "thisset = {\"apple\", \"banana\", \"cherry\"}\n",
    "\n",
    "thisset.remove(\"banana\")\n",
    "\n",
    "print(thisset)"
   ]
  },
  {
   "cell_type": "markdown",
   "id": "3ec24371-2844-4e22-b4a2-b7c7f24a60d3",
   "metadata": {},
   "source": [
    "Example 118"
   ]
  },
  {
   "cell_type": "code",
   "execution_count": 371,
   "id": "320aafab-10db-4442-8271-cefeb3bd404f",
   "metadata": {},
   "outputs": [
    {
     "name": "stdout",
     "output_type": "stream",
     "text": [
      "{'cherry', 'apple'}\n"
     ]
    }
   ],
   "source": [
    "thisset = {\"apple\", \"banana\", \"cherry\"}\n",
    "\n",
    "thisset.discard(\"banana\")\n",
    "\n",
    "print(thisset)"
   ]
  },
  {
   "cell_type": "markdown",
   "id": "4941d390-0418-431a-a760-2f166f3f7bed",
   "metadata": {},
   "source": [
    "Example 119"
   ]
  },
  {
   "cell_type": "code",
   "execution_count": 374,
   "id": "f1fc069d-a995-4dd3-9f69-3d6c6cc425d8",
   "metadata": {},
   "outputs": [
    {
     "name": "stdout",
     "output_type": "stream",
     "text": [
      "cherry\n",
      "{'apple', 'banana'}\n"
     ]
    }
   ],
   "source": [
    "thisset = {\"apple\", \"banana\", \"cherry\"}\n",
    "\n",
    "x = thisset.pop()\n",
    "\n",
    "print(x)\n",
    "\n",
    "print(thisset)"
   ]
  },
  {
   "cell_type": "markdown",
   "id": "116dac79-a020-457d-92f8-900cc2dd08b8",
   "metadata": {},
   "source": [
    "Example 120"
   ]
  },
  {
   "cell_type": "code",
   "execution_count": 377,
   "id": "198855e3-d42b-434b-a7db-5280632df634",
   "metadata": {},
   "outputs": [
    {
     "name": "stdout",
     "output_type": "stream",
     "text": [
      "set()\n"
     ]
    }
   ],
   "source": [
    "thisset = {\"apple\", \"banana\", \"cherry\"}\n",
    "\n",
    "thisset.clear()\n",
    "\n",
    "print(thisset)"
   ]
  },
  {
   "cell_type": "markdown",
   "id": "589811f8-d5e6-4015-8a44-ddde47007354",
   "metadata": {},
   "source": [
    "Example 121"
   ]
  },
  {
   "cell_type": "code",
   "execution_count": 382,
   "id": "e6975b2d-458d-4700-b96b-a27e67fbc805",
   "metadata": {},
   "outputs": [
    {
     "ename": "NameError",
     "evalue": "name 'thisset' is not defined",
     "output_type": "error",
     "traceback": [
      "\u001b[1;31m---------------------------------------------------------------------------\u001b[0m",
      "\u001b[1;31mNameError\u001b[0m                                 Traceback (most recent call last)",
      "Cell \u001b[1;32mIn[382], line 5\u001b[0m\n\u001b[0;32m      1\u001b[0m thisset \u001b[38;5;241m=\u001b[39m {\u001b[38;5;124m\"\u001b[39m\u001b[38;5;124mapple\u001b[39m\u001b[38;5;124m\"\u001b[39m, \u001b[38;5;124m\"\u001b[39m\u001b[38;5;124mbanana\u001b[39m\u001b[38;5;124m\"\u001b[39m, \u001b[38;5;124m\"\u001b[39m\u001b[38;5;124mcherry\u001b[39m\u001b[38;5;124m\"\u001b[39m}\n\u001b[0;32m      3\u001b[0m \u001b[38;5;28;01mdel\u001b[39;00m thisset\n\u001b[1;32m----> 5\u001b[0m \u001b[38;5;28mprint\u001b[39m(thisset)\n",
      "\u001b[1;31mNameError\u001b[0m: name 'thisset' is not defined"
     ]
    }
   ],
   "source": [
    "thisset = {\"apple\", \"banana\", \"cherry\"}\n",
    "\n",
    "del thisset\n",
    "\n",
    "print(thisset)"
   ]
  },
  {
   "cell_type": "markdown",
   "id": "7c127c20-5c68-4b95-ac70-c7b08f6e1394",
   "metadata": {},
   "source": [
    "Loop Sets Example 122"
   ]
  },
  {
   "cell_type": "code",
   "execution_count": 385,
   "id": "1edfe23e-4977-4365-be2c-b4058db18e7b",
   "metadata": {},
   "outputs": [
    {
     "name": "stdout",
     "output_type": "stream",
     "text": [
      "cherry\n",
      "apple\n",
      "banana\n"
     ]
    }
   ],
   "source": [
    "thisset = {\"apple\", \"banana\", \"cherry\"}\n",
    "\n",
    "for x in thisset:\n",
    "  print(x)"
   ]
  },
  {
   "cell_type": "markdown",
   "id": "0d36f1a8-1bb0-4fda-9d6b-cf6c0c3941bc",
   "metadata": {},
   "source": [
    "Join Sets Example 123"
   ]
  },
  {
   "cell_type": "code",
   "execution_count": 388,
   "id": "defda04f-cdd2-4946-b945-243ec27356f0",
   "metadata": {},
   "outputs": [
    {
     "name": "stdout",
     "output_type": "stream",
     "text": [
      "{1, 2, 3, 'b', 'c', 'a'}\n"
     ]
    }
   ],
   "source": [
    "set1 = {\"a\", \"b\", \"c\"}\n",
    "set2 = {1, 2, 3}\n",
    "\n",
    "set3 = set1.union(set2)\n",
    "print(set3)"
   ]
  },
  {
   "cell_type": "markdown",
   "id": "33bf6cfb-22d3-4d56-9ffc-1c0437f11032",
   "metadata": {},
   "source": [
    "Example 124"
   ]
  },
  {
   "cell_type": "code",
   "execution_count": 390,
   "id": "d1003d1c-f99c-42cb-b18f-24a3292ca086",
   "metadata": {},
   "outputs": [
    {
     "name": "stdout",
     "output_type": "stream",
     "text": [
      "{1, 2, 3, 'b', 'c', 'a'}\n"
     ]
    }
   ],
   "source": [
    "set1 = {\"a\", \"b\", \"c\"}\n",
    "set2 = {1, 2, 3}\n",
    "\n",
    "set3 = set1 | set2\n",
    "print(set3)"
   ]
  },
  {
   "cell_type": "markdown",
   "id": "74d29895-818e-4240-a536-dacedc395f20",
   "metadata": {},
   "source": [
    "Example 125"
   ]
  },
  {
   "cell_type": "code",
   "execution_count": 392,
   "id": "0daabd5e-8449-431b-ab34-56700f7a8373",
   "metadata": {},
   "outputs": [
    {
     "name": "stdout",
     "output_type": "stream",
     "text": [
      "{1, 2, 3, 'Elena', 'c', 'bananas', 'apple', 'b', 'John', 'a', 'cherry'}\n"
     ]
    }
   ],
   "source": [
    "set1 = {\"a\", \"b\", \"c\"}\n",
    "set2 = {1, 2, 3}\n",
    "set3 = {\"John\", \"Elena\"}\n",
    "set4 = {\"apple\", \"bananas\", \"cherry\"}\n",
    "\n",
    "myset = set1.union(set2, set3, set4)\n",
    "print(myset)\n"
   ]
  },
  {
   "cell_type": "markdown",
   "id": "d5ec2fc6-063b-47b7-a168-832b1b5ac58a",
   "metadata": {},
   "source": [
    "Example 126"
   ]
  },
  {
   "cell_type": "code",
   "execution_count": 394,
   "id": "9b74ff35-123a-49c6-933d-f221e79208ae",
   "metadata": {},
   "outputs": [
    {
     "name": "stdout",
     "output_type": "stream",
     "text": [
      "{1, 2, 3, 'Elena', 'c', 'bananas', 'apple', 'b', 'John', 'a', 'cherry'}\n"
     ]
    }
   ],
   "source": [
    "set1 = {\"a\", \"b\", \"c\"}\n",
    "set2 = {1, 2, 3}\n",
    "set3 = {\"John\", \"Elena\"}\n",
    "set4 = {\"apple\", \"bananas\", \"cherry\"}\n",
    "\n",
    "myset = set1 | set2 | set3 |set4\n",
    "print(myset)"
   ]
  },
  {
   "cell_type": "markdown",
   "id": "f89bab08-ba1d-44c2-8ca9-f435a9d99808",
   "metadata": {},
   "source": [
    "Example 127"
   ]
  },
  {
   "cell_type": "code",
   "execution_count": 396,
   "id": "71883c9e-4836-4054-a6b4-84695c25cff9",
   "metadata": {},
   "outputs": [
    {
     "name": "stdout",
     "output_type": "stream",
     "text": [
      "{1, 2, 3, 'c', 'b', 'a'}\n"
     ]
    }
   ],
   "source": [
    "x = {\"a\", \"b\", \"c\"}\n",
    "y = (1, 2, 3)\n",
    "\n",
    "z = x.union(y)\n",
    "print(z)"
   ]
  },
  {
   "cell_type": "markdown",
   "id": "28d31f0e-410a-4aac-a077-e4978c4ec05a",
   "metadata": {},
   "source": [
    "Example 128"
   ]
  },
  {
   "cell_type": "code",
   "execution_count": 398,
   "id": "685426da-aa8c-437f-976b-9123e8a763c9",
   "metadata": {},
   "outputs": [
    {
     "name": "stdout",
     "output_type": "stream",
     "text": [
      "{1, 2, 3, 'b', 'c', 'a'}\n"
     ]
    }
   ],
   "source": [
    "set1 = {\"a\", \"b\" , \"c\"}\n",
    "set2 = {1, 2, 3}\n",
    "\n",
    "set1.update(set2)\n",
    "print(set1)"
   ]
  },
  {
   "cell_type": "markdown",
   "id": "96194e78-e010-47e6-9281-9c323fdb221f",
   "metadata": {},
   "source": [
    "Example 129"
   ]
  },
  {
   "cell_type": "code",
   "execution_count": 400,
   "id": "a1f9d39e-6ccf-4baa-bb85-1f5fb055fdca",
   "metadata": {},
   "outputs": [
    {
     "name": "stdout",
     "output_type": "stream",
     "text": [
      "{'apple'}\n"
     ]
    }
   ],
   "source": [
    "set1 = {\"apple\", \"banana\", \"cherry\"}\n",
    "set2 = {\"google\", \"microsoft\", \"apple\"}\n",
    "\n",
    "set3 = set1.intersection(set2)\n",
    "print(set3)"
   ]
  },
  {
   "cell_type": "markdown",
   "id": "99e9e643-9cf9-4384-94bd-20324a752ad8",
   "metadata": {},
   "source": [
    "Example 130"
   ]
  },
  {
   "cell_type": "code",
   "execution_count": 402,
   "id": "0f2ccac3-2fe2-40ba-8e11-42db886b362d",
   "metadata": {},
   "outputs": [
    {
     "name": "stdout",
     "output_type": "stream",
     "text": [
      "{'apple'}\n"
     ]
    }
   ],
   "source": [
    "set1 = {\"apple\", \"banana\", \"cherry\"}\n",
    "set2 = {\"google\", \"microsoft\", \"apple\"}\n",
    "\n",
    "set3 = set1 & set2\n",
    "print(set3)"
   ]
  },
  {
   "cell_type": "markdown",
   "id": "d44a5882-f49d-4a65-a414-45fc36942c3d",
   "metadata": {},
   "source": [
    "Example 131"
   ]
  },
  {
   "cell_type": "code",
   "execution_count": 404,
   "id": "473eb5ce-ab84-4471-baa3-08d87ec77aa9",
   "metadata": {},
   "outputs": [
    {
     "name": "stdout",
     "output_type": "stream",
     "text": [
      "{'apple'}\n"
     ]
    }
   ],
   "source": [
    "set1 = {\"apple\", \"banana\", \"cherry\"}\n",
    "set2 = {\"google\", \"microsoft\", \"apple\"}\n",
    "\n",
    "set1.intersection_update(set2)\n",
    "\n",
    "print(set1)"
   ]
  },
  {
   "cell_type": "markdown",
   "id": "1a38a177-e48c-48a4-8c57-8df7a402d6e9",
   "metadata": {},
   "source": [
    "Example 132"
   ]
  },
  {
   "cell_type": "code",
   "execution_count": 406,
   "id": "e1135276-f9e8-4784-a7fc-434efb54b49c",
   "metadata": {},
   "outputs": [
    {
     "name": "stdout",
     "output_type": "stream",
     "text": [
      "{False, 1, 'apple'}\n"
     ]
    }
   ],
   "source": [
    "set1 = {\"apple\", 1,  \"banana\", 0, \"cherry\"}\n",
    "set2 = {False, \"google\", 1, \"apple\", 2, True}\n",
    "\n",
    "set3 = set1.intersection(set2)\n",
    "\n",
    "print(set3)"
   ]
  },
  {
   "cell_type": "markdown",
   "id": "faae5009-19c7-4ba6-ad0c-590048ecc7ec",
   "metadata": {},
   "source": [
    "Example 133"
   ]
  },
  {
   "cell_type": "code",
   "execution_count": 422,
   "id": "afdc9666-3352-4600-b007-f06374579eba",
   "metadata": {},
   "outputs": [
    {
     "name": "stdout",
     "output_type": "stream",
     "text": [
      "{'banana', 'cherry'}\n"
     ]
    }
   ],
   "source": [
    "set1 = {\"apple\", \"banana\", \"cherry\"}\n",
    "set2 = {\"google\", \"microsoft\", \"apple\"}\n",
    "\n",
    "set3 = set1.difference(set2)\n",
    "\n",
    "print(set3)"
   ]
  },
  {
   "cell_type": "markdown",
   "id": "ac16676c-b1d5-4837-998d-4860decec924",
   "metadata": {},
   "source": [
    "Example 134"
   ]
  },
  {
   "cell_type": "code",
   "execution_count": 410,
   "id": "2ee0a7d0-f445-4976-81c6-b2f0ce8741f4",
   "metadata": {},
   "outputs": [
    {
     "name": "stdout",
     "output_type": "stream",
     "text": [
      "{'banana', 'cherry'}\n"
     ]
    }
   ],
   "source": [
    "set1 = {\"apple\", \"banana\", \"cherry\"}\n",
    "set2 = {\"google\", \"microsoft\", \"apple\"}\n",
    "\n",
    "set3 = set1 - set2\n",
    "print(set3)"
   ]
  },
  {
   "cell_type": "markdown",
   "id": "72c8abe2-a912-47c0-b2bd-6fcde3611235",
   "metadata": {},
   "source": [
    "Example 135"
   ]
  },
  {
   "cell_type": "code",
   "execution_count": 412,
   "id": "6373762d-c123-492e-8ac8-238ad3b80e1e",
   "metadata": {},
   "outputs": [
    {
     "name": "stdout",
     "output_type": "stream",
     "text": [
      "{'cherry', 'banana'}\n"
     ]
    }
   ],
   "source": [
    "set1 = {\"apple\", \"banana\", \"cherry\"}\n",
    "set2 = {\"google\", \"microsoft\", \"apple\"}\n",
    "\n",
    "set1.difference_update(set2)\n",
    "\n",
    "print(set1)"
   ]
  },
  {
   "cell_type": "markdown",
   "id": "b1db7f26-b4e6-43cf-b6df-1e5ded4ea019",
   "metadata": {},
   "source": [
    "Example 136"
   ]
  },
  {
   "cell_type": "code",
   "execution_count": 414,
   "id": "53ae4a7a-9748-496b-b5b9-0d484b8aabc7",
   "metadata": {},
   "outputs": [
    {
     "name": "stdout",
     "output_type": "stream",
     "text": [
      "{'google', 'banana', 'microsoft', 'cherry'}\n"
     ]
    }
   ],
   "source": [
    "set1 = {\"apple\", \"banana\", \"cherry\"}\n",
    "set2 = {\"google\", \"microsoft\", \"apple\"}\n",
    "\n",
    "set3 = set1.symmetric_difference(set2)\n",
    "\n",
    "print(set3)"
   ]
  },
  {
   "cell_type": "markdown",
   "id": "69f5b634-f148-47a9-95d3-e388d6035541",
   "metadata": {},
   "source": [
    "Example 137"
   ]
  },
  {
   "cell_type": "code",
   "execution_count": 416,
   "id": "25935974-2579-4308-8edc-a4c76efa9c32",
   "metadata": {},
   "outputs": [
    {
     "name": "stdout",
     "output_type": "stream",
     "text": [
      "{'google', 'banana', 'microsoft', 'cherry'}\n"
     ]
    }
   ],
   "source": [
    "set1 = {\"apple\", \"banana\", \"cherry\"}\n",
    "set2 = {\"google\", \"microsoft\", \"apple\"}\n",
    "\n",
    "set3 = set1 ^ set2\n",
    "print(set3)"
   ]
  },
  {
   "cell_type": "markdown",
   "id": "5606d1cf-60f6-4661-88f7-49d1033c18dd",
   "metadata": {},
   "source": [
    "Example 138"
   ]
  },
  {
   "cell_type": "code",
   "execution_count": 418,
   "id": "c26dd4d8-8b5a-4175-82db-63905c585816",
   "metadata": {},
   "outputs": [
    {
     "name": "stdout",
     "output_type": "stream",
     "text": [
      "{'cherry', 'google', 'banana', 'microsoft'}\n"
     ]
    }
   ],
   "source": [
    "set1 = {\"apple\", \"banana\", \"cherry\"}\n",
    "set2 = {\"google\", \"microsoft\", \"apple\"}\n",
    "\n",
    "set1.symmetric_difference_update(set2)\n",
    "\n",
    "print(set1)"
   ]
  },
  {
   "cell_type": "markdown",
   "id": "a87741e0-7972-4001-bd00-6aaff03552a0",
   "metadata": {},
   "source": [
    "Set Methods"
   ]
  },
  {
   "cell_type": "markdown",
   "id": "e6fbe9b8-5cd8-414c-8825-2eda7939add2",
   "metadata": {},
   "source": [
    "add()\t \t                            Adds an element to the set\n",
    "clear()\t \t                            Removes all the elements from the set\n",
    "copy()\t \t                            Returns a copy of the set\n",
    "difference()\t-\t                    Returns a set containing the difference between two or more sets\n",
    "difference_update()\t-=\t                Removes the items in this set that are also included in another, specified set\n",
    "discard()\t \t                        Remove the specified item\n",
    "intersection()\t&\t                    Returns a set, that is the intersection of two other sets\n",
    "intersection_update()\t&=\t            Removes the items in this set that are not present in other, specified set(s)\n",
    "isdisjoint()\t \t                    Returns whether two sets have a intersection or not\n",
    "issubset()\t<=\t                        Returns whether another set contains this set or not\n",
    " \t<\t                                Returns whether all items in this set is present in other, specified set(s)\n",
    "issuperset()\t>=\t                    Returns whether this set contains another set or not\n",
    " \t>\t                                Returns whether all items in other, specified set(s) is present in this set\n",
    "pop()\t \t                            Removes an element from the set\n",
    "remove()\t \t                        Removes the specified element\n",
    "symmetric_difference()\t^\t            Returns a set with the symmetric differences of two sets\n",
    "symmetric_difference_update()\t^=\t    Inserts the symmetric differences from this set and another\n",
    "union()\t|\t                            Return a set containing the union of sets\n",
    "update()\t|=\t                        Update the set with the union of this set and others"
   ]
  },
  {
   "cell_type": "markdown",
   "id": "205136f3-b1f2-4b0b-a125-b403f1bb8796",
   "metadata": {},
   "source": [
    "Dictionaries Example 139"
   ]
  },
  {
   "cell_type": "code",
   "execution_count": 436,
   "id": "ace16943-5526-408c-b3c6-e703202a8756",
   "metadata": {},
   "outputs": [
    {
     "name": "stdout",
     "output_type": "stream",
     "text": [
      "{'brand': 'Ford', 'model': 'Mustang', 'year': 1964}\n"
     ]
    }
   ],
   "source": [
    "thisdict = {\n",
    "  \"brand\": \"Ford\",\n",
    "  \"model\": \"Mustang\",\n",
    "  \"year\": 1964\n",
    "}\n",
    "print(thisdict)"
   ]
  },
  {
   "cell_type": "markdown",
   "id": "e3debc62-071c-4df9-9ef4-7742527ffdab",
   "metadata": {},
   "source": [
    "Example 140"
   ]
  },
  {
   "cell_type": "code",
   "execution_count": 438,
   "id": "e8391046-cbc0-4798-9fa9-eebd5992a7b2",
   "metadata": {},
   "outputs": [
    {
     "name": "stdout",
     "output_type": "stream",
     "text": [
      "Ford\n"
     ]
    }
   ],
   "source": [
    "thisdict = {\n",
    "  \"brand\": \"Ford\",\n",
    "  \"model\": \"Mustang\",\n",
    "  \"year\": 1964\n",
    "}\n",
    "print(thisdict[\"brand\"])"
   ]
  },
  {
   "cell_type": "markdown",
   "id": "f583b97b-fc9c-44fa-a910-a1b3b1a0e373",
   "metadata": {},
   "source": [
    "Example 141"
   ]
  },
  {
   "cell_type": "code",
   "execution_count": 440,
   "id": "20272fc6-1108-48cd-9574-ae903de20e8b",
   "metadata": {},
   "outputs": [
    {
     "name": "stdout",
     "output_type": "stream",
     "text": [
      "{'brand': 'Ford', 'model': 'Mustang', 'year': 2020}\n"
     ]
    }
   ],
   "source": [
    "thisdict = {\n",
    "  \"brand\": \"Ford\",\n",
    "  \"model\": \"Mustang\",\n",
    "  \"year\": 1964,\n",
    "  \"year\": 2020\n",
    "}\n",
    "print(thisdict)"
   ]
  },
  {
   "cell_type": "markdown",
   "id": "57a2fd23-8ebf-400f-a96a-17ce3f7f04c2",
   "metadata": {},
   "source": [
    "Example 142"
   ]
  },
  {
   "cell_type": "code",
   "execution_count": 443,
   "id": "ef82dc6c-22d6-4a67-9d17-127b69b25196",
   "metadata": {},
   "outputs": [
    {
     "name": "stdout",
     "output_type": "stream",
     "text": [
      "3\n"
     ]
    }
   ],
   "source": [
    "print(len(thisdict))"
   ]
  },
  {
   "cell_type": "markdown",
   "id": "ea4f34ce-5cde-4bb3-981a-208453092a3a",
   "metadata": {},
   "source": [
    "Example 143"
   ]
  },
  {
   "cell_type": "code",
   "execution_count": 446,
   "id": "58928f0c-6f1d-4a3d-b306-6596aee2f2a3",
   "metadata": {},
   "outputs": [],
   "source": [
    "thisdict = {\n",
    "  \"brand\": \"Ford\",\n",
    "  \"electric\": False,\n",
    "  \"year\": 1964,\n",
    "  \"colors\": [\"red\", \"white\", \"blue\"]\n",
    "}"
   ]
  },
  {
   "cell_type": "markdown",
   "id": "aa814f65-1829-4815-b8d1-bc6eb1405ff2",
   "metadata": {},
   "source": [
    "Example 144"
   ]
  },
  {
   "cell_type": "code",
   "execution_count": 449,
   "id": "b0a6540b-acf4-4c7b-a31b-3b51d49f947d",
   "metadata": {},
   "outputs": [
    {
     "name": "stdout",
     "output_type": "stream",
     "text": [
      "<class 'dict'>\n"
     ]
    }
   ],
   "source": [
    "thisdict = {\n",
    "  \"brand\": \"Ford\",\n",
    "  \"model\": \"Mustang\",\n",
    "  \"year\": 1964\n",
    "}\n",
    "print(type(thisdict))"
   ]
  },
  {
   "cell_type": "markdown",
   "id": "dd990a46-06a0-42a8-b4e7-58bb505d8e91",
   "metadata": {},
   "source": [
    "Example 145"
   ]
  },
  {
   "cell_type": "code",
   "execution_count": 452,
   "id": "a0142900-b170-4843-a71a-0a05cfd140bd",
   "metadata": {},
   "outputs": [
    {
     "name": "stdout",
     "output_type": "stream",
     "text": [
      "{'name': 'John', 'age': 36, 'country': 'Norway'}\n"
     ]
    }
   ],
   "source": [
    "thisdict = dict(name = \"John\", age = 36, country = \"Norway\")\n",
    "print(thisdict)"
   ]
  },
  {
   "cell_type": "markdown",
   "id": "7bb44811-ef9d-425f-ac0b-9aba72fab4c3",
   "metadata": {},
   "source": [
    "Access Dictionary Items Example 146"
   ]
  },
  {
   "cell_type": "code",
   "execution_count": 455,
   "id": "23c7470c-823b-4cda-8a7e-b0376f92564b",
   "metadata": {},
   "outputs": [],
   "source": [
    "thisdict = {\n",
    "  \"brand\": \"Ford\",\n",
    "  \"model\": \"Mustang\",\n",
    "  \"year\": 1964\n",
    "}\n",
    "x = thisdict[\"model\"]"
   ]
  },
  {
   "cell_type": "markdown",
   "id": "c413e968-775a-4193-80f4-1cb649fc8450",
   "metadata": {},
   "source": [
    "Example 147"
   ]
  },
  {
   "cell_type": "code",
   "execution_count": 458,
   "id": "b4acc872-a3b3-41a1-bc48-717b882c2381",
   "metadata": {},
   "outputs": [],
   "source": [
    "x = thisdict.get(\"model\")"
   ]
  },
  {
   "cell_type": "markdown",
   "id": "1a3c109d-7c68-46c2-bb17-0420cae82c34",
   "metadata": {},
   "source": [
    "Example 148"
   ]
  },
  {
   "cell_type": "code",
   "execution_count": 461,
   "id": "6c621982-a9aa-43a1-aa1e-6439f16d3d7a",
   "metadata": {},
   "outputs": [],
   "source": [
    "x = thisdict.keys()"
   ]
  },
  {
   "cell_type": "markdown",
   "id": "bf70b169-68ef-43da-9fb1-def538f47636",
   "metadata": {},
   "source": [
    "Example 149"
   ]
  },
  {
   "cell_type": "code",
   "execution_count": 464,
   "id": "7ce8abd2-6a8e-4c58-85a5-92b6280fce3a",
   "metadata": {},
   "outputs": [
    {
     "name": "stdout",
     "output_type": "stream",
     "text": [
      "dict_keys(['brand', 'model', 'year'])\n",
      "dict_keys(['brand', 'model', 'year', 'color'])\n"
     ]
    }
   ],
   "source": [
    "car = {\n",
    "\"brand\": \"Ford\",\n",
    "\"model\": \"Mustang\",\n",
    "\"year\": 1964\n",
    "}\n",
    "\n",
    "x = car.keys()\n",
    "\n",
    "print(x) #before the change\n",
    "\n",
    "car[\"color\"] = \"white\"\n",
    "\n",
    "print(x) #after the change"
   ]
  },
  {
   "cell_type": "markdown",
   "id": "64951e25-ffa1-49bd-8edb-1cbb8887ade5",
   "metadata": {},
   "source": [
    "Example 150"
   ]
  },
  {
   "cell_type": "code",
   "execution_count": 467,
   "id": "83447c02-f287-4b3a-b806-5bac0838823e",
   "metadata": {},
   "outputs": [],
   "source": [
    "x = thisdict.values()"
   ]
  },
  {
   "cell_type": "markdown",
   "id": "4ebdb5b1-9856-4e78-b9b2-e090e32ff8c7",
   "metadata": {},
   "source": [
    "Example 151"
   ]
  },
  {
   "cell_type": "code",
   "execution_count": 470,
   "id": "14b9ffda-b40d-46be-be0d-81270be45e90",
   "metadata": {},
   "outputs": [
    {
     "name": "stdout",
     "output_type": "stream",
     "text": [
      "dict_values(['Ford', 'Mustang', 1964])\n",
      "dict_values(['Ford', 'Mustang', 2020])\n"
     ]
    }
   ],
   "source": [
    "car = {\n",
    "\"brand\": \"Ford\",\n",
    "\"model\": \"Mustang\",\n",
    "\"year\": 1964\n",
    "}\n",
    "\n",
    "x = car.values()\n",
    "\n",
    "print(x) #before the change\n",
    "\n",
    "car[\"year\"] = 2020\n",
    "\n",
    "print(x) #after the change"
   ]
  },
  {
   "cell_type": "markdown",
   "id": "ae387902-037f-4508-9747-2c702708bf97",
   "metadata": {},
   "source": [
    "Example 152"
   ]
  },
  {
   "cell_type": "code",
   "execution_count": 473,
   "id": "04145c89-433b-42b9-ad54-357173fcbcfe",
   "metadata": {},
   "outputs": [
    {
     "name": "stdout",
     "output_type": "stream",
     "text": [
      "dict_values(['Ford', 'Mustang', 1964])\n",
      "dict_values(['Ford', 'Mustang', 1964, 'red'])\n"
     ]
    }
   ],
   "source": [
    "car = {\n",
    "\"brand\": \"Ford\",\n",
    "\"model\": \"Mustang\",\n",
    "\"year\": 1964\n",
    "}\n",
    "\n",
    "x = car.values()\n",
    "\n",
    "print(x) #before the change\n",
    "\n",
    "car[\"color\"] = \"red\"\n",
    "\n",
    "print(x) #after the change"
   ]
  },
  {
   "cell_type": "markdown",
   "id": "bb149644-2cc3-4daa-9b9c-65919a2dffc2",
   "metadata": {},
   "source": [
    "Example 153"
   ]
  },
  {
   "cell_type": "code",
   "execution_count": 476,
   "id": "ca730615-f74c-4895-a49d-1669b273b0ca",
   "metadata": {},
   "outputs": [],
   "source": [
    "x = thisdict.items()"
   ]
  },
  {
   "cell_type": "markdown",
   "id": "8b2e9c37-f3d2-418f-822d-b87d570968b7",
   "metadata": {},
   "source": [
    "Example 154"
   ]
  },
  {
   "cell_type": "code",
   "execution_count": 479,
   "id": "026a2962-f9a0-4129-8dad-f167ae847e7b",
   "metadata": {},
   "outputs": [
    {
     "name": "stdout",
     "output_type": "stream",
     "text": [
      "dict_items([('brand', 'Ford'), ('model', 'Mustang'), ('year', 1964)])\n",
      "dict_items([('brand', 'Ford'), ('model', 'Mustang'), ('year', 2020)])\n"
     ]
    }
   ],
   "source": [
    "car = {\n",
    "\"brand\": \"Ford\",\n",
    "\"model\": \"Mustang\",\n",
    "\"year\": 1964\n",
    "}\n",
    "\n",
    "x = car.items()\n",
    "\n",
    "print(x) #before the change\n",
    "\n",
    "car[\"year\"] = 2020\n",
    "\n",
    "print(x) #after the change"
   ]
  },
  {
   "cell_type": "markdown",
   "id": "0148ea54-bc86-4fc2-8e7a-ae2ed71a8697",
   "metadata": {},
   "source": [
    "Example 155"
   ]
  },
  {
   "cell_type": "code",
   "execution_count": 482,
   "id": "c299a7be-ded7-42a4-b3f8-a1fc8ed32963",
   "metadata": {},
   "outputs": [
    {
     "name": "stdout",
     "output_type": "stream",
     "text": [
      "dict_items([('brand', 'Ford'), ('model', 'Mustang'), ('year', 1964)])\n",
      "dict_items([('brand', 'Ford'), ('model', 'Mustang'), ('year', 1964), ('color', 'red')])\n"
     ]
    }
   ],
   "source": [
    "car = {\n",
    "\"brand\": \"Ford\",\n",
    "\"model\": \"Mustang\",\n",
    "\"year\": 1964\n",
    "}\n",
    "\n",
    "x = car.items()\n",
    "\n",
    "print(x) #before the change\n",
    "\n",
    "car[\"color\"] = \"red\"\n",
    "\n",
    "print(x) #after the change\n"
   ]
  },
  {
   "cell_type": "markdown",
   "id": "a7547efa-c323-4b5c-8c11-c3ee3083c16f",
   "metadata": {},
   "source": [
    "Example 156"
   ]
  },
  {
   "cell_type": "code",
   "execution_count": 485,
   "id": "a6a15b31-416a-4176-8c9b-7505d50deb74",
   "metadata": {},
   "outputs": [
    {
     "name": "stdout",
     "output_type": "stream",
     "text": [
      "Yes, 'model' is one of the keys in the thisdict dictionary\n"
     ]
    }
   ],
   "source": [
    "thisdict = {\n",
    "  \"brand\": \"Ford\",\n",
    "  \"model\": \"Mustang\",\n",
    "  \"year\": 1964\n",
    "}\n",
    "if \"model\" in thisdict:\n",
    "  print(\"Yes, 'model' is one of the keys in the thisdict dictionary\")"
   ]
  },
  {
   "cell_type": "markdown",
   "id": "fa262e2d-ff75-4dc1-9572-c9856dc3c4e8",
   "metadata": {},
   "source": [
    "Change Dictionary Items Example 157"
   ]
  },
  {
   "cell_type": "code",
   "execution_count": 491,
   "id": "687660ac-b24c-4749-a3f0-5469436b77fa",
   "metadata": {},
   "outputs": [],
   "source": [
    "thisdict = {\n",
    "  \"brand\": \"Ford\",\n",
    "  \"model\": \"Mustang\",\n",
    "  \"year\": 1964\n",
    "}\n",
    "thisdict[\"year\"] = 2018"
   ]
  },
  {
   "cell_type": "markdown",
   "id": "489d944e-46be-47b6-8bd1-ba558547a334",
   "metadata": {},
   "source": [
    "Example 158"
   ]
  },
  {
   "cell_type": "code",
   "execution_count": 494,
   "id": "02fcd7cc-e3e9-4caa-bef2-db511ed4534f",
   "metadata": {},
   "outputs": [],
   "source": [
    "thisdict = {\n",
    "  \"brand\": \"Ford\",\n",
    "  \"model\": \"Mustang\",\n",
    "  \"year\": 1964\n",
    "}\n",
    "thisdict.update({\"year\": 2020})"
   ]
  },
  {
   "cell_type": "markdown",
   "id": "5e16adbd-c2b1-4c79-bcd8-1192459e0e35",
   "metadata": {},
   "source": [
    "Add Dictionary Items Example 159"
   ]
  },
  {
   "cell_type": "code",
   "execution_count": 498,
   "id": "391beaa4-d344-444f-8c4f-48a20d035a61",
   "metadata": {},
   "outputs": [
    {
     "name": "stdout",
     "output_type": "stream",
     "text": [
      "{'brand': 'Ford', 'model': 'Mustang', 'year': 1964, 'color': 'red'}\n"
     ]
    }
   ],
   "source": [
    "thisdict = {\n",
    "  \"brand\": \"Ford\",\n",
    "  \"model\": \"Mustang\",\n",
    "  \"year\": 1964\n",
    "}\n",
    "thisdict[\"color\"] = \"red\"\n",
    "print(thisdict)"
   ]
  },
  {
   "cell_type": "markdown",
   "id": "ff4be38a-0328-4519-8078-e4bf12e5191b",
   "metadata": {},
   "source": [
    "Example 160"
   ]
  },
  {
   "cell_type": "code",
   "execution_count": 500,
   "id": "4fb480d2-47b1-4d6a-b952-2b7bc3a64965",
   "metadata": {},
   "outputs": [],
   "source": [
    "thisdict = {\n",
    "  \"brand\": \"Ford\",\n",
    "  \"model\": \"Mustang\",\n",
    "  \"year\": 1964\n",
    "}\n",
    "thisdict.update({\"color\": \"red\"})"
   ]
  },
  {
   "cell_type": "markdown",
   "id": "cb1a78f5-ca93-4907-9095-5e54d91c00bd",
   "metadata": {},
   "source": [
    "Remove Dictionary Items Example 161"
   ]
  },
  {
   "cell_type": "code",
   "execution_count": 502,
   "id": "8756203d-ca6f-4fe7-a9b4-da77b4abea04",
   "metadata": {},
   "outputs": [
    {
     "name": "stdout",
     "output_type": "stream",
     "text": [
      "{'brand': 'Ford', 'year': 1964}\n"
     ]
    }
   ],
   "source": [
    "thisdict = {\n",
    "  \"brand\": \"Ford\",\n",
    "  \"model\": \"Mustang\",\n",
    "  \"year\": 1964\n",
    "}\n",
    "thisdict.pop(\"model\")\n",
    "print(thisdict)"
   ]
  },
  {
   "cell_type": "markdown",
   "id": "bc827140-31f8-49ad-970f-7d4af488c0f3",
   "metadata": {},
   "source": [
    "Example 162"
   ]
  },
  {
   "cell_type": "code",
   "execution_count": 504,
   "id": "98d3412d-9598-4572-9b99-c78442c621b5",
   "metadata": {},
   "outputs": [
    {
     "name": "stdout",
     "output_type": "stream",
     "text": [
      "{'brand': 'Ford', 'model': 'Mustang'}\n"
     ]
    }
   ],
   "source": [
    "thisdict = {\n",
    "  \"brand\": \"Ford\",\n",
    "  \"model\": \"Mustang\",\n",
    "  \"year\": 1964\n",
    "}\n",
    "thisdict.popitem()\n",
    "print(thisdict)"
   ]
  },
  {
   "cell_type": "markdown",
   "id": "749c9dd0-5784-449f-abc4-9a8ae02297bd",
   "metadata": {},
   "source": [
    "Example 163"
   ]
  },
  {
   "cell_type": "code",
   "execution_count": 506,
   "id": "6eea558e-63b3-4507-88bd-c232b9bade66",
   "metadata": {},
   "outputs": [
    {
     "name": "stdout",
     "output_type": "stream",
     "text": [
      "{'brand': 'Ford', 'year': 1964}\n"
     ]
    }
   ],
   "source": [
    "thisdict = {\n",
    "  \"brand\": \"Ford\",\n",
    "  \"model\": \"Mustang\",\n",
    "  \"year\": 1964\n",
    "}\n",
    "del thisdict[\"model\"]\n",
    "print(thisdict)"
   ]
  },
  {
   "cell_type": "markdown",
   "id": "ed27d589-6bfd-4126-b0e5-0fb005e8baa6",
   "metadata": {},
   "source": [
    "Example 164 Error:"
   ]
  },
  {
   "cell_type": "code",
   "execution_count": 510,
   "id": "fb61a164-53d6-46cb-8db2-054ad9e1fe43",
   "metadata": {},
   "outputs": [
    {
     "ename": "NameError",
     "evalue": "name 'thisdict' is not defined",
     "output_type": "error",
     "traceback": [
      "\u001b[1;31m---------------------------------------------------------------------------\u001b[0m",
      "\u001b[1;31mNameError\u001b[0m                                 Traceback (most recent call last)",
      "Cell \u001b[1;32mIn[510], line 7\u001b[0m\n\u001b[0;32m      1\u001b[0m thisdict \u001b[38;5;241m=\u001b[39m {\n\u001b[0;32m      2\u001b[0m   \u001b[38;5;124m\"\u001b[39m\u001b[38;5;124mbrand\u001b[39m\u001b[38;5;124m\"\u001b[39m: \u001b[38;5;124m\"\u001b[39m\u001b[38;5;124mFord\u001b[39m\u001b[38;5;124m\"\u001b[39m,\n\u001b[0;32m      3\u001b[0m   \u001b[38;5;124m\"\u001b[39m\u001b[38;5;124mmodel\u001b[39m\u001b[38;5;124m\"\u001b[39m: \u001b[38;5;124m\"\u001b[39m\u001b[38;5;124mMustang\u001b[39m\u001b[38;5;124m\"\u001b[39m,\n\u001b[0;32m      4\u001b[0m   \u001b[38;5;124m\"\u001b[39m\u001b[38;5;124myear\u001b[39m\u001b[38;5;124m\"\u001b[39m: \u001b[38;5;241m1964\u001b[39m\n\u001b[0;32m      5\u001b[0m }\n\u001b[0;32m      6\u001b[0m \u001b[38;5;28;01mdel\u001b[39;00m thisdict\n\u001b[1;32m----> 7\u001b[0m \u001b[38;5;28mprint\u001b[39m(thisdict)\n",
      "\u001b[1;31mNameError\u001b[0m: name 'thisdict' is not defined"
     ]
    }
   ],
   "source": [
    "thisdict = {\n",
    "  \"brand\": \"Ford\",\n",
    "  \"model\": \"Mustang\",\n",
    "  \"year\": 1964\n",
    "}\n",
    "del thisdict\n",
    "print(thisdict) #this will cause an error because \"thisdict\" no longer exists."
   ]
  },
  {
   "cell_type": "markdown",
   "id": "2312d03b-e195-48d3-b73d-db621d7734e2",
   "metadata": {},
   "source": [
    "Example 165"
   ]
  },
  {
   "cell_type": "code",
   "execution_count": 516,
   "id": "567faced-f155-4fac-bd01-34d623ad0824",
   "metadata": {},
   "outputs": [
    {
     "name": "stdout",
     "output_type": "stream",
     "text": [
      "{}\n"
     ]
    }
   ],
   "source": [
    "thisdict = {\n",
    "  \"brand\": \"Ford\",\n",
    "  \"model\": \"Mustang\",\n",
    "  \"year\": 1964\n",
    "}\n",
    "thisdict.clear()\n",
    "print(thisdict)"
   ]
  },
  {
   "cell_type": "markdown",
   "id": "b0c14dd5-702e-49d0-aca5-680ae3fc87d5",
   "metadata": {},
   "source": [
    "Loop Dictionaries Example 166"
   ]
  },
  {
   "cell_type": "code",
   "execution_count": null,
   "id": "7a6e437c-ecb0-40ce-b87b-d616cad633d5",
   "metadata": {},
   "outputs": [],
   "source": [
    "for x in thisdict:\n",
    "  print(x)"
   ]
  },
  {
   "cell_type": "markdown",
   "id": "8565e847-052c-44f3-91bd-7cf3b2dcaf80",
   "metadata": {},
   "source": [
    "Example 167"
   ]
  },
  {
   "cell_type": "code",
   "execution_count": 519,
   "id": "f484e4d7-1ee6-4801-9063-5caf9e0dc806",
   "metadata": {},
   "outputs": [],
   "source": [
    "for x in thisdict:\n",
    "  print(thisdict[x])"
   ]
  },
  {
   "cell_type": "markdown",
   "id": "7421bb77-6195-45e6-8a96-78378aedb5a3",
   "metadata": {},
   "source": [
    "Example 168"
   ]
  },
  {
   "cell_type": "code",
   "execution_count": 522,
   "id": "2586ebe5-28c6-4d82-a19b-bdb623bb0e1f",
   "metadata": {},
   "outputs": [],
   "source": [
    "for x in thisdict.values():\n",
    "  print(x)"
   ]
  },
  {
   "cell_type": "markdown",
   "id": "3afa10fd-bd47-4b89-8751-e4911a5786ea",
   "metadata": {},
   "source": [
    "Example 169"
   ]
  },
  {
   "cell_type": "code",
   "execution_count": 525,
   "id": "419ce9a2-f98d-4b57-b2ec-09d5824f8ff0",
   "metadata": {},
   "outputs": [],
   "source": [
    "for x in thisdict.keys():\n",
    "  print(x)"
   ]
  },
  {
   "cell_type": "markdown",
   "id": "35bc30d0-06f2-452c-b05b-5bec5073fdf2",
   "metadata": {},
   "source": [
    "Example 170"
   ]
  },
  {
   "cell_type": "code",
   "execution_count": 528,
   "id": "0ef9f140-26d8-4041-a100-0db5c51182c1",
   "metadata": {},
   "outputs": [],
   "source": [
    "for x, y in thisdict.items():\n",
    "  print(x, y)"
   ]
  },
  {
   "cell_type": "markdown",
   "id": "dd82ed64-8f4a-49a7-8723-b77b956edd9a",
   "metadata": {},
   "source": [
    "Copy Dictionaries Example 171"
   ]
  },
  {
   "cell_type": "code",
   "execution_count": 531,
   "id": "6c633869-92cf-4921-8cb6-923326b59d68",
   "metadata": {},
   "outputs": [
    {
     "name": "stdout",
     "output_type": "stream",
     "text": [
      "{'brand': 'Ford', 'model': 'Mustang', 'year': 1964}\n"
     ]
    }
   ],
   "source": [
    "thisdict = {\n",
    "  \"brand\": \"Ford\",\n",
    "  \"model\": \"Mustang\",\n",
    "  \"year\": 1964\n",
    "}\n",
    "mydict = thisdict.copy()\n",
    "print(mydict)"
   ]
  },
  {
   "cell_type": "markdown",
   "id": "80fa5d0a-3bce-45b4-af25-7d8dfbcbf39b",
   "metadata": {},
   "source": [
    "Example 172"
   ]
  },
  {
   "cell_type": "code",
   "execution_count": 534,
   "id": "92dff38b-a97e-4889-892c-c561c9b5f226",
   "metadata": {},
   "outputs": [
    {
     "name": "stdout",
     "output_type": "stream",
     "text": [
      "{'brand': 'Ford', 'model': 'Mustang', 'year': 1964}\n"
     ]
    }
   ],
   "source": [
    "thisdict = {\n",
    "  \"brand\": \"Ford\",\n",
    "  \"model\": \"Mustang\",\n",
    "  \"year\": 1964\n",
    "}\n",
    "mydict = dict(thisdict)\n",
    "print(mydict)"
   ]
  },
  {
   "cell_type": "markdown",
   "id": "c747cb24-69a7-4ca9-8579-723ccff646f3",
   "metadata": {},
   "source": [
    "Nested Dictionaries Example 173"
   ]
  },
  {
   "cell_type": "code",
   "execution_count": 537,
   "id": "a50112ca-13f6-4a07-9f3b-10374ab81a12",
   "metadata": {},
   "outputs": [],
   "source": [
    "myfamily = {\n",
    "  \"child1\" : {\n",
    "    \"name\" : \"Emil\",\n",
    "    \"year\" : 2004\n",
    "  },\n",
    "  \"child2\" : {\n",
    "    \"name\" : \"Tobias\",\n",
    "    \"year\" : 2007\n",
    "  },\n",
    "  \"child3\" : {\n",
    "    \"name\" : \"Linus\",\n",
    "    \"year\" : 2011\n",
    "  }\n",
    "}"
   ]
  },
  {
   "cell_type": "markdown",
   "id": "8ea1065e-8a4d-4940-80ac-27a6d6187037",
   "metadata": {},
   "source": [
    "Example 174"
   ]
  },
  {
   "cell_type": "code",
   "execution_count": 540,
   "id": "596c10bc-d5d8-4eba-91e9-7ee6c1d3e1d3",
   "metadata": {},
   "outputs": [],
   "source": [
    "child1 = {\n",
    "  \"name\" : \"Emil\",\n",
    "  \"year\" : 2004\n",
    "}\n",
    "child2 = {\n",
    "  \"name\" : \"Tobias\",\n",
    "  \"year\" : 2007\n",
    "}\n",
    "child3 = {\n",
    "  \"name\" : \"Linus\",\n",
    "  \"year\" : 2011\n",
    "}\n",
    "\n",
    "myfamily = {\n",
    "  \"child1\" : child1,\n",
    "  \"child2\" : child2,\n",
    "  \"child3\" : child3\n",
    "}"
   ]
  },
  {
   "cell_type": "markdown",
   "id": "e6dbbbff-ab77-4693-a061-a9fcf7485b18",
   "metadata": {},
   "source": [
    "Example 175"
   ]
  },
  {
   "cell_type": "code",
   "execution_count": 543,
   "id": "e7efa910-afc1-4a8b-8cdd-e1f597da0b62",
   "metadata": {},
   "outputs": [
    {
     "name": "stdout",
     "output_type": "stream",
     "text": [
      "Tobias\n"
     ]
    }
   ],
   "source": [
    "print(myfamily[\"child2\"][\"name\"])"
   ]
  },
  {
   "cell_type": "markdown",
   "id": "40ac3bf6-bf69-4a6a-a7d4-7eec33882bc2",
   "metadata": {},
   "source": [
    "Example 176"
   ]
  },
  {
   "cell_type": "code",
   "execution_count": 546,
   "id": "cdde2b61-1576-4d64-bd57-a6d3de6f7aa1",
   "metadata": {},
   "outputs": [
    {
     "name": "stdout",
     "output_type": "stream",
     "text": [
      "child1\n",
      "name: Emil\n",
      "year: 2004\n",
      "child2\n",
      "name: Tobias\n",
      "year: 2007\n",
      "child3\n",
      "name: Linus\n",
      "year: 2011\n"
     ]
    }
   ],
   "source": [
    "for x, obj in myfamily.items():\n",
    "  print(x)\n",
    "\n",
    "  for y in obj:\n",
    "    print(y + ':', obj[y])"
   ]
  },
  {
   "cell_type": "markdown",
   "id": "215b2523-ccc7-4676-a4c2-f09e7e60f05b",
   "metadata": {},
   "source": [
    "Dictionary Methods"
   ]
  },
  {
   "cell_type": "markdown",
   "id": "fe8773b5-6f30-4a54-873d-0d2bf6d1acb2",
   "metadata": {},
   "source": [
    "clear()\t    Removes all the elements from the dictionary\n",
    "copy()\t    Returns a copy of the dictionary\n",
    "fromkeys()\tReturns a dictionary with the specified keys and value\n",
    "get()\t    Returns the value of the specified key\n",
    "items()\t    Returns a list containing a tuple for each key value pair\n",
    "keys()\t    Returns a list containing the dictionary's keys\n",
    "pop()\t    Removes the element with the specified key\n",
    "popitem()\tRemoves the last inserted key-value pair\n",
    "setdefault()Returns the value of the specified key. If the key does not exist: insert the key, with the specified value\n",
    "update()\tUpdates the dictionary with the specified key-value pairs\n",
    "values()\tReturns a list of all the values in the dictionary"
   ]
  },
  {
   "cell_type": "markdown",
   "id": "d7f65078-ab52-47f1-95f7-83529065e49c",
   "metadata": {},
   "source": [
    "If ... Else Example 177"
   ]
  },
  {
   "cell_type": "code",
   "execution_count": 550,
   "id": "9ca028ec-affc-4ff9-9336-4d8c1b12b727",
   "metadata": {},
   "outputs": [
    {
     "name": "stdout",
     "output_type": "stream",
     "text": [
      "b is greater than a\n"
     ]
    }
   ],
   "source": [
    "a = 33\n",
    "b = 200\n",
    "if b > a:\n",
    "  print(\"b is greater than a\")"
   ]
  },
  {
   "cell_type": "markdown",
   "id": "82efd2f6-8534-4871-badb-5ea7352168a3",
   "metadata": {},
   "source": [
    "Example 178 Error:"
   ]
  },
  {
   "cell_type": "code",
   "execution_count": 553,
   "id": "67ae140a-84ed-45fa-a38a-ce0dadf766b4",
   "metadata": {},
   "outputs": [
    {
     "ename": "IndentationError",
     "evalue": "expected an indented block after 'if' statement on line 3 (1443227691.py, line 4)",
     "output_type": "error",
     "traceback": [
      "\u001b[1;36m  Cell \u001b[1;32mIn[553], line 4\u001b[1;36m\u001b[0m\n\u001b[1;33m    print(\"b is greater than a\") # you will get an error\u001b[0m\n\u001b[1;37m    ^\u001b[0m\n\u001b[1;31mIndentationError\u001b[0m\u001b[1;31m:\u001b[0m expected an indented block after 'if' statement on line 3\n"
     ]
    }
   ],
   "source": [
    "a = 33\n",
    "b = 200\n",
    "if b > a:\n",
    "print(\"b is greater than a\") # you will get an error"
   ]
  },
  {
   "cell_type": "markdown",
   "id": "b58fb90d-c216-414e-9f0c-4364ae58d648",
   "metadata": {},
   "source": [
    "Example 179"
   ]
  },
  {
   "cell_type": "code",
   "execution_count": 556,
   "id": "7bcf6941-0c67-4b52-82d0-f3039d97c154",
   "metadata": {},
   "outputs": [
    {
     "name": "stdout",
     "output_type": "stream",
     "text": [
      "a and b are equal\n"
     ]
    }
   ],
   "source": [
    "a = 33\n",
    "b = 33\n",
    "if b > a:\n",
    "  print(\"b is greater than a\")\n",
    "elif a == b:\n",
    "  print(\"a and b are equal\")"
   ]
  },
  {
   "cell_type": "markdown",
   "id": "6a8eb150-0e0e-4d93-a40d-cd4ee555b0f4",
   "metadata": {},
   "source": [
    "Example 180"
   ]
  },
  {
   "cell_type": "code",
   "execution_count": 559,
   "id": "0d78e78a-5070-48e5-aa41-85adc39ebbf6",
   "metadata": {},
   "outputs": [
    {
     "name": "stdout",
     "output_type": "stream",
     "text": [
      "a is greater than b\n"
     ]
    }
   ],
   "source": [
    "a = 200\n",
    "b = 33\n",
    "if b > a:\n",
    "  print(\"b is greater than a\")\n",
    "elif a == b:\n",
    "  print(\"a and b are equal\")\n",
    "else:\n",
    "  print(\"a is greater than b\")"
   ]
  },
  {
   "cell_type": "markdown",
   "id": "c04f9500-664e-4c82-bd9b-25fa72ef5de2",
   "metadata": {},
   "source": [
    "Example 181"
   ]
  },
  {
   "cell_type": "code",
   "execution_count": 562,
   "id": "322c5897-c238-423c-a625-01b0cbfab864",
   "metadata": {},
   "outputs": [
    {
     "name": "stdout",
     "output_type": "stream",
     "text": [
      "b is not greater than a\n"
     ]
    }
   ],
   "source": [
    "a = 200\n",
    "b = 33\n",
    "if b > a:\n",
    "  print(\"b is greater than a\")\n",
    "else:\n",
    "  print(\"b is not greater than a\")"
   ]
  },
  {
   "cell_type": "markdown",
   "id": "4e872929-630a-4bba-9100-fe11f8d0553a",
   "metadata": {},
   "source": [
    "Example 182 "
   ]
  },
  {
   "cell_type": "code",
   "execution_count": 565,
   "id": "8072d30d-ba71-4388-8167-96457a0bcd00",
   "metadata": {},
   "outputs": [
    {
     "name": "stdout",
     "output_type": "stream",
     "text": [
      "a is greater than b\n"
     ]
    }
   ],
   "source": [
    "if a > b: print(\"a is greater than b\")"
   ]
  },
  {
   "cell_type": "markdown",
   "id": "f6435be1-24aa-410a-8d8d-8d65a7517862",
   "metadata": {},
   "source": [
    "Example 183"
   ]
  },
  {
   "cell_type": "code",
   "execution_count": 568,
   "id": "2ad349ac-d2db-4a8f-b81a-4ff6a9597416",
   "metadata": {},
   "outputs": [
    {
     "name": "stdout",
     "output_type": "stream",
     "text": [
      "B\n"
     ]
    }
   ],
   "source": [
    "a = 2\n",
    "b = 330\n",
    "print(\"A\") if a > b else print(\"B\")"
   ]
  },
  {
   "cell_type": "markdown",
   "id": "9fb41405-6b49-4b9f-b84a-ece844a43ea2",
   "metadata": {},
   "source": [
    "Example 184"
   ]
  },
  {
   "cell_type": "code",
   "execution_count": 571,
   "id": "04b5767c-ef08-4fc4-b9af-21803e520b42",
   "metadata": {},
   "outputs": [
    {
     "name": "stdout",
     "output_type": "stream",
     "text": [
      "=\n"
     ]
    }
   ],
   "source": [
    "a = 330\n",
    "b = 330\n",
    "print(\"A\") if a > b else print(\"=\") if a == b else print(\"B\")"
   ]
  },
  {
   "cell_type": "markdown",
   "id": "67940f9f-4402-4caa-b7e6-5112e33044e2",
   "metadata": {},
   "source": [
    "Example 185"
   ]
  },
  {
   "cell_type": "code",
   "execution_count": 574,
   "id": "2b550332-b6d7-494a-aa5f-cba10de9cb44",
   "metadata": {},
   "outputs": [
    {
     "name": "stdout",
     "output_type": "stream",
     "text": [
      "Both conditions are True\n"
     ]
    }
   ],
   "source": [
    "a = 200\n",
    "b = 33\n",
    "c = 500\n",
    "if a > b and c > a:\n",
    "  print(\"Both conditions are True\")"
   ]
  },
  {
   "cell_type": "markdown",
   "id": "4f90e4e0-3e5c-46b6-8d04-07cd7818b189",
   "metadata": {},
   "source": [
    "Example 186"
   ]
  },
  {
   "cell_type": "code",
   "execution_count": 577,
   "id": "d8103ca2-6637-48c1-8456-a34a37ed9773",
   "metadata": {},
   "outputs": [
    {
     "name": "stdout",
     "output_type": "stream",
     "text": [
      "At least one of the conditions is True\n"
     ]
    }
   ],
   "source": [
    "a = 200\n",
    "b = 33\n",
    "c = 500\n",
    "if a > b or a > c:\n",
    "  print(\"At least one of the conditions is True\")"
   ]
  },
  {
   "cell_type": "markdown",
   "id": "97689dc6-e216-423e-8f38-dd7c7bff5dba",
   "metadata": {},
   "source": [
    "Examle 187"
   ]
  },
  {
   "cell_type": "code",
   "execution_count": 580,
   "id": "b001c839-ead8-4c94-b1d7-7e46cdee393e",
   "metadata": {},
   "outputs": [
    {
     "name": "stdout",
     "output_type": "stream",
     "text": [
      "a is NOT greater than b\n"
     ]
    }
   ],
   "source": [
    "a = 33\n",
    "b = 200\n",
    "if not a > b:\n",
    "  print(\"a is NOT greater than b\")"
   ]
  },
  {
   "cell_type": "markdown",
   "id": "a00ef71c-fc54-40bb-920e-d64efdc0b390",
   "metadata": {},
   "source": [
    "Example 188"
   ]
  },
  {
   "cell_type": "code",
   "execution_count": 584,
   "id": "ff71ff39-f939-40b2-bce7-e8d9b078f8f9",
   "metadata": {},
   "outputs": [
    {
     "name": "stdout",
     "output_type": "stream",
     "text": [
      "Above ten,\n",
      "and also above 20!\n"
     ]
    }
   ],
   "source": [
    "x = 41\n",
    "\n",
    "if x > 10:\n",
    "  print(\"Above ten,\")\n",
    "  if x > 20:\n",
    "    print(\"and also above 20!\")\n",
    "  else:\n",
    "    print(\"but not above 20.\")"
   ]
  },
  {
   "cell_type": "markdown",
   "id": "30b00609-7729-4f1d-8a86-38bc66117640",
   "metadata": {},
   "source": [
    "Example 189"
   ]
  },
  {
   "cell_type": "code",
   "execution_count": 587,
   "id": "bd16e480-9aad-47b4-a2ba-f5a35edc6b73",
   "metadata": {},
   "outputs": [],
   "source": [
    "a = 33\n",
    "b = 200\n",
    "\n",
    "if b > a:\n",
    "  pass"
   ]
  },
  {
   "cell_type": "markdown",
   "id": "6ecb939c-61b1-4c87-88dd-33d96b06c58f",
   "metadata": {},
   "source": [
    "While Loops Example 190"
   ]
  },
  {
   "cell_type": "code",
   "execution_count": 590,
   "id": "2ae45efd-864a-4620-ba44-36e377be80c3",
   "metadata": {},
   "outputs": [
    {
     "name": "stdout",
     "output_type": "stream",
     "text": [
      "1\n",
      "2\n",
      "3\n",
      "4\n",
      "5\n"
     ]
    }
   ],
   "source": [
    "i = 1\n",
    "while i < 6:\n",
    "  print(i)\n",
    "  i += 1"
   ]
  },
  {
   "cell_type": "markdown",
   "id": "79fe0211-37e4-4423-b713-c32123ddcaac",
   "metadata": {},
   "source": [
    "Example 191"
   ]
  },
  {
   "cell_type": "code",
   "execution_count": 593,
   "id": "68c0747b-89b2-4a6a-b4f4-6b63909b2313",
   "metadata": {},
   "outputs": [
    {
     "name": "stdout",
     "output_type": "stream",
     "text": [
      "1\n",
      "2\n",
      "3\n"
     ]
    }
   ],
   "source": [
    "i = 1\n",
    "while i < 6:\n",
    "  print(i)\n",
    "  if i == 3:\n",
    "    break\n",
    "  i += 1"
   ]
  },
  {
   "cell_type": "markdown",
   "id": "82227cb0-3fe1-4e49-96f6-b3227e8cbc15",
   "metadata": {},
   "source": [
    "Example 192"
   ]
  },
  {
   "cell_type": "code",
   "execution_count": 596,
   "id": "3f6435bf-0264-49c5-bad8-0ab327859ce1",
   "metadata": {},
   "outputs": [
    {
     "name": "stdout",
     "output_type": "stream",
     "text": [
      "1\n",
      "2\n",
      "4\n",
      "5\n",
      "6\n"
     ]
    }
   ],
   "source": [
    "i = 0\n",
    "while i < 6:\n",
    "  i += 1\n",
    "  if i == 3:\n",
    "    continue\n",
    "  print(i)"
   ]
  },
  {
   "cell_type": "markdown",
   "id": "40fd0d02-c116-4702-910d-e94f43dc4eb6",
   "metadata": {},
   "source": [
    "Example 193"
   ]
  },
  {
   "cell_type": "code",
   "execution_count": 599,
   "id": "500d8c1f-45d8-4b08-840a-93ed9ad2e912",
   "metadata": {},
   "outputs": [
    {
     "name": "stdout",
     "output_type": "stream",
     "text": [
      "1\n",
      "2\n",
      "3\n",
      "4\n",
      "5\n",
      "i is no longer less than 6\n"
     ]
    }
   ],
   "source": [
    "i = 1\n",
    "while i < 6:\n",
    "  print(i)\n",
    "  i += 1\n",
    "else:\n",
    "  print(\"i is no longer less than 6\")"
   ]
  },
  {
   "cell_type": "markdown",
   "id": "12bd9191-180d-4e57-ab8d-351680fda350",
   "metadata": {},
   "source": [
    "For Loops Example 194"
   ]
  },
  {
   "cell_type": "code",
   "execution_count": 602,
   "id": "5d9656c2-a186-4da9-afcd-375181831b43",
   "metadata": {},
   "outputs": [
    {
     "name": "stdout",
     "output_type": "stream",
     "text": [
      "apple\n",
      "banana\n",
      "cherry\n"
     ]
    }
   ],
   "source": [
    "fruits = [\"apple\", \"banana\", \"cherry\"]\n",
    "for x in fruits:\n",
    "  print(x)"
   ]
  },
  {
   "cell_type": "markdown",
   "id": "25f59cc0-4ece-462a-9fbb-645dcc7b3399",
   "metadata": {},
   "source": [
    "Example 195"
   ]
  },
  {
   "cell_type": "code",
   "execution_count": 606,
   "id": "91f69034-64fd-436e-98ce-9fd639c1206b",
   "metadata": {},
   "outputs": [
    {
     "name": "stdout",
     "output_type": "stream",
     "text": [
      "b\n",
      "a\n",
      "n\n",
      "a\n",
      "n\n",
      "a\n"
     ]
    }
   ],
   "source": [
    "for x in \"banana\":\n",
    "  print(x)"
   ]
  },
  {
   "cell_type": "markdown",
   "id": "70806e1c-19b5-4287-8fe3-7d27ec9f74d8",
   "metadata": {},
   "source": [
    "Example 196"
   ]
  },
  {
   "cell_type": "code",
   "execution_count": 609,
   "id": "7a82765e-31ab-4c31-8b42-46cf1e4b7636",
   "metadata": {},
   "outputs": [
    {
     "name": "stdout",
     "output_type": "stream",
     "text": [
      "apple\n",
      "banana\n"
     ]
    }
   ],
   "source": [
    "fruits = [\"apple\", \"banana\", \"cherry\"]\n",
    "for x in fruits:\n",
    "  print(x)\n",
    "  if x == \"banana\":\n",
    "    break"
   ]
  },
  {
   "cell_type": "markdown",
   "id": "d40a17e0-935a-4dba-acbc-22e0043ee00d",
   "metadata": {},
   "source": [
    "Example 197"
   ]
  },
  {
   "cell_type": "code",
   "execution_count": 612,
   "id": "9ffa8a1a-422a-43f9-8315-a2be0886b339",
   "metadata": {},
   "outputs": [
    {
     "name": "stdout",
     "output_type": "stream",
     "text": [
      "apple\n"
     ]
    }
   ],
   "source": [
    "fruits = [\"apple\", \"banana\", \"cherry\"]\n",
    "for x in fruits:\n",
    "  if x == \"banana\":\n",
    "    break\n",
    "  print(x)"
   ]
  },
  {
   "cell_type": "markdown",
   "id": "956724c5-5180-43a4-bd20-db3620d476fa",
   "metadata": {},
   "source": [
    "Example 198"
   ]
  },
  {
   "cell_type": "code",
   "execution_count": 615,
   "id": "1f007c1c-97e3-4f3c-8ae9-5de53a26d341",
   "metadata": {},
   "outputs": [
    {
     "name": "stdout",
     "output_type": "stream",
     "text": [
      "apple\n",
      "cherry\n"
     ]
    }
   ],
   "source": [
    "fruits = [\"apple\", \"banana\", \"cherry\"]\n",
    "for x in fruits:\n",
    "  if x == \"banana\":\n",
    "    continue\n",
    "  print(x)"
   ]
  },
  {
   "cell_type": "markdown",
   "id": "b771426d-fa47-421c-b9c5-82d6f428d1da",
   "metadata": {},
   "source": [
    "Example 199"
   ]
  },
  {
   "cell_type": "code",
   "execution_count": 618,
   "id": "ab3d30b2-d1b9-4bdd-a23c-8b5996515945",
   "metadata": {},
   "outputs": [
    {
     "name": "stdout",
     "output_type": "stream",
     "text": [
      "0\n",
      "1\n",
      "2\n",
      "3\n",
      "4\n",
      "5\n"
     ]
    }
   ],
   "source": [
    "for x in range(6):\n",
    "  print(x)"
   ]
  },
  {
   "cell_type": "markdown",
   "id": "255d7afe-f523-478a-b78b-479fc560f1ef",
   "metadata": {},
   "source": [
    "Example 200"
   ]
  },
  {
   "cell_type": "code",
   "execution_count": 621,
   "id": "6fe6bc4b-877b-4161-bf44-6ad2a3749333",
   "metadata": {},
   "outputs": [
    {
     "name": "stdout",
     "output_type": "stream",
     "text": [
      "2\n",
      "3\n",
      "4\n",
      "5\n"
     ]
    }
   ],
   "source": [
    "for x in range(2, 6):\n",
    "  print(x)"
   ]
  },
  {
   "cell_type": "markdown",
   "id": "c6683d13-1f51-4a0a-b32a-912dcaa953ee",
   "metadata": {},
   "source": [
    "Example 201"
   ]
  },
  {
   "cell_type": "code",
   "execution_count": 624,
   "id": "b70061a1-89ca-47c3-be5f-bb3daa130512",
   "metadata": {},
   "outputs": [
    {
     "name": "stdout",
     "output_type": "stream",
     "text": [
      "2\n",
      "5\n",
      "8\n",
      "11\n",
      "14\n",
      "17\n",
      "20\n",
      "23\n",
      "26\n",
      "29\n"
     ]
    }
   ],
   "source": [
    "for x in range(2, 30, 3):\n",
    "  print(x)"
   ]
  },
  {
   "cell_type": "markdown",
   "id": "c4e5ed1e-9be5-4bc8-b37a-345459e44ed3",
   "metadata": {},
   "source": [
    "Example 202"
   ]
  },
  {
   "cell_type": "code",
   "execution_count": 627,
   "id": "4825e775-af50-429c-9e60-d788683af9ad",
   "metadata": {},
   "outputs": [
    {
     "name": "stdout",
     "output_type": "stream",
     "text": [
      "0\n",
      "1\n",
      "2\n",
      "3\n",
      "4\n",
      "5\n",
      "Finally finished!\n"
     ]
    }
   ],
   "source": [
    "for x in range(6):\n",
    "  print(x)\n",
    "else:\n",
    "  print(\"Finally finished!\")"
   ]
  },
  {
   "cell_type": "markdown",
   "id": "945ac6bd-0cd4-4822-a294-a740217728db",
   "metadata": {},
   "source": [
    "Example 203"
   ]
  },
  {
   "cell_type": "code",
   "execution_count": 630,
   "id": "45b29fd3-5b61-4282-9e81-f04daa901304",
   "metadata": {},
   "outputs": [
    {
     "name": "stdout",
     "output_type": "stream",
     "text": [
      "0\n",
      "1\n",
      "2\n"
     ]
    }
   ],
   "source": [
    "for x in range(6):\n",
    "  if x == 3: break\n",
    "  print(x)\n",
    "else:\n",
    "  print(\"Finally finished!\")"
   ]
  },
  {
   "cell_type": "markdown",
   "id": "00fd56e6-534a-49db-afce-4711e502fda6",
   "metadata": {},
   "source": [
    "Example 204"
   ]
  },
  {
   "cell_type": "code",
   "execution_count": 634,
   "id": "b9f3b435-1f36-4730-a0f9-b687cd9b71eb",
   "metadata": {},
   "outputs": [
    {
     "name": "stdout",
     "output_type": "stream",
     "text": [
      "red apple\n",
      "red banana\n",
      "red cherry\n",
      "big apple\n",
      "big banana\n",
      "big cherry\n",
      "tasty apple\n",
      "tasty banana\n",
      "tasty cherry\n"
     ]
    }
   ],
   "source": [
    "adj = [\"red\", \"big\", \"tasty\"]\n",
    "fruits = [\"apple\", \"banana\", \"cherry\"]\n",
    "\n",
    "for x in adj:\n",
    "  for y in fruits:\n",
    "    print(x, y)"
   ]
  },
  {
   "cell_type": "markdown",
   "id": "34078287-f22c-4e4d-a30a-35e1dcf025d1",
   "metadata": {},
   "source": [
    "Example 205"
   ]
  },
  {
   "cell_type": "code",
   "execution_count": 641,
   "id": "203f14af-7021-4f7d-87c3-c293dadbc1b7",
   "metadata": {},
   "outputs": [],
   "source": [
    "for x in [0, 1, 2]:\n",
    "  pass"
   ]
  },
  {
   "cell_type": "code",
   "execution_count": null,
   "id": "7daea60d-c5a0-48dc-b67a-9b240c35885b",
   "metadata": {},
   "outputs": [],
   "source": []
  }
 ],
 "metadata": {
  "kernelspec": {
   "display_name": "Python [conda env:base] *",
   "language": "python",
   "name": "conda-base-py"
  },
  "language_info": {
   "codemirror_mode": {
    "name": "ipython",
    "version": 3
   },
   "file_extension": ".py",
   "mimetype": "text/x-python",
   "name": "python",
   "nbconvert_exporter": "python",
   "pygments_lexer": "ipython3",
   "version": "3.12.7"
  }
 },
 "nbformat": 4,
 "nbformat_minor": 5
}
