{
 "cells": [
  {
   "cell_type": "markdown",
   "id": "e76aae08-c9a6-4723-aa39-0a3399ea97c4",
   "metadata": {},
   "source": [
    "\n",
    "Function\t          Description\n",
    "abs()\t              Returns the absolute value of a number\n",
    "all()\t              Returns True if all items in an iterable object are true\n",
    "any()\t              Returns True if any item in an iterable object is true\n",
    "ascii()               Returns a readable version of an object. Replaces none-ascii characters with escape character\n",
    "bin()\t              Returns the binary version of a number\n",
    "bool()\t              Returns the boolean value of the specified object\n",
    "bytearray()\t          Returns an array of bytes\n",
    "bytes()\t              Returns a bytes object\n",
    "callable()\t          Returns True if the specified object is callable, otherwise False\n",
    "chr()\t              Returns a character from the specified Unicode code.\n",
    "classmethod(     \t  Converts a method into a class method\n",
    "compile()\t          Returns the specified source as an object, ready to be executed\n",
    "complex()\t          Returns a complex number\n",
    "delattr()\t          Deletes the specified attribute (property or method) from the specified object\n",
    "dict()\t        \t  Returns a dictionary (Array)\n",
    "dir()\t\t          Returns a list of the specified object's properties and methods\n",
    "divmod()\t\t      Returns the quotient and the remainder when argument1 is divided by argument2\n",
    "enumerate()\t\t      Takes a collection (e.g. a tuple) and returns it as an enumerate object\n",
    "eval()\t\t          Evaluates and executes an expression\n",
    "exec()\t\t          Executes the specified code (or object)\n",
    "filter()\t\t      Use a filter function to exclude items in an iterable object\n",
    "float()\t              Returns a floating point number\n",
    "format()\t\t      Formats a specified value\n",
    "frozenset()\t\t      Returns a frozenset object\n",
    "getattr()\t          Returns the value of the specified attribute (property or method)\n",
    "globals()\t          Returns the current global symbol table as a dictionary\n",
    "hasattr()\t          Returns True if the specified object has the specified attribute (property/method)\n",
    "hash()\t              Returns the hash value of a specified object\n",
    "help()             \t  Executes the built-in help system\n",
    "hex()\t              Converts a number into a hexadecimal value\n",
    "id()\t              Returns the id of an object\n",
    "input()\t              Allowing user input\n",
    "int()\t              Returns an integer number\n",
    "isinstance()\t      Returns True if a specified object is an instance of a specified object\n",
    "issubclass()\t      Returns True if a specified class is a subclass of a specified object\n",
    "iter()\t              Returns an iterator object\n",
    "len()\t              Returns the length of an object\n",
    "list()\t              Returns a list\n",
    "locals()\t          Returns an updated dictionary of the current local symbol table\n",
    "map()\t              Returns the specified iterator with the specified function applied to each item\n",
    "max()\t              Returns the largest item in an iterable\n",
    "memoryview()\t      Returns a memory view object\n",
    "min()\t              Returns the smallest item in an iterable\n",
    "next()\t              Returns the next item in an iterable\n",
    "object()\t          Returns a new object\n",
    "oct()\t              Converts a number into an octal\n",
    "open()\t              Opens a file and returns a file object\n",
    "ord()\t              Convert an integer representing the Unicode of the specified character\n",
    "pow()                 Returns the value of x to the power of y\n",
    "print()\t              Prints to the standard output device\n",
    "property()\t          Gets, sets, deletes a property\n",
    "range()            \t  Returns a sequence of numbers, starting from 0 and increments by 1 (by default)\n",
    "repr()\t              Returns a readable version of an object\n",
    "reversed()\t          Returns a reversed iterator\n",
    "round()\t              Rounds a numbers\n",
    "set()\t              Returns a new set object\n",
    "setattr()\t          Sets an attribute (property/method) of an object\n",
    "slice()\t              Returns a slice object\n",
    "sorted()\t          Returns a sorted list\n",
    "staticmethod()\t      Converts a method into a static method\n",
    "str()\t              Returns a string object\n",
    "sum()\t              Sums the items of an iterator\n",
    "super()\t              Returns an object that represents the parent class\n",
    "tuple()\t              Returns a tuple\n",
    "type()\t              Returns the type of an object\n",
    "vars()\t\t          Returns the __dict__ property of an object\n",
    "zip()\t\t\t      Returns an iterator, from two or more iterators "
   ]
  },
  {
   "cell_type": "markdown",
   "id": "b9800682-6bd7-4727-b619-e24087c2f4f3",
   "metadata": {},
   "source": [
    "Python builtin functions exercises"
   ]
  },
  {
   "cell_type": "markdown",
   "id": "2e8965da-718a-4559-aae8-e0b01e91c963",
   "metadata": {},
   "source": [
    "Task 1"
   ]
  },
  {
   "cell_type": "code",
   "execution_count": 6,
   "id": "90cac7b9-7cbd-4566-a0e6-2730054b2ab6",
   "metadata": {},
   "outputs": [
    {
     "name": "stdin",
     "output_type": "stream",
     "text": [
      " 1 2 3 4 5 \n"
     ]
    },
    {
     "name": "stdout",
     "output_type": "stream",
     "text": [
      "Product of all numbers: 120\n"
     ]
    }
   ],
   "source": [
    "#Write a Python program with builtin function to multiply all the numbers in a list\n",
    "import math\n",
    "\n",
    "numbers = list(map(int, input().split()))\n",
    "result = math.prod(numbers)\n",
    "print(f\"Product of all numbers: {result}\")"
   ]
  },
  {
   "cell_type": "markdown",
   "id": "3ba928df-8fe2-49a7-a5da-6d358d1a8cb8",
   "metadata": {},
   "source": [
    "Task 1 another version"
   ]
  },
  {
   "cell_type": "code",
   "execution_count": 8,
   "id": "5ad8673e-7e75-4be2-a18f-fb85531635e7",
   "metadata": {},
   "outputs": [
    {
     "name": "stdin",
     "output_type": "stream",
     "text": [
      " 1 2 3 4 5\n"
     ]
    },
    {
     "name": "stdout",
     "output_type": "stream",
     "text": [
      "Product of all numbers: 120\n"
     ]
    }
   ],
   "source": [
    "def multiply_list(numbers):\n",
    "    result = 1\n",
    "    for number in numbers:\n",
    "        result *= number\n",
    "    return result\n",
    "    \n",
    "numbers = list(map(int, input().split()))\n",
    "result = multiply_list(numbers)\n",
    "print(f\"Product of all numbers: {result}\")"
   ]
  },
  {
   "cell_type": "markdown",
   "id": "b0cc3b32-747c-4f58-acac-a4c5c078e63b",
   "metadata": {},
   "source": [
    "Task 2"
   ]
  },
  {
   "cell_type": "code",
   "execution_count": 18,
   "id": "7a025a91-b267-4354-84c1-54916aceaa77",
   "metadata": {},
   "outputs": [
    {
     "name": "stdin",
     "output_type": "stream",
     "text": [
      " HelLo WoRld\n"
     ]
    },
    {
     "name": "stdout",
     "output_type": "stream",
     "text": [
      "Original String: HelLo WoRld\n",
      "Number of uppercase letters: 4\n",
      "Number of lowercase letters: 6\n"
     ]
    }
   ],
   "source": [
    "#Write a Python program with builtin function that accepts a string and calculate the number of upper case letters and lower case letters\n",
    "def count_upper_lower(input_string):\n",
    "    upper_count = sum(1 for char in input_string if char.isupper())\n",
    "    lower_count = sum(1 for char in input_string if char.islower())\n",
    "    \n",
    "    print(\"Original String:\", input_string)\n",
    "    print(\"Number of uppercase letters:\", upper_count)\n",
    "    print(\"Number of lowercase letters:\", lower_count)\n",
    "\n",
    "user_input = input()\n",
    "count_upper_lower(user_input)"
   ]
  },
  {
   "cell_type": "markdown",
   "id": "c0405621-9749-40ec-8e75-da7cea80d639",
   "metadata": {},
   "source": [
    "Task 3"
   ]
  },
  {
   "cell_type": "code",
   "execution_count": 32,
   "id": "6cf78f97-bd66-4091-8ebe-821c2e70f919",
   "metadata": {},
   "outputs": [
    {
     "name": "stdin",
     "output_type": "stream",
     "text": [
      " Aziza\n"
     ]
    },
    {
     "name": "stdout",
     "output_type": "stream",
     "text": [
      "Yes, it is a palindrome.\n"
     ]
    }
   ],
   "source": [
    "#Write a Python program with builtin function that checks whether a passed string is palindrome or not\n",
    "def is_palindrome(s):\n",
    "    s = s.lower()\n",
    "    return s == s[::-1]\n",
    "string = input()\n",
    "if is_palindrome(string):\n",
    "    print(\"Yes, it is a palindrome.\")\n",
    "else:\n",
    "    print(\"No, it is not a palindrome.\")"
   ]
  },
  {
   "cell_type": "markdown",
   "id": "96d9fdcc-389a-4c09-9764-b0a80f9d14b1",
   "metadata": {},
   "source": [
    "Task 4"
   ]
  },
  {
   "cell_type": "code",
   "execution_count": 10,
   "id": "68eb678a-9dbc-4d3b-892f-9620e6b2d4cf",
   "metadata": {},
   "outputs": [
    {
     "name": "stdin",
     "output_type": "stream",
     "text": [
      " 25100\n",
      " 2123\n"
     ]
    },
    {
     "name": "stdout",
     "output_type": "stream",
     "text": [
      "Square root of 25100 after 2123 milliseconds is 158.42979517754858\n"
     ]
    }
   ],
   "source": [
    "#Write a Python program that invoke square root function after specific milliseconds\n",
    "import time\n",
    "from math import sqrt\n",
    "\n",
    "number = int(input())\n",
    "milliseconds = int(input())\n",
    "\n",
    "time.sleep(milliseconds / 1000)\n",
    "result = sqrt(number)\n",
    "print(f\"Square root of {number} after {milliseconds} milliseconds is {result}\")"
   ]
  },
  {
   "cell_type": "markdown",
   "id": "3b78552c-481c-4b95-b017-b9bba965c21a",
   "metadata": {},
   "source": [
    "Task 5"
   ]
  },
  {
   "cell_type": "code",
   "execution_count": 62,
   "id": "015ac87f-b788-4823-803b-8f4dc80b1cd9",
   "metadata": {},
   "outputs": [
    {
     "name": "stdin",
     "output_type": "stream",
     "text": [
      " True, 1, \"Hello\"\n"
     ]
    },
    {
     "name": "stdout",
     "output_type": "stream",
     "text": [
      "True\n"
     ]
    }
   ],
   "source": [
    "#Write a Python program with builtin function that returns True if all elements of the tuple are true\n",
    "def all_elements_true(t):\n",
    "    return all(t)\n",
    "user_input = input()\n",
    "input_tuple = tuple(eval(element.strip()) for element in user_input.split(','))\n",
    "result = all_elements_true(input_tuple)\n",
    "if result:\n",
    "    print(\"True\")\n",
    "else:\n",
    "    print(\"False\")"
   ]
  },
  {
   "cell_type": "markdown",
   "id": "41bc79bd-13fc-4ad5-b843-5790f9dbdaed",
   "metadata": {},
   "source": [
    "Python Directories and Files exercises"
   ]
  },
  {
   "cell_type": "markdown",
   "id": "66fc838d-a82e-4be6-9d60-22999bc0db48",
   "metadata": {},
   "source": [
    "Task 1"
   ]
  },
  {
   "cell_type": "code",
   "execution_count": 75,
   "id": "1c1f7580-d802-4869-8428-d8690f6490a2",
   "metadata": {},
   "outputs": [
    {
     "name": "stdout",
     "output_type": "stream",
     "text": [
      "Checking the contents of the folder: C:\\Users\\MyNote\\Desktop\\PP2\n",
      "Directories: ['.git', '.ipynb_checkpoints']\n",
      "Files: ['Lecture1.ipynb', 'Lecture2.ipynb', 'Lecture3.ipynb', 'Lecture4.ipynb', 'Lecture5.ipynb', 'Lecture6.ipynb']\n",
      "All items: ['.git', '.ipynb_checkpoints', 'Lecture1.ipynb', 'Lecture2.ipynb', 'Lecture3.ipynb', 'Lecture4.ipynb', 'Lecture5.ipynb', 'Lecture6.ipynb']\n"
     ]
    }
   ],
   "source": [
    "#Write a Python program to list only directories, files and all directories, files in a specified path\n",
    "import os\n",
    "\n",
    "path = os.getcwd()\n",
    "\n",
    "print(f\"Checking the contents of the folder: {path}\")\n",
    "\n",
    "all_items = os.listdir(path)\n",
    "\n",
    "directories = [item for item in all_items if os.path.isdir(item)]\n",
    "files = [item for item in all_items if os.path.isfile(item)]\n",
    "\n",
    "print(\"Directories:\", directories)\n",
    "print(\"Files:\", files)\n",
    "print(\"All items:\", all_items)"
   ]
  },
  {
   "cell_type": "markdown",
   "id": "55cdd93a-a062-4a57-bad6-35d4c8bdfbd1",
   "metadata": {},
   "source": [
    "Task 2"
   ]
  },
  {
   "cell_type": "code",
   "execution_count": 84,
   "id": "de5e2bff-c975-46ec-bfbd-19fa61533467",
   "metadata": {},
   "outputs": [
    {
     "name": "stdin",
     "output_type": "stream",
     "text": [
      "Enter the file or directory path:  C:\\Users\\MyNote\\Desktop\\PP2\n"
     ]
    },
    {
     "name": "stdout",
     "output_type": "stream",
     "text": [
      "The path exists.\n",
      "Readable: True\n",
      "Writable: True\n",
      "Executable: True\n"
     ]
    }
   ],
   "source": [
    "#Write a Python program to check for access to a specified path. Test the existence, readability, writability and executability of the specified path\n",
    "import os\n",
    "\n",
    "path = input(\"Enter the file or directory path: \")\n",
    "\n",
    "if os.path.exists(path):\n",
    "    print(\"The path exists.\")\n",
    "    print(\"Readable:\", os.access(path, os.R_OK))\n",
    "    print(\"Writable:\", os.access(path, os.W_OK))\n",
    "    print(\"Executable:\", os.access(path, os.X_OK))\n",
    "else:\n",
    "    print(\"The path does not exist.\")"
   ]
  },
  {
   "cell_type": "markdown",
   "id": "8a5a63f4-7f82-4840-ab46-2a744468b055",
   "metadata": {},
   "source": [
    "Task 3"
   ]
  },
  {
   "cell_type": "code",
   "execution_count": 86,
   "id": "0df3eff7-e8d2-4a05-b6bd-c7b0767f693f",
   "metadata": {},
   "outputs": [
    {
     "name": "stdin",
     "output_type": "stream",
     "text": [
      "Enter the file or directory path:  C:\\Users\\MyNote\\Desktop\\PP2\n"
     ]
    },
    {
     "name": "stdout",
     "output_type": "stream",
     "text": [
      "The path exists.\n",
      "Directory portion: C:\\Users\\MyNote\\Desktop\n",
      "Filename portion: PP2\n"
     ]
    }
   ],
   "source": [
    "#Write a Python program to test whether a given path exists or not. If the path exist find the filename and directory portion of the given path.\n",
    "import os\n",
    "\n",
    "path = input(\"Enter the file or directory path: \")\n",
    "\n",
    "if os.path.exists(path):\n",
    "    print(\"The path exists.\")\n",
    "    print(\"Directory portion:\", os.path.dirname(path))\n",
    "    print(\"Filename portion:\", os.path.basename(path))\n",
    "else:\n",
    "    print(\"The path does not exist.\")"
   ]
  },
  {
   "cell_type": "markdown",
   "id": "8ba2acc9-f8bb-429d-b991-4055cc9e7596",
   "metadata": {},
   "source": [
    "Task 4"
   ]
  },
  {
   "cell_type": "code",
   "execution_count": 22,
   "id": "14effa37-8168-4fe5-8e9e-98c2f86ff39c",
   "metadata": {},
   "outputs": [
    {
     "name": "stdout",
     "output_type": "stream",
     "text": [
      "The file 'sample.txt' contains 3 lines.\n"
     ]
    }
   ],
   "source": [
    "import os\n",
    "\n",
    "file_name = \"sample.txt\"\n",
    "\n",
    "if not os.path.exists(file_name):\n",
    "    file = open(file_name, \"w\") \n",
    "    file.write(\"Hello, this is a sample file.\\n\")\n",
    "    file.write(\"It has multiple lines.\\n\")\n",
    "    file.write(\"This is line number three.\\n\")\n",
    "    file.close()  \n",
    "    \n",
    "file = open(file_name, \"r\")\n",
    "lines = file.readlines()\n",
    "file.close()\n",
    "\n",
    "line_count = len(lines)\n",
    "print(f\"The file '{file_name}' contains {line_count} lines.\")"
   ]
  },
  {
   "cell_type": "markdown",
   "id": "34591113-d2e6-402e-a3ed-fe5accd35e38",
   "metadata": {},
   "source": [
    "Task 5"
   ]
  },
  {
   "cell_type": "code",
   "execution_count": 96,
   "id": "7b359f5c-5f9a-4d35-b823-054300c6959b",
   "metadata": {},
   "outputs": [
    {
     "name": "stdout",
     "output_type": "stream",
     "text": [
      "The list has been written to 'my_list.txt'\n"
     ]
    }
   ],
   "source": [
    "#Write a Python program to write a list to a file\n",
    "my_list = [\"Apple\", \"Banana\", \"Cherry\"]\n",
    "\n",
    "file_name = \"my_list.txt\"\n",
    "\n",
    "with open(file_name, 'w') as file:\n",
    "    for item in my_list:\n",
    "        file.write(item + \"\\n\")\n",
    "\n",
    "print(f\"The list has been written to '{file_name}'\")"
   ]
  },
  {
   "cell_type": "markdown",
   "id": "65e9c952-7eb9-4467-b97f-400d9f333876",
   "metadata": {},
   "source": [
    "Task 6"
   ]
  },
  {
   "cell_type": "code",
   "execution_count": 4,
   "id": "390cb3df-175d-41e3-b3ea-314cb735ac54",
   "metadata": {},
   "outputs": [
    {
     "name": "stdout",
     "output_type": "stream",
     "text": [
      "Created: A.txt\n",
      "Created: B.txt\n",
      "Created: C.txt\n",
      "Created: D.txt\n",
      "Created: E.txt\n",
      "Created: F.txt\n",
      "Created: G.txt\n",
      "Created: H.txt\n",
      "Created: I.txt\n",
      "Created: J.txt\n",
      "Created: K.txt\n",
      "Created: L.txt\n",
      "Created: M.txt\n",
      "Created: N.txt\n",
      "Created: O.txt\n",
      "Created: P.txt\n",
      "Created: Q.txt\n",
      "Created: R.txt\n",
      "Created: S.txt\n",
      "Created: T.txt\n",
      "Created: U.txt\n",
      "Created: V.txt\n",
      "Created: W.txt\n",
      "Created: X.txt\n",
      "Created: Y.txt\n",
      "Created: Z.txt\n"
     ]
    }
   ],
   "source": [
    "#Write a Python program to generate 26 text files named A.txt, B.txt, and so on up to Z.txt\n",
    "import string\n",
    "for letter in string.ascii_uppercase:\n",
    "    filename = f\"{letter}.txt\"\n",
    "    with open(filename, 'w') as file:\n",
    "        file.write(f\"This is {filename}\\n\")\n",
    "    print(f\"Created: {filename}\")"
   ]
  },
  {
   "cell_type": "markdown",
   "id": "a0650b75-5f6a-4ff9-80eb-830a33c8eb28",
   "metadata": {},
   "source": [
    "Task 7"
   ]
  },
  {
   "cell_type": "code",
   "execution_count": 129,
   "id": "f8ff1b99-0185-4298-9f2a-5007d1637f0b",
   "metadata": {},
   "outputs": [
    {
     "name": "stdout",
     "output_type": "stream",
     "text": [
      "Copied text:\n",
      " This is a test file.\n",
      " It will be copied to another file.\n"
     ]
    }
   ],
   "source": [
    "#Write a Python program to copy the contents of a file to another file\n",
    "import shutil\n",
    "\n",
    "with open(\"source.txt\", \"w\") as file:\n",
    "    file.write(\"This is a test file.\\n It will be copied to another file.\")\n",
    "\n",
    "shutil.copy(\"source.txt\", \"copy_of_source.txt\")\n",
    "\n",
    "with open(\"copy_of_source.txt\", \"r\") as file:\n",
    "    copied_content = file.read()\n",
    "\n",
    "print(\"Copied text:\\n\", copied_content)"
   ]
  },
  {
   "cell_type": "markdown",
   "id": "790b6122-389f-4745-99d8-f56e365cf034",
   "metadata": {},
   "source": [
    "Task 8"
   ]
  },
  {
   "cell_type": "code",
   "execution_count": 133,
   "id": "fd5670a6-a4f2-468c-be98-206e456b8406",
   "metadata": {},
   "outputs": [
    {
     "name": "stdout",
     "output_type": "stream",
     "text": [
      "File 'existing_file.txt' has been created.\n",
      "\n",
      "File 'existing_file.txt' has been deleted.\n",
      "File 'non_existing_file.txt' does not exist.\n"
     ]
    }
   ],
   "source": [
    "#Write a Python program to delete file by specified path. Before deleting check for access and whether a given path exists or not\n",
    "import os\n",
    "\n",
    "existing_file = \"existing_file.txt\"\n",
    "non_existing_file = \"non_existing_file.txt\"\n",
    "\n",
    "with open(existing_file, \"w\") as file:\n",
    "    file.write(\"This is an existing file.\\nIt will be deleted.\")\n",
    "\n",
    "print(f\"File '{existing_file}' has been created.\\n\")\n",
    "\n",
    "def delete_file(file_path):\n",
    "    if os.path.exists(file_path):\n",
    "        if os.access(file_path, os.W_OK):\n",
    "            os.remove(file_path)\n",
    "            print(f\"File '{file_path}' has been deleted.\")\n",
    "        else:\n",
    "            print(f\"No permission to delete '{file_path}'.\")\n",
    "    else:\n",
    "        print(f\"File '{file_path}' does not exist.\")\n",
    "\n",
    "delete_file(existing_file) \n",
    "delete_file(non_existing_file)"
   ]
  }
 ],
 "metadata": {
  "kernelspec": {
   "display_name": "Python [conda env:base] *",
   "language": "python",
   "name": "conda-base-py"
  },
  "language_info": {
   "codemirror_mode": {
    "name": "ipython",
    "version": 3
   },
   "file_extension": ".py",
   "mimetype": "text/x-python",
   "name": "python",
   "nbconvert_exporter": "python",
   "pygments_lexer": "ipython3",
   "version": "3.12.7"
  }
 },
 "nbformat": 4,
 "nbformat_minor": 5
}
