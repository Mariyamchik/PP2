{
 "cells": [
  {
   "cell_type": "markdown",
   "id": "b4b69013-5235-4e7d-9d15-aea887400eac",
   "metadata": {},
   "source": [
    "RegEx"
   ]
  },
  {
   "cell_type": "markdown",
   "id": "db538f2d-a8a0-4621-bb09-daf4560052da",
   "metadata": {},
   "source": [
    "Task 1"
   ]
  },
  {
   "cell_type": "code",
   "execution_count": 7,
   "id": "07735356-8a4b-4c86-b066-fcece509b207",
   "metadata": {},
   "outputs": [
    {
     "name": "stdin",
     "output_type": "stream",
     "text": [
      " ab abb a abbb acb abba\n"
     ]
    },
    {
     "name": "stdout",
     "output_type": "stream",
     "text": [
      "Matches found: ['ab', 'abb', 'a', 'abbb', 'a', 'abb', 'a']\n"
     ]
    }
   ],
   "source": [
    "#Write a Python program that matches a string that has an 'a' followed by zero or more 'b''s.\n",
    "import re\n",
    "def task_1():\n",
    "    input_string = input()\n",
    "    pattern = r\"ab*\"\n",
    "    matches = re.findall(pattern, input_string)\n",
    "    \n",
    "    if matches:\n",
    "        print(\"Matches found:\", matches)\n",
    "    else:\n",
    "        print(\"No matches found.\")\n",
    "task_1()"
   ]
  },
  {
   "cell_type": "markdown",
   "id": "bed7eb08-d1fb-4aa2-97fb-a53d242c462a",
   "metadata": {},
   "source": [
    "Task 2"
   ]
  },
  {
   "cell_type": "code",
   "execution_count": 7,
   "id": "bafe46c4-6f1d-4d81-9d5a-2e90c60771e5",
   "metadata": {},
   "outputs": [
    {
     "name": "stdin",
     "output_type": "stream",
     "text": [
      " abb abbb abbbb ab abbbb a\n"
     ]
    },
    {
     "name": "stdout",
     "output_type": "stream",
     "text": [
      "Matches found: ['abb', 'abbb', 'abbb', 'abbb']\n"
     ]
    }
   ],
   "source": [
    "#Write a Python program that matches a string that has an 'a' followed by two to three 'b'.\n",
    "import re\n",
    "def task_2():\n",
    "    input_string = input()\n",
    "    pattern = r\"ab{2,3}\"  \n",
    "    matches = re.findall(pattern, input_string)\n",
    "    if matches:\n",
    "        print(\"Matches found:\", matches)\n",
    "    else:\n",
    "        print(\"No matches found.\")\n",
    "task_2()"
   ]
  },
  {
   "cell_type": "markdown",
   "id": "6b94013f-9d15-471c-b0e6-6683a537408e",
   "metadata": {},
   "source": [
    "Task 3"
   ]
  },
  {
   "cell_type": "code",
   "execution_count": 17,
   "id": "11b1c65f-ad07-4fe9-bf92-8cab661f1375",
   "metadata": {},
   "outputs": [
    {
     "name": "stdin",
     "output_type": "stream",
     "text": [
      "  hello_world test_string python_programming thisIsNot_matching valid_input another_valid_case\n"
     ]
    },
    {
     "name": "stdout",
     "output_type": "stream",
     "text": [
      "Matches found: ['hello_world', 'test_string', 'python_programming', 'ot_matching', 'valid_input', 'another_valid']\n"
     ]
    }
   ],
   "source": [
    "#Write a Python program to find sequences of lowercase letters joined with a underscore.\n",
    "import re\n",
    "def task_3():\n",
    "    input_string = input()\n",
    "    pattern = r\"[a-z]+_[a-z]+\"\n",
    "    matches = re.findall(pattern, input_string)\n",
    "    \n",
    "    if matches:\n",
    "        print(\"Matches found:\", matches)\n",
    "    else:\n",
    "        print(\"No matches found.\")\n",
    "task_3()"
   ]
  },
  {
   "cell_type": "markdown",
   "id": "4a5acc97-4b52-4b93-a2a2-3b2f49222dad",
   "metadata": {},
   "source": [
    "Task 4"
   ]
  },
  {
   "cell_type": "code",
   "execution_count": 22,
   "id": "fb5c5c32-d8ce-4e6f-8f77-d284db9326de",
   "metadata": {},
   "outputs": [
    {
     "name": "stdin",
     "output_type": "stream",
     "text": [
      " Hello World ThisIsAnExample\n"
     ]
    },
    {
     "name": "stdout",
     "output_type": "stream",
     "text": [
      "Matches found: ['Hello', 'World', 'This', 'Is', 'An', 'Example']\n"
     ]
    }
   ],
   "source": [
    "#Write a Python program to find the sequences of one upper case letter followed by lower case letters.\n",
    "import re\n",
    "def task_4():\n",
    "    input_string = input()\n",
    "    pattern = r\"[A-Z][a-z]+\" \n",
    "    matches = re.findall(pattern, input_string)\n",
    "    if matches:\n",
    "        print(\"Matches found:\", matches)\n",
    "    else:\n",
    "        print(\"No matches found.\")\n",
    "task_4()"
   ]
  },
  {
   "cell_type": "markdown",
   "id": "73bfeff8-75ff-47b2-abfb-4330ca4edf46",
   "metadata": {},
   "source": [
    "Task 5"
   ]
  },
  {
   "cell_type": "code",
   "execution_count": 5,
   "id": "6bb13ead-85bf-44e2-ad02-b7f398a164d6",
   "metadata": {},
   "outputs": [
    {
     "name": "stdin",
     "output_type": "stream",
     "text": [
      " acb axb hello ab a_random_b test_ab\n"
     ]
    },
    {
     "name": "stdout",
     "output_type": "stream",
     "text": [
      "Matches found: ['acb', 'axb', 'ab', 'a_random_b', 'ab']\n",
      "Matches found: ['acb axb hello ab a_random_b test_ab']\n"
     ]
    }
   ],
   "source": [
    "#Write a Python program that matches a string that has an 'a' followed by anything, ending in 'b'.\n",
    "import re\n",
    "def task_5():\n",
    "    input_string = input()\n",
    "    pattern1 = r\"a.*?b\"\n",
    "    pattern2 = r\"a.*b\"\n",
    "    matches1 = re.findall(pattern1, input_string)\n",
    "    matches2= re.findall(pattern2, input_string)\n",
    "    if matches1:\n",
    "        print(\"Matches found:\", matches1)\n",
    "    else:\n",
    "        print(\"No matches found.\")\n",
    "        \n",
    "    if matches2:\n",
    "        print(\"Matches found:\", matches2)\n",
    "    else:\n",
    "        print(\"No matches found.\")\n",
    "task_5()"
   ]
  },
  {
   "cell_type": "markdown",
   "id": "9a27fecc-1510-4be5-af36-afd48e5aa7f3",
   "metadata": {},
   "source": [
    "Task 6"
   ]
  },
  {
   "cell_type": "code",
   "execution_count": 34,
   "id": "fd11d7fe-5316-4dbc-aaa6-79efef8d8d20",
   "metadata": {},
   "outputs": [
    {
     "name": "stdin",
     "output_type": "stream",
     "text": [
      " Hello, world. This is a test.\n"
     ]
    },
    {
     "name": "stdout",
     "output_type": "stream",
     "text": [
      "Replaced string: Hello::world::This:is:a:test:\n"
     ]
    }
   ],
   "source": [
    "#Write a Python program to replace all occurrences of space, comma, or dot with a colon.\n",
    "import re\n",
    "def task_6():\n",
    "    input_string = input()\n",
    "    pattern = r\"[ ,.]\"\n",
    "    replaced_string = re.sub(pattern, \":\", input_string)\n",
    "    print(\"Replaced string:\", replaced_string)\n",
    "task_6()"
   ]
  },
  {
   "cell_type": "markdown",
   "id": "cfdead3c-4330-42b2-9619-1e294a3a51fd",
   "metadata": {},
   "source": [
    "Task 7"
   ]
  },
  {
   "cell_type": "code",
   "execution_count": 41,
   "id": "3747092a-d0b2-47c8-bf80-e90674fc305d",
   "metadata": {},
   "outputs": [
    {
     "name": "stdin",
     "output_type": "stream",
     "text": [
      " this_is_a_test\n"
     ]
    },
    {
     "name": "stdout",
     "output_type": "stream",
     "text": [
      "Camel case string: thisIsATest\n"
     ]
    }
   ],
   "source": [
    "#Write a python program to convert snake case string to camel case string.\n",
    "import re\n",
    "def task_7():\n",
    "    input_string = input()\n",
    "    words = re.split(r\"_\", input_string)\n",
    "    camel_case = words[0].lower() + ''.join(re.sub(r\"^.\", lambda x: x.group().upper(), word) for word in words[1:])\n",
    "    print(\"Camel case string:\", camel_case)\n",
    "task_7()"
   ]
  },
  {
   "cell_type": "markdown",
   "id": "d92710a2-195e-45d9-9cbe-eaf80dca6566",
   "metadata": {},
   "source": [
    "Task 8"
   ]
  },
  {
   "cell_type": "code",
   "execution_count": 52,
   "id": "6ec3d88d-56fb-4d18-bd42-848cf84c7ac7",
   "metadata": {},
   "outputs": [
    {
     "name": "stdin",
     "output_type": "stream",
     "text": [
      " HelloWorldPython\n"
     ]
    },
    {
     "name": "stdout",
     "output_type": "stream",
     "text": [
      "Split string: ['Hello', 'World', 'Python']\n"
     ]
    }
   ],
   "source": [
    "#Write a Python program to split a string at uppercase letters.\n",
    "import re\n",
    "def task_8():\n",
    "    input_string = input()\n",
    "    result = [word for word in re.split(r'(?=[A-Z])', input_string) if word]\n",
    "    print(\"Split string:\", result)\n",
    "task_8()"
   ]
  },
  {
   "cell_type": "markdown",
   "id": "415adf26-5e32-4cd3-9cdb-a4c0b0be67f6",
   "metadata": {},
   "source": [
    "Task 9"
   ]
  },
  {
   "cell_type": "code",
   "execution_count": 9,
   "id": "3dca5dd9-f20c-4666-af03-3b332e3a92bf",
   "metadata": {},
   "outputs": [
    {
     "name": "stdin",
     "output_type": "stream",
     "text": [
      " ThisIsAnExampleString\n"
     ]
    },
    {
     "name": "stdout",
     "output_type": "stream",
     "text": [
      "String with spaces: This Is An Example String\n"
     ]
    }
   ],
   "source": [
    "#Write a Python program to insert spaces between words starting with capital letters.\n",
    "import re\n",
    "def task_9():\n",
    "    input_string = input()\n",
    "    result = re.sub(r'(?=[A-Z])', ' ', input_string).strip()\n",
    "    print(\"String with spaces:\", result)\n",
    "task_9()"
   ]
  },
  {
   "cell_type": "markdown",
   "id": "4ad2351f-9c7a-4922-9f8c-73ba1c3189de",
   "metadata": {},
   "source": [
    "Task 10"
   ]
  },
  {
   "cell_type": "code",
   "execution_count": 58,
   "id": "b884271c-c356-4f2a-a31e-9ee68bb19539",
   "metadata": {},
   "outputs": [
    {
     "name": "stdin",
     "output_type": "stream",
     "text": [
      " thisIsAnExampleString\n"
     ]
    },
    {
     "name": "stdout",
     "output_type": "stream",
     "text": [
      "Snake case string: this_is_an_example_string\n"
     ]
    }
   ],
   "source": [
    "#Write a Python program to convert a given camel case string to snake case.\n",
    "import re\n",
    "def task_10():\n",
    "    input_string = input()\n",
    "    result = re.sub(r'([a-z0-9])([A-Z])', r'\\1_\\2', input_string).lower()\n",
    "    print(\"Snake case string:\", result)\n",
    "task_10()"
   ]
  },
  {
   "cell_type": "code",
   "execution_count": null,
   "id": "36927300-d0bb-4079-9b1f-826ffdca74a2",
   "metadata": {},
   "outputs": [],
   "source": []
  }
 ],
 "metadata": {
  "kernelspec": {
   "display_name": "Python [conda env:base] *",
   "language": "python",
   "name": "conda-base-py"
  },
  "language_info": {
   "codemirror_mode": {
    "name": "ipython",
    "version": 3
   },
   "file_extension": ".py",
   "mimetype": "text/x-python",
   "name": "python",
   "nbconvert_exporter": "python",
   "pygments_lexer": "ipython3",
   "version": "3.12.7"
  }
 },
 "nbformat": 4,
 "nbformat_minor": 5
}
