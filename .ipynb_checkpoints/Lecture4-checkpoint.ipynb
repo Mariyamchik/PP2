{
 "cells": [
  {
   "cell_type": "markdown",
   "id": "c8636383-29f6-463e-954c-47f7ccb7db59",
   "metadata": {},
   "source": [
    "Python Math library"
   ]
  },
  {
   "cell_type": "markdown",
   "id": "121246b2-29f4-4ad0-a533-469117f6c4a8",
   "metadata": {},
   "source": [
    "TASK 1"
   ]
  },
  {
   "cell_type": "code",
   "execution_count": 3,
   "id": "4fe3a455-41ac-441b-bb6e-4a0b41da6bd7",
   "metadata": {},
   "outputs": [
    {
     "name": "stdin",
     "output_type": "stream",
     "text": [
      "Degree:  15\n"
     ]
    },
    {
     "name": "stdout",
     "output_type": "stream",
     "text": [
      "Radian: 0.261799\n"
     ]
    }
   ],
   "source": [
    "import math\n",
    "\n",
    "def degrees_to_radians(degrees):\n",
    "    return degrees * (math.pi / 180)\n",
    "\n",
    "degree = float(input(\"Degree: \"))\n",
    "radian = degrees_to_radians(degree)\n",
    "\n",
    "print(f\"Radian: {radian:.6f}\")"
   ]
  },
  {
   "cell_type": "markdown",
   "id": "7fadc068-9728-4262-8299-5b3d75248feb",
   "metadata": {},
   "source": [
    "TASK 2"
   ]
  },
  {
   "cell_type": "code",
   "execution_count": 5,
   "id": "3d9c3ee4-d306-4e89-90f3-837897d257c4",
   "metadata": {},
   "outputs": [
    {
     "name": "stdin",
     "output_type": "stream",
     "text": [
      "Height:  5\n",
      "Base, first value:  5\n",
      "Base, second value:  6\n"
     ]
    },
    {
     "name": "stdout",
     "output_type": "stream",
     "text": [
      "Output: 27.5\n"
     ]
    }
   ],
   "source": [
    "def trapezoid_area(height, base1, base2):\n",
    "    return ((base1 + base2) / 2) * height\n",
    "\n",
    "height = float(input(\"Height: \"))\n",
    "base1 = float(input(\"Base, first value: \"))\n",
    "base2 = float(input(\"Base, second value: \"))\n",
    "area = trapezoid_area(height, base1, base2)\n",
    "print(f\"Output: {area:.1f}\")"
   ]
  },
  {
   "cell_type": "markdown",
   "id": "04337031-8e13-4d9a-87ba-e149c9e8abf6",
   "metadata": {},
   "source": [
    "TASK 3"
   ]
  },
  {
   "cell_type": "code",
   "execution_count": 8,
   "id": "34bcd76e-72fc-4793-a5fe-f89b62ed9a85",
   "metadata": {},
   "outputs": [
    {
     "name": "stdin",
     "output_type": "stream",
     "text": [
      "Number of sides:  4\n",
      "The length of a side:  25\n"
     ]
    },
    {
     "name": "stdout",
     "output_type": "stream",
     "text": [
      "The area of the polygon is: 625.0\n"
     ]
    }
   ],
   "source": [
    "import math\n",
    "\n",
    "def regular_polygon_area(n, side_length):\n",
    "    return (n * side_length ** 2) / (4 * math.tan(math.pi / n))\n",
    "\n",
    "num_sides = int(input(\"Number of sides: \"))\n",
    "side_length = float(input(\"The length of a side: \"))\n",
    "\n",
    "area = regular_polygon_area(num_sides, side_length)\n",
    "print(f\"The area of the polygon is: {area:.1f}\")"
   ]
  },
  {
   "cell_type": "markdown",
   "id": "626896e7-2037-44a6-b449-d03814dc57f7",
   "metadata": {},
   "source": [
    "TASK 4"
   ]
  },
  {
   "cell_type": "code",
   "execution_count": 13,
   "id": "9b407afd-ba25-4fd4-b6c3-e21fbd0b86de",
   "metadata": {},
   "outputs": [
    {
     "name": "stdin",
     "output_type": "stream",
     "text": [
      "Length of base:  5\n",
      "Height of parallelogram:  6\n"
     ]
    },
    {
     "name": "stdout",
     "output_type": "stream",
     "text": [
      " Output: 30.0\n"
     ]
    }
   ],
   "source": [
    "def parallelogram_area(base, height):\n",
    "    return base * height\n",
    "\n",
    "base = float(input(\"Length of base: \"))\n",
    "height = float(input(\"Height of parallelogram: \"))\n",
    "\n",
    "area = parallelogram_area(base, height)\n",
    "print(f\" Output: {area:.1f}\")"
   ]
  },
  {
   "cell_type": "markdown",
   "id": "7d21ebfd-59bf-4e97-9186-5a5907d29bcc",
   "metadata": {},
   "source": [
    "Python iterators and generators"
   ]
  },
  {
   "cell_type": "markdown",
   "id": "baf8a349-88ff-496c-b139-ef1c663ec122",
   "metadata": {},
   "source": [
    "TASK 1"
   ]
  },
  {
   "cell_type": "code",
   "execution_count": 17,
   "id": "c06aa10f-7b13-49a1-9f5e-2acd38afbf40",
   "metadata": {},
   "outputs": [
    {
     "name": "stdin",
     "output_type": "stream",
     "text": [
      "Number:  5\n"
     ]
    },
    {
     "name": "stdout",
     "output_type": "stream",
     "text": [
      "1\n",
      "4\n",
      "9\n",
      "16\n",
      "25\n"
     ]
    }
   ],
   "source": [
    "def square_generator(N):\n",
    "    for i in range(1, N + 1):\n",
    "        yield i ** 2\n",
    "\n",
    "N = int(input(\"Number: \"))\n",
    "for square in square_generator(N):\n",
    "    print(square)"
   ]
  },
  {
   "cell_type": "markdown",
   "id": "0cf5b3ec-cf1e-4519-8b53-403c70430094",
   "metadata": {},
   "source": [
    "TASK 2"
   ]
  },
  {
   "cell_type": "code",
   "execution_count": 20,
   "id": "ae9487a3-75c2-4cf3-a8d9-f4b44f85774c",
   "metadata": {},
   "outputs": [
    {
     "name": "stdin",
     "output_type": "stream",
     "text": [
      "Number:  23\n"
     ]
    },
    {
     "name": "stdout",
     "output_type": "stream",
     "text": [
      "0, 2, 4, 6, 8, 10, 12, 14, 16, 18, 20, 22\n"
     ]
    }
   ],
   "source": [
    "def even_numbers_generator(n):\n",
    "    for i in range(0, n + 1, 2):\n",
    "        yield i\n",
    "\n",
    "n = int(input(\"Number: \"))\n",
    "even_numbers = (str(num) for num in even_numbers_generator(n))\n",
    "print(\", \".join(even_numbers))"
   ]
  },
  {
   "cell_type": "markdown",
   "id": "573d3678-af2f-457c-b2f9-4b70417fa427",
   "metadata": {},
   "source": [
    "TASK 3"
   ]
  },
  {
   "cell_type": "code",
   "execution_count": 25,
   "id": "cd15ea42-d899-42c0-86f7-1c4efe9bd767",
   "metadata": {},
   "outputs": [
    {
     "name": "stdin",
     "output_type": "stream",
     "text": [
      "Number:  99\n"
     ]
    },
    {
     "name": "stdout",
     "output_type": "stream",
     "text": [
      "0, 12, 24, 36, 48, 60, 72, 84, 96\n"
     ]
    }
   ],
   "source": [
    "def generator(n):\n",
    "    for i in range(0, n + 1):\n",
    "        if i % 3 == 0 and i % 4 == 0:\n",
    "            yield i\n",
    "\n",
    "n = int(input(\"Number: \"))\n",
    "\n",
    "divisible_numbers = (str(num) for num in generator(n))\n",
    "print(\", \".join(divisible_numbers))"
   ]
  },
  {
   "cell_type": "markdown",
   "id": "6dfb9a2c-7bf5-4bad-8d58-02c1f0b49874",
   "metadata": {},
   "source": [
    "TASK 4"
   ]
  },
  {
   "cell_type": "code",
   "execution_count": 34,
   "id": "637d9bcc-f933-4c36-9f5d-0c7361dfcaf3",
   "metadata": {},
   "outputs": [
    {
     "name": "stdin",
     "output_type": "stream",
     "text": [
      "Number (a):  5\n",
      "Number (b):  8\n"
     ]
    },
    {
     "name": "stdout",
     "output_type": "stream",
     "text": [
      "25\n",
      "36\n",
      "49\n",
      "64\n"
     ]
    }
   ],
   "source": [
    "def squares(a, b):\n",
    "    for i in range(a, b + 1):\n",
    "        yield i ** 2\n",
    "\n",
    "a = int(input(\"Number (a): \"))\n",
    "b = int(input(\"Number (b): \"))\n",
    "\n",
    "for square in squares(a, b):\n",
    "    print(square)"
   ]
  },
  {
   "cell_type": "markdown",
   "id": "9a325812-dbc3-4a17-a9fd-5a6db5ddac92",
   "metadata": {},
   "source": [
    "TASK 5"
   ]
  },
  {
   "cell_type": "code",
   "execution_count": 43,
   "id": "8f406c8d-0297-4235-a697-4b9ff578b928",
   "metadata": {},
   "outputs": [
    {
     "name": "stdin",
     "output_type": "stream",
     "text": [
      "Number (n):  9\n"
     ]
    },
    {
     "name": "stdout",
     "output_type": "stream",
     "text": [
      "9\n",
      "8\n",
      "7\n",
      "6\n",
      "5\n",
      "4\n",
      "3\n",
      "2\n",
      "1\n",
      "0\n"
     ]
    }
   ],
   "source": [
    "def countdown(n):\n",
    "    for i in range(n, -1, -1):\n",
    "        yield i\n",
    "\n",
    "n = int(input(\"Number (n): \"))\n",
    "\n",
    "for num in countdown(n):\n",
    "    print(num)"
   ]
  },
  {
   "cell_type": "markdown",
   "id": "d79d060f-ba00-41b3-9aa9-155d8dddefd5",
   "metadata": {},
   "source": [
    "Python date"
   ]
  },
  {
   "cell_type": "markdown",
   "id": "c0f29446-9f11-48bc-9c31-faf2f45cd8df",
   "metadata": {},
   "source": [
    "TASK 1"
   ]
  },
  {
   "cell_type": "code",
   "execution_count": 41,
   "id": "944bc667-9cc4-43af-806b-11d83b3106a4",
   "metadata": {},
   "outputs": [
    {
     "name": "stdout",
     "output_type": "stream",
     "text": [
      "Current Date: 2025-02-11\n",
      "Date After Subtracting 5 Days: 2025-02-06\n"
     ]
    }
   ],
   "source": [
    "from datetime import datetime, timedelta\n",
    "current_date = datetime.now()\n",
    "new_date = current_date - timedelta(days=5)\n",
    "print(\"Current Date:\", current_date.strftime(\"%Y-%m-%d\"))\n",
    "print(\"Date After Subtracting 5 Days:\", new_date.strftime(\"%Y-%m-%d\"))"
   ]
  },
  {
   "cell_type": "markdown",
   "id": "b77a83ae-9868-4e5d-ae36-f792d97e786b",
   "metadata": {},
   "source": [
    "TASK 2"
   ]
  },
  {
   "cell_type": "code",
   "execution_count": 46,
   "id": "37d2a8a6-b174-4c43-a378-49563987778a",
   "metadata": {},
   "outputs": [
    {
     "name": "stdout",
     "output_type": "stream",
     "text": [
      "Yesterday: 2025-02-10\n",
      "Today: 2025-02-11\n",
      "Tomorrow: 2025-02-12\n"
     ]
    }
   ],
   "source": [
    "from datetime import datetime, timedelta\n",
    "today = datetime.now()\n",
    "\n",
    "yesterday = today - timedelta(days=1)\n",
    "tomorrow = today + timedelta(days=1)\n",
    "\n",
    "print(\"Yesterday:\", yesterday.strftime(\"%Y-%m-%d\"))\n",
    "print(\"Today:\", today.strftime(\"%Y-%m-%d\"))\n",
    "print(\"Tomorrow:\", tomorrow.strftime(\"%Y-%m-%d\"))"
   ]
  },
  {
   "cell_type": "markdown",
   "id": "dec3c786-a9a6-4be2-812c-a977e843d44d",
   "metadata": {},
   "source": [
    "TASK 3"
   ]
  },
  {
   "cell_type": "code",
   "execution_count": 51,
   "id": "6b42de9a-5046-4ccc-b937-f1952a0e50e5",
   "metadata": {},
   "outputs": [
    {
     "name": "stdout",
     "output_type": "stream",
     "text": [
      "Original Datetime: 2025-02-11 13:17:46.047853\n",
      "Datetime Without Microseconds: 2025-02-11 13:17:46\n"
     ]
    }
   ],
   "source": [
    "from datetime import datetime\n",
    "current_datetime = datetime.now()\n",
    "\n",
    "datetime_without_microseconds = current_datetime.replace(microsecond=0)\n",
    "\n",
    "print(\"Original Datetime:\", current_datetime)\n",
    "print(\"Datetime Without Microseconds:\", datetime_without_microseconds)"
   ]
  },
  {
   "cell_type": "markdown",
   "id": "af65efb9-de2a-46ab-860e-ca8563a030ee",
   "metadata": {},
   "source": [
    "TASK 4"
   ]
  },
  {
   "cell_type": "code",
   "execution_count": 54,
   "id": "98187206-4a8a-4ac9-b150-ffc7e7d28e93",
   "metadata": {},
   "outputs": [
    {
     "name": "stdin",
     "output_type": "stream",
     "text": [
      "Enter the first date (YYYY-MM-DD HH:MM:SS):  2024-02-10 12:00:00\n",
      "Enter the second date (YYYY-MM-DD HH:MM:SS):  2024-02-10 14:30:30\n"
     ]
    },
    {
     "name": "stdout",
     "output_type": "stream",
     "text": [
      "Difference between the two dates: 9030.0 seconds\n"
     ]
    }
   ],
   "source": [
    "from datetime import datetime\n",
    "\n",
    "date_format = \"%Y-%m-%d %H:%M:%S\"  \n",
    "\n",
    "date1_str = input(\"Enter the first date (YYYY-MM-DD HH:MM:SS): \")\n",
    "date2_str = input(\"Enter the second date (YYYY-MM-DD HH:MM:SS): \")\n",
    "\n",
    "date1 = datetime.strptime(date1_str, date_format)\n",
    "date2 = datetime.strptime(date2_str, date_format)\n",
    "\n",
    "difference_in_seconds = abs((date2 - date1).total_seconds())\n",
    "\n",
    "print(f\"Difference between the two dates: {difference_in_seconds} seconds\")"
   ]
  },
  {
   "cell_type": "markdown",
   "id": "e48ad2d0-6cfb-4265-82bd-91a17cb8beac",
   "metadata": {},
   "source": [
    "JSON"
   ]
  },
  {
   "cell_type": "code",
   "execution_count": 87,
   "id": "d38aee6f-6d6c-4c70-8b9d-206c50ce92bf",
   "metadata": {},
   "outputs": [
    {
     "name": "stdout",
     "output_type": "stream",
     "text": [
      "Interface Status\n",
      "======================================================================\n",
      "DN                                                 Description     Speed      MTU  \n",
      "----------------------------------------------------------------------\n",
      "topology/pod-1/node-201/sys/phys-[eth1/33]         N/A             inherit    9150 \n",
      "topology/pod-1/node-201/sys/phys-[eth1/34]         N/A             inherit    9150 \n",
      "topology/pod-1/node-201/sys/phys-[eth1/35]         N/A             inherit    9150 \n",
      "topology/pod-1/node-201/sys/phys-[eth1/36]         N/A             inherit    9150 \n",
      "topology/pod-1/node-201/sys/phys-[eth1/1]          N/A             inherit    9150 \n",
      "topology/pod-1/node-201/sys/phys-[eth1/2]          N/A             inherit    9150 \n",
      "topology/pod-1/node-201/sys/phys-[eth1/3]          N/A             inherit    9150 \n",
      "topology/pod-1/node-201/sys/phys-[eth1/4]          N/A             inherit    9150 \n",
      "topology/pod-1/node-201/sys/phys-[eth1/5]          N/A             inherit    9150 \n",
      "topology/pod-1/node-201/sys/phys-[eth1/6]          N/A             inherit    9150 \n",
      "topology/pod-1/node-201/sys/phys-[eth1/7]          N/A             inherit    9150 \n",
      "topology/pod-1/node-201/sys/phys-[eth1/8]          N/A             inherit    9150 \n",
      "topology/pod-1/node-201/sys/phys-[eth1/9]          N/A             inherit    9150 \n",
      "topology/pod-1/node-201/sys/phys-[eth1/10]         N/A             inherit    9150 \n",
      "topology/pod-1/node-201/sys/phys-[eth1/11]         N/A             inherit    9150 \n",
      "topology/pod-1/node-201/sys/phys-[eth1/12]         N/A             inherit    9150 \n",
      "topology/pod-1/node-201/sys/phys-[eth1/13]         N/A             inherit    9150 \n",
      "topology/pod-1/node-201/sys/phys-[eth1/14]         N/A             inherit    9150 \n"
     ]
    }
   ],
   "source": [
    "import json\n",
    "\n",
    "with open(\"C:/Users/MyNote/Downloads/sample-data.json\", \"r\") as file:\n",
    "    data = json.load(file)\n",
    "\n",
    "print(\"Interface Status\")\n",
    "print(\"=\" * 70)\n",
    "print(f\"{'DN':<50} {'Description':<15} {'Speed':<10} {'MTU':<5}\")\n",
    "print(\"-\" * 70)\n",
    "\n",
    "for item in data[\"imdata\"]:\n",
    "    attributes = item[\"l1PhysIf\"][\"attributes\"]\n",
    "    dn = attributes[\"dn\"]\n",
    "    description = attributes[\"descr\"] if attributes[\"descr\"] else \"N/A\"  \n",
    "    speed = attributes[\"speed\"]\n",
    "    mtu = attributes[\"mtu\"]\n",
    "    \n",
    "    print(f\"{dn:<50} {description:<15} {speed:<10} {mtu:<5}\")"
   ]
  },
  {
   "cell_type": "code",
   "execution_count": null,
   "id": "59371ecb-c60b-4e90-aaca-700bc4160f2c",
   "metadata": {},
   "outputs": [],
   "source": []
  },
  {
   "cell_type": "code",
   "execution_count": null,
   "id": "37cb7420-32a9-4165-970f-42eaa336818e",
   "metadata": {},
   "outputs": [],
   "source": []
  }
 ],
 "metadata": {
  "kernelspec": {
   "display_name": "Python [conda env:base] *",
   "language": "python",
   "name": "conda-base-py"
  },
  "language_info": {
   "codemirror_mode": {
    "name": "ipython",
    "version": 3
   },
   "file_extension": ".py",
   "mimetype": "text/x-python",
   "name": "python",
   "nbconvert_exporter": "python",
   "pygments_lexer": "ipython3",
   "version": "3.12.7"
  }
 },
 "nbformat": 4,
 "nbformat_minor": 5
}
